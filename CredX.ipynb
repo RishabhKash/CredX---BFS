{
 "cells": [
  {
   "cell_type": "code",
   "execution_count": 1,
   "metadata": {},
   "outputs": [],
   "source": [
    "import warnings\n",
    "warnings.filterwarnings('ignore')"
   ]
  },
  {
   "cell_type": "code",
   "execution_count": 2,
   "metadata": {},
   "outputs": [],
   "source": [
    "# Importing few required libraries\n",
    "import numpy as np\n",
    "import pandas as pd\n",
    "import matplotlib.pyplot as plt\n",
    "import seaborn as sns"
   ]
  },
  {
   "cell_type": "code",
   "execution_count": 3,
   "metadata": {},
   "outputs": [
    {
     "data": {
      "text/html": [
       "<div>\n",
       "<style scoped>\n",
       "    .dataframe tbody tr th:only-of-type {\n",
       "        vertical-align: middle;\n",
       "    }\n",
       "\n",
       "    .dataframe tbody tr th {\n",
       "        vertical-align: top;\n",
       "    }\n",
       "\n",
       "    .dataframe thead th {\n",
       "        text-align: right;\n",
       "    }\n",
       "</style>\n",
       "<table border=\"1\" class=\"dataframe\">\n",
       "  <thead>\n",
       "    <tr style=\"text-align: right;\">\n",
       "      <th></th>\n",
       "      <th>Application ID</th>\n",
       "      <th>Age</th>\n",
       "      <th>Gender</th>\n",
       "      <th>Marital Status (at the time of application)</th>\n",
       "      <th>No of dependents</th>\n",
       "      <th>Income</th>\n",
       "      <th>Education</th>\n",
       "      <th>Profession</th>\n",
       "      <th>Type of residence</th>\n",
       "      <th>No of months in current residence</th>\n",
       "      <th>No of months in current company</th>\n",
       "      <th>Performance Tag</th>\n",
       "    </tr>\n",
       "  </thead>\n",
       "  <tbody>\n",
       "    <tr>\n",
       "      <td>0</td>\n",
       "      <td>954457215</td>\n",
       "      <td>48</td>\n",
       "      <td>F</td>\n",
       "      <td>Married</td>\n",
       "      <td>2.0</td>\n",
       "      <td>40.0</td>\n",
       "      <td>Bachelor</td>\n",
       "      <td>SAL</td>\n",
       "      <td>Rented</td>\n",
       "      <td>113</td>\n",
       "      <td>56</td>\n",
       "      <td>0.0</td>\n",
       "    </tr>\n",
       "    <tr>\n",
       "      <td>1</td>\n",
       "      <td>432830445</td>\n",
       "      <td>31</td>\n",
       "      <td>M</td>\n",
       "      <td>Married</td>\n",
       "      <td>4.0</td>\n",
       "      <td>55.0</td>\n",
       "      <td>Professional</td>\n",
       "      <td>SE_PROF</td>\n",
       "      <td>Rented</td>\n",
       "      <td>112</td>\n",
       "      <td>46</td>\n",
       "      <td>0.0</td>\n",
       "    </tr>\n",
       "    <tr>\n",
       "      <td>2</td>\n",
       "      <td>941387308</td>\n",
       "      <td>32</td>\n",
       "      <td>M</td>\n",
       "      <td>Single</td>\n",
       "      <td>2.0</td>\n",
       "      <td>46.0</td>\n",
       "      <td>Bachelor</td>\n",
       "      <td>SE_PROF</td>\n",
       "      <td>Rented</td>\n",
       "      <td>104</td>\n",
       "      <td>49</td>\n",
       "      <td>0.0</td>\n",
       "    </tr>\n",
       "    <tr>\n",
       "      <td>3</td>\n",
       "      <td>392161677</td>\n",
       "      <td>43</td>\n",
       "      <td>M</td>\n",
       "      <td>Married</td>\n",
       "      <td>1.0</td>\n",
       "      <td>53.0</td>\n",
       "      <td>Bachelor</td>\n",
       "      <td>SE</td>\n",
       "      <td>Rented</td>\n",
       "      <td>94</td>\n",
       "      <td>53</td>\n",
       "      <td>0.0</td>\n",
       "    </tr>\n",
       "    <tr>\n",
       "      <td>4</td>\n",
       "      <td>182011211</td>\n",
       "      <td>35</td>\n",
       "      <td>F</td>\n",
       "      <td>Married</td>\n",
       "      <td>5.0</td>\n",
       "      <td>44.0</td>\n",
       "      <td>Professional</td>\n",
       "      <td>SAL</td>\n",
       "      <td>Rented</td>\n",
       "      <td>112</td>\n",
       "      <td>43</td>\n",
       "      <td>0.0</td>\n",
       "    </tr>\n",
       "  </tbody>\n",
       "</table>\n",
       "</div>"
      ],
      "text/plain": [
       "   Application ID  Age Gender Marital Status (at the time of application)  \\\n",
       "0       954457215   48      F                                     Married   \n",
       "1       432830445   31      M                                     Married   \n",
       "2       941387308   32      M                                      Single   \n",
       "3       392161677   43      M                                     Married   \n",
       "4       182011211   35      F                                     Married   \n",
       "\n",
       "   No of dependents  Income     Education Profession  Type of residence  \\\n",
       "0               2.0    40.0      Bachelor         SAL            Rented   \n",
       "1               4.0    55.0  Professional     SE_PROF            Rented   \n",
       "2               2.0    46.0      Bachelor     SE_PROF            Rented   \n",
       "3               1.0    53.0      Bachelor          SE            Rented   \n",
       "4               5.0    44.0  Professional         SAL            Rented   \n",
       "\n",
       "   No of months in current residence  No of months in current company  \\\n",
       "0                                113                               56   \n",
       "1                                112                               46   \n",
       "2                                104                               49   \n",
       "3                                 94                               53   \n",
       "4                                112                               43   \n",
       "\n",
       "   Performance Tag  \n",
       "0              0.0  \n",
       "1              0.0  \n",
       "2              0.0  \n",
       "3              0.0  \n",
       "4              0.0  "
      ]
     },
     "execution_count": 3,
     "metadata": {},
     "output_type": "execute_result"
    }
   ],
   "source": [
    "# Loading and checking the first five rows of the data set\n",
    "df = pd.read_csv('Demographic data.csv')\n",
    "df.head()"
   ]
  },
  {
   "cell_type": "code",
   "execution_count": 4,
   "metadata": {},
   "outputs": [
    {
     "data": {
      "text/plain": [
       "(71295, 12)"
      ]
     },
     "execution_count": 4,
     "metadata": {},
     "output_type": "execute_result"
    }
   ],
   "source": [
    "# Total number of rows and columns in demographic data\n",
    "df.shape"
   ]
  },
  {
   "cell_type": "code",
   "execution_count": 5,
   "metadata": {},
   "outputs": [
    {
     "name": "stdout",
     "output_type": "stream",
     "text": [
      "<class 'pandas.core.frame.DataFrame'>\n",
      "RangeIndex: 71295 entries, 0 to 71294\n",
      "Data columns (total 12 columns):\n",
      "Application ID                                 71295 non-null int64\n",
      "Age                                            71295 non-null int64\n",
      "Gender                                         71293 non-null object\n",
      "Marital Status (at the time of application)    71289 non-null object\n",
      "No of dependents                               71292 non-null float64\n",
      "Income                                         71295 non-null float64\n",
      "Education                                      71176 non-null object\n",
      "Profession                                     71281 non-null object\n",
      "Type of residence                              71287 non-null object\n",
      "No of months in current residence              71295 non-null int64\n",
      "No of months in current company                71295 non-null int64\n",
      "Performance Tag                                69870 non-null float64\n",
      "dtypes: float64(3), int64(4), object(5)\n",
      "memory usage: 6.5+ MB\n"
     ]
    }
   ],
   "source": [
    "# Data type of all columns\n",
    "df.info()"
   ]
  },
  {
   "cell_type": "code",
   "execution_count": 6,
   "metadata": {},
   "outputs": [
    {
     "data": {
      "text/plain": [
       "Application ID                                    0\n",
       "Age                                               0\n",
       "Gender                                            2\n",
       "Marital Status (at the time of application)       6\n",
       "No of dependents                                  3\n",
       "Income                                            0\n",
       "Education                                       119\n",
       "Profession                                       14\n",
       "Type of residence                                 8\n",
       "No of months in current residence                 0\n",
       "No of months in current company                   0\n",
       "Performance Tag                                1425\n",
       "dtype: int64"
      ]
     },
     "execution_count": 6,
     "metadata": {},
     "output_type": "execute_result"
    }
   ],
   "source": [
    "# Total number of missing values, column wise\n",
    "df.isnull().sum()"
   ]
  },
  {
   "cell_type": "code",
   "execution_count": 7,
   "metadata": {},
   "outputs": [
    {
     "data": {
      "text/plain": [
       "Application ID                                 0.00\n",
       "Age                                            0.00\n",
       "Gender                                         0.00\n",
       "Marital Status (at the time of application)    0.01\n",
       "No of dependents                               0.00\n",
       "Income                                         0.00\n",
       "Education                                      0.17\n",
       "Profession                                     0.02\n",
       "Type of residence                              0.01\n",
       "No of months in current residence              0.00\n",
       "No of months in current company                0.00\n",
       "Performance Tag                                2.00\n",
       "dtype: float64"
      ]
     },
     "execution_count": 7,
     "metadata": {},
     "output_type": "execute_result"
    }
   ],
   "source": [
    "# Missing values in percentage\n",
    "round(100*(df.isnull().sum())/len(df),2)"
   ]
  },
  {
   "cell_type": "code",
   "execution_count": 8,
   "metadata": {},
   "outputs": [
    {
     "data": {
      "text/plain": [
       "0.0    66922\n",
       "1.0     2948\n",
       "Name: Performance Tag, dtype: int64"
      ]
     },
     "execution_count": 8,
     "metadata": {},
     "output_type": "execute_result"
    }
   ],
   "source": [
    "# Checking the total counts of non-default and default cases\n",
    "df['Performance Tag'].value_counts()"
   ]
  },
  {
   "cell_type": "code",
   "execution_count": 9,
   "metadata": {},
   "outputs": [],
   "source": [
    "# Dropping rows with null values since we have a lot of records & imputing Performance Tag will introduce bias\n",
    "# more as it's the predictor column\n",
    "df.dropna(inplace = True)"
   ]
  },
  {
   "cell_type": "code",
   "execution_count": 10,
   "metadata": {},
   "outputs": [
    {
     "data": {
      "text/plain": [
       "Application ID                                 0\n",
       "Age                                            0\n",
       "Gender                                         0\n",
       "Marital Status (at the time of application)    0\n",
       "No of dependents                               0\n",
       "Income                                         0\n",
       "Education                                      0\n",
       "Profession                                     0\n",
       "Type of residence                              0\n",
       "No of months in current residence              0\n",
       "No of months in current company                0\n",
       "Performance Tag                                0\n",
       "dtype: int64"
      ]
     },
     "execution_count": 10,
     "metadata": {},
     "output_type": "execute_result"
    }
   ],
   "source": [
    "# Column wise missing values\n",
    "df.isnull().sum()"
   ]
  },
  {
   "cell_type": "code",
   "execution_count": 11,
   "metadata": {},
   "outputs": [
    {
     "data": {
      "text/plain": [
       "(69721, 12)"
      ]
     },
     "execution_count": 11,
     "metadata": {},
     "output_type": "execute_result"
    }
   ],
   "source": [
    "# Remaining count of rows and column post removal of records with null value\n",
    "df.shape"
   ]
  },
  {
   "cell_type": "code",
   "execution_count": 12,
   "metadata": {},
   "outputs": [],
   "source": [
    "# Creating a copy of df\n",
    "dd = df.copy()"
   ]
  },
  {
   "cell_type": "markdown",
   "metadata": {},
   "source": [
    "### EDA"
   ]
  },
  {
   "cell_type": "code",
   "execution_count": 13,
   "metadata": {},
   "outputs": [
    {
     "data": {
      "text/plain": [
       "False    69659\n",
       "True        62\n",
       "Name: Age, dtype: int64"
      ]
     },
     "execution_count": 13,
     "metadata": {},
     "output_type": "execute_result"
    }
   ],
   "source": [
    "# Total count of credit card applicants with age lesser than 18\n",
    "(df['Age'] < 18).value_counts()"
   ]
  },
  {
   "cell_type": "code",
   "execution_count": 14,
   "metadata": {},
   "outputs": [
    {
     "data": {
      "text/plain": [
       "(69659, 12)"
      ]
     },
     "execution_count": 14,
     "metadata": {},
     "output_type": "execute_result"
    }
   ],
   "source": [
    "# Assuming a minimum age of 18 is required to get a credit card, we'll drop the records with age < 18\n",
    "df.drop(df[df['Age'] < 18].index, inplace = True)\n",
    "df.shape"
   ]
  },
  {
   "cell_type": "code",
   "execution_count": 15,
   "metadata": {},
   "outputs": [
    {
     "data": {
      "text/html": [
       "<div>\n",
       "<style scoped>\n",
       "    .dataframe tbody tr th:only-of-type {\n",
       "        vertical-align: middle;\n",
       "    }\n",
       "\n",
       "    .dataframe tbody tr th {\n",
       "        vertical-align: top;\n",
       "    }\n",
       "\n",
       "    .dataframe thead th {\n",
       "        text-align: right;\n",
       "    }\n",
       "</style>\n",
       "<table border=\"1\" class=\"dataframe\">\n",
       "  <thead>\n",
       "    <tr style=\"text-align: right;\">\n",
       "      <th></th>\n",
       "      <th>Application ID</th>\n",
       "      <th>Age</th>\n",
       "      <th>Gender</th>\n",
       "      <th>Marital Status (at the time of application)</th>\n",
       "      <th>No of dependents</th>\n",
       "      <th>Income</th>\n",
       "      <th>Education</th>\n",
       "      <th>Profession</th>\n",
       "      <th>Type of residence</th>\n",
       "      <th>No of months in current residence</th>\n",
       "      <th>No of months in current company</th>\n",
       "      <th>Performance Tag</th>\n",
       "      <th>Age_bin</th>\n",
       "    </tr>\n",
       "  </thead>\n",
       "  <tbody>\n",
       "    <tr>\n",
       "      <td>0</td>\n",
       "      <td>954457215</td>\n",
       "      <td>48</td>\n",
       "      <td>F</td>\n",
       "      <td>Married</td>\n",
       "      <td>2.0</td>\n",
       "      <td>40.0</td>\n",
       "      <td>Bachelor</td>\n",
       "      <td>SAL</td>\n",
       "      <td>Rented</td>\n",
       "      <td>113</td>\n",
       "      <td>56</td>\n",
       "      <td>0.0</td>\n",
       "      <td>(40.0, 50.0]</td>\n",
       "    </tr>\n",
       "    <tr>\n",
       "      <td>1</td>\n",
       "      <td>432830445</td>\n",
       "      <td>31</td>\n",
       "      <td>M</td>\n",
       "      <td>Married</td>\n",
       "      <td>4.0</td>\n",
       "      <td>55.0</td>\n",
       "      <td>Professional</td>\n",
       "      <td>SE_PROF</td>\n",
       "      <td>Rented</td>\n",
       "      <td>112</td>\n",
       "      <td>46</td>\n",
       "      <td>0.0</td>\n",
       "      <td>(30.0, 40.0]</td>\n",
       "    </tr>\n",
       "    <tr>\n",
       "      <td>2</td>\n",
       "      <td>941387308</td>\n",
       "      <td>32</td>\n",
       "      <td>M</td>\n",
       "      <td>Single</td>\n",
       "      <td>2.0</td>\n",
       "      <td>46.0</td>\n",
       "      <td>Bachelor</td>\n",
       "      <td>SE_PROF</td>\n",
       "      <td>Rented</td>\n",
       "      <td>104</td>\n",
       "      <td>49</td>\n",
       "      <td>0.0</td>\n",
       "      <td>(30.0, 40.0]</td>\n",
       "    </tr>\n",
       "    <tr>\n",
       "      <td>3</td>\n",
       "      <td>392161677</td>\n",
       "      <td>43</td>\n",
       "      <td>M</td>\n",
       "      <td>Married</td>\n",
       "      <td>1.0</td>\n",
       "      <td>53.0</td>\n",
       "      <td>Bachelor</td>\n",
       "      <td>SE</td>\n",
       "      <td>Rented</td>\n",
       "      <td>94</td>\n",
       "      <td>53</td>\n",
       "      <td>0.0</td>\n",
       "      <td>(40.0, 50.0]</td>\n",
       "    </tr>\n",
       "    <tr>\n",
       "      <td>4</td>\n",
       "      <td>182011211</td>\n",
       "      <td>35</td>\n",
       "      <td>F</td>\n",
       "      <td>Married</td>\n",
       "      <td>5.0</td>\n",
       "      <td>44.0</td>\n",
       "      <td>Professional</td>\n",
       "      <td>SAL</td>\n",
       "      <td>Rented</td>\n",
       "      <td>112</td>\n",
       "      <td>43</td>\n",
       "      <td>0.0</td>\n",
       "      <td>(30.0, 40.0]</td>\n",
       "    </tr>\n",
       "  </tbody>\n",
       "</table>\n",
       "</div>"
      ],
      "text/plain": [
       "   Application ID  Age Gender Marital Status (at the time of application)  \\\n",
       "0       954457215   48      F                                     Married   \n",
       "1       432830445   31      M                                     Married   \n",
       "2       941387308   32      M                                      Single   \n",
       "3       392161677   43      M                                     Married   \n",
       "4       182011211   35      F                                     Married   \n",
       "\n",
       "   No of dependents  Income     Education Profession  Type of residence  \\\n",
       "0               2.0    40.0      Bachelor         SAL            Rented   \n",
       "1               4.0    55.0  Professional     SE_PROF            Rented   \n",
       "2               2.0    46.0      Bachelor     SE_PROF            Rented   \n",
       "3               1.0    53.0      Bachelor          SE            Rented   \n",
       "4               5.0    44.0  Professional         SAL            Rented   \n",
       "\n",
       "   No of months in current residence  No of months in current company  \\\n",
       "0                                113                               56   \n",
       "1                                112                               46   \n",
       "2                                104                               49   \n",
       "3                                 94                               53   \n",
       "4                                112                               43   \n",
       "\n",
       "   Performance Tag       Age_bin  \n",
       "0              0.0  (40.0, 50.0]  \n",
       "1              0.0  (30.0, 40.0]  \n",
       "2              0.0  (30.0, 40.0]  \n",
       "3              0.0  (40.0, 50.0]  \n",
       "4              0.0  (30.0, 40.0]  "
      ]
     },
     "execution_count": 15,
     "metadata": {},
     "output_type": "execute_result"
    }
   ],
   "source": [
    "# Bining the continuous feature - Age\n",
    "bins = np.arange(10, df['Age'].max()+10, 10)\n",
    "df['Age_bin'] = pd.cut(df['Age'], bins, include_lowest = True)\n",
    "df.head()"
   ]
  },
  {
   "cell_type": "code",
   "execution_count": 16,
   "metadata": {},
   "outputs": [
    {
     "data": {
      "image/png": "[encoded data removed]",
      "text/plain": [
       "<Figure size 432x288 with 1 Axes>"
      ]
     },
     "metadata": {
      "needs_background": "light"
     },
     "output_type": "display_data"
    }
   ],
   "source": [
    "# Plotting Age_bin with Performance Tag\n",
    "sns.countplot(data=df,x='Age_bin', hue=\"Performance Tag\")\n",
    "plt.show()"
   ]
  },
  {
   "cell_type": "code",
   "execution_count": 17,
   "metadata": {},
   "outputs": [
    {
     "data": {
      "text/plain": [
       "M    53195\n",
       "F    16464\n",
       "Name: Gender, dtype: int64"
      ]
     },
     "execution_count": 17,
     "metadata": {},
     "output_type": "execute_result"
    }
   ],
   "source": [
    "# Majority of default has happened from age group of 28 - 58. However we cannot assume this as the total count\n",
    "# of default is very less\n",
    "\n",
    "# Gender column\n",
    "df['Gender'].value_counts()"
   ]
  },
  {
   "cell_type": "code",
   "execution_count": 18,
   "metadata": {},
   "outputs": [
    {
     "data": {
      "image/png": "[encoded data removed]",
      "text/plain": [
       "<Figure size 432x288 with 1 Axes>"
      ]
     },
     "metadata": {
      "needs_background": "light"
     },
     "output_type": "display_data"
    }
   ],
   "source": [
    "# Majority of applicants are male\n",
    "\n",
    "# Plotting Gender with Performance Tag\n",
    "sns.countplot(data=df,x='Gender', hue=\"Performance Tag\")\n",
    "plt.show()"
   ]
  },
  {
   "cell_type": "code",
   "execution_count": 19,
   "metadata": {},
   "outputs": [
    {
     "data": {
      "text/plain": [
       "Married    59388\n",
       "Single     10271\n",
       "Name: Marital Status (at the time of application), dtype: int64"
      ]
     },
     "execution_count": 19,
     "metadata": {},
     "output_type": "execute_result"
    }
   ],
   "source": [
    "# Males have defaulted in higher number which is due to higher number of male applicants\n",
    "\n",
    "# Marital Status\n",
    "df['Marital Status (at the time of application)'].value_counts()"
   ]
  },
  {
   "cell_type": "code",
   "execution_count": 20,
   "metadata": {},
   "outputs": [
    {
     "data": {
      "image/png": "[encoded data removed]",
      "text/plain": [
       "<Figure size 432x288 with 1 Axes>"
      ]
     },
     "metadata": {
      "needs_background": "light"
     },
     "output_type": "display_data"
    }
   ],
   "source": [
    "# Majority of applicants are Married\n",
    "\n",
    "# Plotting Marital Status with Performance tag\n",
    "sns.countplot(data = df, x = 'Marital Status (at the time of application)', hue = 'Performance Tag')\n",
    "plt.show()"
   ]
  },
  {
   "cell_type": "code",
   "execution_count": 21,
   "metadata": {},
   "outputs": [
    {
     "data": {
      "text/plain": [
       "3.0    15591\n",
       "1.0    15164\n",
       "2.0    15080\n",
       "4.0    11973\n",
       "5.0    11851\n",
       "Name: No of dependents, dtype: int64"
      ]
     },
     "execution_count": 21,
     "metadata": {},
     "output_type": "execute_result"
    }
   ],
   "source": [
    "# Same result of Gender. We have more married defaulters due to higher number of married applicants\n",
    "\n",
    "# No of dependents\n",
    "df['No of dependents'].value_counts()"
   ]
  },
  {
   "cell_type": "code",
   "execution_count": 22,
   "metadata": {},
   "outputs": [
    {
     "data": {
      "image/png": "[encoded data removed]",
      "text/plain": [
       "<Figure size 432x288 with 1 Axes>"
      ]
     },
     "metadata": {
      "needs_background": "light"
     },
     "output_type": "display_data"
    }
   ],
   "source": [
    "# We have even distribution of dependents\n",
    "\n",
    "# Plotting dependents with Performance Tag\n",
    "sns.countplot(data = df, x = 'No of dependents', hue = 'Performance Tag')\n",
    "plt.show()"
   ]
  },
  {
   "cell_type": "code",
   "execution_count": 23,
   "metadata": {},
   "outputs": [
    {
     "data": {
      "text/plain": [
       "-0.5"
      ]
     },
     "execution_count": 23,
     "metadata": {},
     "output_type": "execute_result"
    }
   ],
   "source": [
    "# Count of default is higher at 3 dependents but insignificant in comparison with other\n",
    "\n",
    "# Income\n",
    "df['Income'].min()"
   ]
  },
  {
   "cell_type": "code",
   "execution_count": 24,
   "metadata": {},
   "outputs": [
    {
     "data": {
      "text/html": [
       "<div>\n",
       "<style scoped>\n",
       "    .dataframe tbody tr th:only-of-type {\n",
       "        vertical-align: middle;\n",
       "    }\n",
       "\n",
       "    .dataframe tbody tr th {\n",
       "        vertical-align: top;\n",
       "    }\n",
       "\n",
       "    .dataframe thead th {\n",
       "        text-align: right;\n",
       "    }\n",
       "</style>\n",
       "<table border=\"1\" class=\"dataframe\">\n",
       "  <thead>\n",
       "    <tr style=\"text-align: right;\">\n",
       "      <th></th>\n",
       "      <th>Application ID</th>\n",
       "      <th>Age</th>\n",
       "      <th>Gender</th>\n",
       "      <th>Marital Status (at the time of application)</th>\n",
       "      <th>No of dependents</th>\n",
       "      <th>Income</th>\n",
       "      <th>Education</th>\n",
       "      <th>Profession</th>\n",
       "      <th>Type of residence</th>\n",
       "      <th>No of months in current residence</th>\n",
       "      <th>No of months in current company</th>\n",
       "      <th>Performance Tag</th>\n",
       "      <th>Age_bin</th>\n",
       "      <th>Income_bin</th>\n",
       "    </tr>\n",
       "  </thead>\n",
       "  <tbody>\n",
       "    <tr>\n",
       "      <td>0</td>\n",
       "      <td>954457215</td>\n",
       "      <td>48</td>\n",
       "      <td>F</td>\n",
       "      <td>Married</td>\n",
       "      <td>2.0</td>\n",
       "      <td>40.0</td>\n",
       "      <td>Bachelor</td>\n",
       "      <td>SAL</td>\n",
       "      <td>Rented</td>\n",
       "      <td>113</td>\n",
       "      <td>56</td>\n",
       "      <td>0.0</td>\n",
       "      <td>(40.0, 50.0]</td>\n",
       "      <td>(30.0, 40.0]</td>\n",
       "    </tr>\n",
       "    <tr>\n",
       "      <td>1</td>\n",
       "      <td>432830445</td>\n",
       "      <td>31</td>\n",
       "      <td>M</td>\n",
       "      <td>Married</td>\n",
       "      <td>4.0</td>\n",
       "      <td>55.0</td>\n",
       "      <td>Professional</td>\n",
       "      <td>SE_PROF</td>\n",
       "      <td>Rented</td>\n",
       "      <td>112</td>\n",
       "      <td>46</td>\n",
       "      <td>0.0</td>\n",
       "      <td>(30.0, 40.0]</td>\n",
       "      <td>(50.0, 60.0]</td>\n",
       "    </tr>\n",
       "    <tr>\n",
       "      <td>2</td>\n",
       "      <td>941387308</td>\n",
       "      <td>32</td>\n",
       "      <td>M</td>\n",
       "      <td>Single</td>\n",
       "      <td>2.0</td>\n",
       "      <td>46.0</td>\n",
       "      <td>Bachelor</td>\n",
       "      <td>SE_PROF</td>\n",
       "      <td>Rented</td>\n",
       "      <td>104</td>\n",
       "      <td>49</td>\n",
       "      <td>0.0</td>\n",
       "      <td>(30.0, 40.0]</td>\n",
       "      <td>(40.0, 50.0]</td>\n",
       "    </tr>\n",
       "    <tr>\n",
       "      <td>3</td>\n",
       "      <td>392161677</td>\n",
       "      <td>43</td>\n",
       "      <td>M</td>\n",
       "      <td>Married</td>\n",
       "      <td>1.0</td>\n",
       "      <td>53.0</td>\n",
       "      <td>Bachelor</td>\n",
       "      <td>SE</td>\n",
       "      <td>Rented</td>\n",
       "      <td>94</td>\n",
       "      <td>53</td>\n",
       "      <td>0.0</td>\n",
       "      <td>(40.0, 50.0]</td>\n",
       "      <td>(50.0, 60.0]</td>\n",
       "    </tr>\n",
       "    <tr>\n",
       "      <td>4</td>\n",
       "      <td>182011211</td>\n",
       "      <td>35</td>\n",
       "      <td>F</td>\n",
       "      <td>Married</td>\n",
       "      <td>5.0</td>\n",
       "      <td>44.0</td>\n",
       "      <td>Professional</td>\n",
       "      <td>SAL</td>\n",
       "      <td>Rented</td>\n",
       "      <td>112</td>\n",
       "      <td>43</td>\n",
       "      <td>0.0</td>\n",
       "      <td>(30.0, 40.0]</td>\n",
       "      <td>(40.0, 50.0]</td>\n",
       "    </tr>\n",
       "  </tbody>\n",
       "</table>\n",
       "</div>"
      ],
      "text/plain": [
       "   Application ID  Age Gender Marital Status (at the time of application)  \\\n",
       "0       954457215   48      F                                     Married   \n",
       "1       432830445   31      M                                     Married   \n",
       "2       941387308   32      M                                      Single   \n",
       "3       392161677   43      M                                     Married   \n",
       "4       182011211   35      F                                     Married   \n",
       "\n",
       "   No of dependents  Income     Education Profession  Type of residence  \\\n",
       "0               2.0    40.0      Bachelor         SAL            Rented   \n",
       "1               4.0    55.0  Professional     SE_PROF            Rented   \n",
       "2               2.0    46.0      Bachelor     SE_PROF            Rented   \n",
       "3               1.0    53.0      Bachelor          SE            Rented   \n",
       "4               5.0    44.0  Professional         SAL            Rented   \n",
       "\n",
       "   No of months in current residence  No of months in current company  \\\n",
       "0                                113                               56   \n",
       "1                                112                               46   \n",
       "2                                104                               49   \n",
       "3                                 94                               53   \n",
       "4                                112                               43   \n",
       "\n",
       "   Performance Tag       Age_bin    Income_bin  \n",
       "0              0.0  (40.0, 50.0]  (30.0, 40.0]  \n",
       "1              0.0  (30.0, 40.0]  (50.0, 60.0]  \n",
       "2              0.0  (30.0, 40.0]  (40.0, 50.0]  \n",
       "3              0.0  (40.0, 50.0]  (50.0, 60.0]  \n",
       "4              0.0  (30.0, 40.0]  (40.0, 50.0]  "
      ]
     },
     "execution_count": 24,
     "metadata": {},
     "output_type": "execute_result"
    }
   ],
   "source": [
    "# Dropping records with income less then 0, assuming that negative income is not possible\n",
    "df.drop(df[df['Income'] < 0].index, inplace = True)\n",
    "\n",
    "# Bining Income\n",
    "bins = np.arange(0, df['Income'].max() + 10, 10)\n",
    "df['Income_bin'] = pd.cut(df['Income'], bins, include_lowest = True)\n",
    "df.head()"
   ]
  },
  {
   "cell_type": "code",
   "execution_count": 25,
   "metadata": {},
   "outputs": [
    {
     "data": {
      "image/png": "[encoded data removed]",
      "text/plain": [
       "<Figure size 432x288 with 1 Axes>"
      ]
     },
     "metadata": {
      "needs_background": "light"
     },
     "output_type": "display_data"
    }
   ],
   "source": [
    "# Plotting Income_bin with Performance Tag\n",
    "ax = sns.countplot(data = df, x = 'Income_bin', hue = 'Performance Tag')\n",
    "ax.set_xticklabels(ax.get_xticklabels(), rotation = 90)\n",
    "plt.show()"
   ]
  },
  {
   "cell_type": "code",
   "execution_count": 26,
   "metadata": {},
   "outputs": [
    {
     "data": {
      "text/plain": [
       "Professional    24312\n",
       "Masters         23431\n",
       "Bachelor        17265\n",
       "Phd              4454\n",
       "Others            117\n",
       "Name: Education, dtype: int64"
      ]
     },
     "execution_count": 26,
     "metadata": {},
     "output_type": "execute_result"
    }
   ],
   "source": [
    "# Decreasing default trend is observed with the increase in income\n",
    "\n",
    "# Education\n",
    "df['Education'].value_counts()"
   ]
  },
  {
   "cell_type": "code",
   "execution_count": 27,
   "metadata": {},
   "outputs": [
    {
     "data": {
      "image/png": "[encoded data removed]",
      "text/plain": [
       "<Figure size 432x288 with 1 Axes>"
      ]
     },
     "metadata": {
      "needs_background": "light"
     },
     "output_type": "display_data"
    }
   ],
   "source": [
    "# Plotting education with Performance Tag\n",
    "sns.countplot(data = df, x = 'Education', hue = 'Performance Tag')\n",
    "plt.show()"
   ]
  },
  {
   "cell_type": "code",
   "execution_count": 28,
   "metadata": {},
   "outputs": [
    {
     "data": {
      "text/plain": [
       "SAL        39524\n",
       "SE_PROF    16177\n",
       "SE         13878\n",
       "Name: Profession , dtype: int64"
      ]
     },
     "execution_count": 28,
     "metadata": {},
     "output_type": "execute_result"
    }
   ],
   "source": [
    "# No defaulters in others, however insignificant strength for assumption.\n",
    "# Count of defaulters is not significant in any education.\n",
    "\n",
    "# Profession\n",
    "df['Profession '].value_counts()"
   ]
  },
  {
   "cell_type": "code",
   "execution_count": 29,
   "metadata": {},
   "outputs": [
    {
     "data": {
      "image/png": "[encoded data removed]",
      "text/plain": [
       "<Figure size 432x288 with 1 Axes>"
      ]
     },
     "metadata": {
      "needs_background": "light"
     },
     "output_type": "display_data"
    }
   ],
   "source": [
    "# Plotting Profession with Performance tag\n",
    "sns.countplot(data = df, x = 'Profession ', hue = 'Performance Tag')\n",
    "plt.show()"
   ]
  },
  {
   "cell_type": "code",
   "execution_count": 30,
   "metadata": {},
   "outputs": [
    {
     "data": {
      "text/plain": [
       "Rented                 52097\n",
       "Owned                  13932\n",
       "Living with Parents     1758\n",
       "Company provided        1595\n",
       "Others                   197\n",
       "Name: Type of residence, dtype: int64"
      ]
     },
     "execution_count": 30,
     "metadata": {},
     "output_type": "execute_result"
    }
   ],
   "source": [
    "# SAL seems to have more defaulters but not significant\n",
    "\n",
    "# Type of residence\n",
    "df['Type of residence'].value_counts()"
   ]
  },
  {
   "cell_type": "code",
   "execution_count": 31,
   "metadata": {},
   "outputs": [
    {
     "data": {
      "image/png": "[encoded data removed]",
      "text/plain": [
       "<Figure size 432x288 with 1 Axes>"
      ]
     },
     "metadata": {
      "needs_background": "light"
     },
     "output_type": "display_data"
    }
   ],
   "source": [
    "# Plotting Type of residence with Performance Tag\n",
    "sns.countplot(data = df, x = 'Type of residence', hue = 'Performance Tag')\n",
    "plt.show()"
   ]
  },
  {
   "cell_type": "code",
   "execution_count": 32,
   "metadata": {},
   "outputs": [
    {
     "data": {
      "text/plain": [
       "False    69579\n",
       "Name: No of months in current residence, dtype: int64"
      ]
     },
     "execution_count": 32,
     "metadata": {},
     "output_type": "execute_result"
    }
   ],
   "source": [
    "# Rented residence has significant number of defaulters\n",
    "\n",
    "# No of months in current residence\n",
    "(df['No of months in current residence']<1).value_counts()"
   ]
  },
  {
   "cell_type": "code",
   "execution_count": 33,
   "metadata": {},
   "outputs": [
    {
     "data": {
      "text/html": [
       "<div>\n",
       "<style scoped>\n",
       "    .dataframe tbody tr th:only-of-type {\n",
       "        vertical-align: middle;\n",
       "    }\n",
       "\n",
       "    .dataframe tbody tr th {\n",
       "        vertical-align: top;\n",
       "    }\n",
       "\n",
       "    .dataframe thead th {\n",
       "        text-align: right;\n",
       "    }\n",
       "</style>\n",
       "<table border=\"1\" class=\"dataframe\">\n",
       "  <thead>\n",
       "    <tr style=\"text-align: right;\">\n",
       "      <th></th>\n",
       "      <th>Application ID</th>\n",
       "      <th>Age</th>\n",
       "      <th>Gender</th>\n",
       "      <th>Marital Status (at the time of application)</th>\n",
       "      <th>No of dependents</th>\n",
       "      <th>Income</th>\n",
       "      <th>Education</th>\n",
       "      <th>Profession</th>\n",
       "      <th>Type of residence</th>\n",
       "      <th>No of months in current residence</th>\n",
       "      <th>No of months in current company</th>\n",
       "      <th>Performance Tag</th>\n",
       "      <th>Age_bin</th>\n",
       "      <th>Income_bin</th>\n",
       "      <th>current_residence_bin</th>\n",
       "    </tr>\n",
       "  </thead>\n",
       "  <tbody>\n",
       "    <tr>\n",
       "      <td>0</td>\n",
       "      <td>954457215</td>\n",
       "      <td>48</td>\n",
       "      <td>F</td>\n",
       "      <td>Married</td>\n",
       "      <td>2.0</td>\n",
       "      <td>40.0</td>\n",
       "      <td>Bachelor</td>\n",
       "      <td>SAL</td>\n",
       "      <td>Rented</td>\n",
       "      <td>113</td>\n",
       "      <td>56</td>\n",
       "      <td>0.0</td>\n",
       "      <td>(40.0, 50.0]</td>\n",
       "      <td>(30.0, 40.0]</td>\n",
       "      <td>(110.0, 120.0]</td>\n",
       "    </tr>\n",
       "    <tr>\n",
       "      <td>1</td>\n",
       "      <td>432830445</td>\n",
       "      <td>31</td>\n",
       "      <td>M</td>\n",
       "      <td>Married</td>\n",
       "      <td>4.0</td>\n",
       "      <td>55.0</td>\n",
       "      <td>Professional</td>\n",
       "      <td>SE_PROF</td>\n",
       "      <td>Rented</td>\n",
       "      <td>112</td>\n",
       "      <td>46</td>\n",
       "      <td>0.0</td>\n",
       "      <td>(30.0, 40.0]</td>\n",
       "      <td>(50.0, 60.0]</td>\n",
       "      <td>(110.0, 120.0]</td>\n",
       "    </tr>\n",
       "    <tr>\n",
       "      <td>2</td>\n",
       "      <td>941387308</td>\n",
       "      <td>32</td>\n",
       "      <td>M</td>\n",
       "      <td>Single</td>\n",
       "      <td>2.0</td>\n",
       "      <td>46.0</td>\n",
       "      <td>Bachelor</td>\n",
       "      <td>SE_PROF</td>\n",
       "      <td>Rented</td>\n",
       "      <td>104</td>\n",
       "      <td>49</td>\n",
       "      <td>0.0</td>\n",
       "      <td>(30.0, 40.0]</td>\n",
       "      <td>(40.0, 50.0]</td>\n",
       "      <td>(100.0, 110.0]</td>\n",
       "    </tr>\n",
       "    <tr>\n",
       "      <td>3</td>\n",
       "      <td>392161677</td>\n",
       "      <td>43</td>\n",
       "      <td>M</td>\n",
       "      <td>Married</td>\n",
       "      <td>1.0</td>\n",
       "      <td>53.0</td>\n",
       "      <td>Bachelor</td>\n",
       "      <td>SE</td>\n",
       "      <td>Rented</td>\n",
       "      <td>94</td>\n",
       "      <td>53</td>\n",
       "      <td>0.0</td>\n",
       "      <td>(40.0, 50.0]</td>\n",
       "      <td>(50.0, 60.0]</td>\n",
       "      <td>(90.0, 100.0]</td>\n",
       "    </tr>\n",
       "    <tr>\n",
       "      <td>4</td>\n",
       "      <td>182011211</td>\n",
       "      <td>35</td>\n",
       "      <td>F</td>\n",
       "      <td>Married</td>\n",
       "      <td>5.0</td>\n",
       "      <td>44.0</td>\n",
       "      <td>Professional</td>\n",
       "      <td>SAL</td>\n",
       "      <td>Rented</td>\n",
       "      <td>112</td>\n",
       "      <td>43</td>\n",
       "      <td>0.0</td>\n",
       "      <td>(30.0, 40.0]</td>\n",
       "      <td>(40.0, 50.0]</td>\n",
       "      <td>(110.0, 120.0]</td>\n",
       "    </tr>\n",
       "  </tbody>\n",
       "</table>\n",
       "</div>"
      ],
      "text/plain": [
       "   Application ID  Age Gender Marital Status (at the time of application)  \\\n",
       "0       954457215   48      F                                     Married   \n",
       "1       432830445   31      M                                     Married   \n",
       "2       941387308   32      M                                      Single   \n",
       "3       392161677   43      M                                     Married   \n",
       "4       182011211   35      F                                     Married   \n",
       "\n",
       "   No of dependents  Income     Education Profession  Type of residence  \\\n",
       "0               2.0    40.0      Bachelor         SAL            Rented   \n",
       "1               4.0    55.0  Professional     SE_PROF            Rented   \n",
       "2               2.0    46.0      Bachelor     SE_PROF            Rented   \n",
       "3               1.0    53.0      Bachelor          SE            Rented   \n",
       "4               5.0    44.0  Professional         SAL            Rented   \n",
       "\n",
       "   No of months in current residence  No of months in current company  \\\n",
       "0                                113                               56   \n",
       "1                                112                               46   \n",
       "2                                104                               49   \n",
       "3                                 94                               53   \n",
       "4                                112                               43   \n",
       "\n",
       "   Performance Tag       Age_bin    Income_bin current_residence_bin  \n",
       "0              0.0  (40.0, 50.0]  (30.0, 40.0]        (110.0, 120.0]  \n",
       "1              0.0  (30.0, 40.0]  (50.0, 60.0]        (110.0, 120.0]  \n",
       "2              0.0  (30.0, 40.0]  (40.0, 50.0]        (100.0, 110.0]  \n",
       "3              0.0  (40.0, 50.0]  (50.0, 60.0]         (90.0, 100.0]  \n",
       "4              0.0  (30.0, 40.0]  (40.0, 50.0]        (110.0, 120.0]  "
      ]
     },
     "execution_count": 33,
     "metadata": {},
     "output_type": "execute_result"
    }
   ],
   "source": [
    "# Bining the No of months in current residence\n",
    "bins = np.arange(0, df['No of months in current residence'].max() + 10, 10)\n",
    "df['current_residence_bin'] = pd.cut(df['No of months in current residence'], bins, include_lowest = True)\n",
    "df.head()"
   ]
  },
  {
   "cell_type": "code",
   "execution_count": 34,
   "metadata": {},
   "outputs": [
    {
     "data": {
      "image/png": "[encoded data removed]",
      "text/plain": [
       "<Figure size 432x288 with 1 Axes>"
      ]
     },
     "metadata": {
      "needs_background": "light"
     },
     "output_type": "display_data"
    }
   ],
   "source": [
    "# Plotting the No of months in current residence with Performance Tag\n",
    "ax = sns.countplot(data = df, x = 'current_residence_bin', hue = 'Performance Tag')\n",
    "ax.set_xticklabels(ax.get_xticklabels(), rotation = 90)\n",
    "plt.show()"
   ]
  },
  {
   "cell_type": "code",
   "execution_count": 35,
   "metadata": {},
   "outputs": [
    {
     "data": {
      "text/plain": [
       "False    69579\n",
       "Name: No of months in current company, dtype: int64"
      ]
     },
     "execution_count": 35,
     "metadata": {},
     "output_type": "execute_result"
    }
   ],
   "source": [
    "# Majority of defaulters are in 0-10 group of duration of stay\n",
    "\n",
    "# No of months in current company\n",
    "(df['No of months in current company']<1).value_counts()"
   ]
  },
  {
   "cell_type": "code",
   "execution_count": 36,
   "metadata": {},
   "outputs": [
    {
     "data": {
      "text/html": [
       "<div>\n",
       "<style scoped>\n",
       "    .dataframe tbody tr th:only-of-type {\n",
       "        vertical-align: middle;\n",
       "    }\n",
       "\n",
       "    .dataframe tbody tr th {\n",
       "        vertical-align: top;\n",
       "    }\n",
       "\n",
       "    .dataframe thead th {\n",
       "        text-align: right;\n",
       "    }\n",
       "</style>\n",
       "<table border=\"1\" class=\"dataframe\">\n",
       "  <thead>\n",
       "    <tr style=\"text-align: right;\">\n",
       "      <th></th>\n",
       "      <th>Application ID</th>\n",
       "      <th>Age</th>\n",
       "      <th>Gender</th>\n",
       "      <th>Marital Status (at the time of application)</th>\n",
       "      <th>No of dependents</th>\n",
       "      <th>Income</th>\n",
       "      <th>Education</th>\n",
       "      <th>Profession</th>\n",
       "      <th>Type of residence</th>\n",
       "      <th>No of months in current residence</th>\n",
       "      <th>No of months in current company</th>\n",
       "      <th>Performance Tag</th>\n",
       "      <th>Age_bin</th>\n",
       "      <th>Income_bin</th>\n",
       "      <th>current_residence_bin</th>\n",
       "      <th>current_company_bin</th>\n",
       "    </tr>\n",
       "  </thead>\n",
       "  <tbody>\n",
       "    <tr>\n",
       "      <td>0</td>\n",
       "      <td>954457215</td>\n",
       "      <td>48</td>\n",
       "      <td>F</td>\n",
       "      <td>Married</td>\n",
       "      <td>2.0</td>\n",
       "      <td>40.0</td>\n",
       "      <td>Bachelor</td>\n",
       "      <td>SAL</td>\n",
       "      <td>Rented</td>\n",
       "      <td>113</td>\n",
       "      <td>56</td>\n",
       "      <td>0.0</td>\n",
       "      <td>(40.0, 50.0]</td>\n",
       "      <td>(30.0, 40.0]</td>\n",
       "      <td>(110.0, 120.0]</td>\n",
       "      <td>(50.0, 60.0]</td>\n",
       "    </tr>\n",
       "    <tr>\n",
       "      <td>1</td>\n",
       "      <td>432830445</td>\n",
       "      <td>31</td>\n",
       "      <td>M</td>\n",
       "      <td>Married</td>\n",
       "      <td>4.0</td>\n",
       "      <td>55.0</td>\n",
       "      <td>Professional</td>\n",
       "      <td>SE_PROF</td>\n",
       "      <td>Rented</td>\n",
       "      <td>112</td>\n",
       "      <td>46</td>\n",
       "      <td>0.0</td>\n",
       "      <td>(30.0, 40.0]</td>\n",
       "      <td>(50.0, 60.0]</td>\n",
       "      <td>(110.0, 120.0]</td>\n",
       "      <td>(40.0, 50.0]</td>\n",
       "    </tr>\n",
       "    <tr>\n",
       "      <td>2</td>\n",
       "      <td>941387308</td>\n",
       "      <td>32</td>\n",
       "      <td>M</td>\n",
       "      <td>Single</td>\n",
       "      <td>2.0</td>\n",
       "      <td>46.0</td>\n",
       "      <td>Bachelor</td>\n",
       "      <td>SE_PROF</td>\n",
       "      <td>Rented</td>\n",
       "      <td>104</td>\n",
       "      <td>49</td>\n",
       "      <td>0.0</td>\n",
       "      <td>(30.0, 40.0]</td>\n",
       "      <td>(40.0, 50.0]</td>\n",
       "      <td>(100.0, 110.0]</td>\n",
       "      <td>(40.0, 50.0]</td>\n",
       "    </tr>\n",
       "    <tr>\n",
       "      <td>3</td>\n",
       "      <td>392161677</td>\n",
       "      <td>43</td>\n",
       "      <td>M</td>\n",
       "      <td>Married</td>\n",
       "      <td>1.0</td>\n",
       "      <td>53.0</td>\n",
       "      <td>Bachelor</td>\n",
       "      <td>SE</td>\n",
       "      <td>Rented</td>\n",
       "      <td>94</td>\n",
       "      <td>53</td>\n",
       "      <td>0.0</td>\n",
       "      <td>(40.0, 50.0]</td>\n",
       "      <td>(50.0, 60.0]</td>\n",
       "      <td>(90.0, 100.0]</td>\n",
       "      <td>(50.0, 60.0]</td>\n",
       "    </tr>\n",
       "    <tr>\n",
       "      <td>4</td>\n",
       "      <td>182011211</td>\n",
       "      <td>35</td>\n",
       "      <td>F</td>\n",
       "      <td>Married</td>\n",
       "      <td>5.0</td>\n",
       "      <td>44.0</td>\n",
       "      <td>Professional</td>\n",
       "      <td>SAL</td>\n",
       "      <td>Rented</td>\n",
       "      <td>112</td>\n",
       "      <td>43</td>\n",
       "      <td>0.0</td>\n",
       "      <td>(30.0, 40.0]</td>\n",
       "      <td>(40.0, 50.0]</td>\n",
       "      <td>(110.0, 120.0]</td>\n",
       "      <td>(40.0, 50.0]</td>\n",
       "    </tr>\n",
       "  </tbody>\n",
       "</table>\n",
       "</div>"
      ],
      "text/plain": [
       "   Application ID  Age Gender Marital Status (at the time of application)  \\\n",
       "0       954457215   48      F                                     Married   \n",
       "1       432830445   31      M                                     Married   \n",
       "2       941387308   32      M                                      Single   \n",
       "3       392161677   43      M                                     Married   \n",
       "4       182011211   35      F                                     Married   \n",
       "\n",
       "   No of dependents  Income     Education Profession  Type of residence  \\\n",
       "0               2.0    40.0      Bachelor         SAL            Rented   \n",
       "1               4.0    55.0  Professional     SE_PROF            Rented   \n",
       "2               2.0    46.0      Bachelor     SE_PROF            Rented   \n",
       "3               1.0    53.0      Bachelor          SE            Rented   \n",
       "4               5.0    44.0  Professional         SAL            Rented   \n",
       "\n",
       "   No of months in current residence  No of months in current company  \\\n",
       "0                                113                               56   \n",
       "1                                112                               46   \n",
       "2                                104                               49   \n",
       "3                                 94                               53   \n",
       "4                                112                               43   \n",
       "\n",
       "   Performance Tag       Age_bin    Income_bin current_residence_bin  \\\n",
       "0              0.0  (40.0, 50.0]  (30.0, 40.0]        (110.0, 120.0]   \n",
       "1              0.0  (30.0, 40.0]  (50.0, 60.0]        (110.0, 120.0]   \n",
       "2              0.0  (30.0, 40.0]  (40.0, 50.0]        (100.0, 110.0]   \n",
       "3              0.0  (40.0, 50.0]  (50.0, 60.0]         (90.0, 100.0]   \n",
       "4              0.0  (30.0, 40.0]  (40.0, 50.0]        (110.0, 120.0]   \n",
       "\n",
       "  current_company_bin  \n",
       "0        (50.0, 60.0]  \n",
       "1        (40.0, 50.0]  \n",
       "2        (40.0, 50.0]  \n",
       "3        (50.0, 60.0]  \n",
       "4        (40.0, 50.0]  "
      ]
     },
     "execution_count": 36,
     "metadata": {},
     "output_type": "execute_result"
    }
   ],
   "source": [
    "# Bining the duration in current company\n",
    "bins = np.arange(0, df['No of months in current company'].max() + 10, 10)\n",
    "df['current_company_bin'] = pd.cut(df['No of months in current company'], bins, include_lowest = True)\n",
    "df.head()"
   ]
  },
  {
   "cell_type": "code",
   "execution_count": 37,
   "metadata": {},
   "outputs": [
    {
     "data": {
      "image/png": "[encoded data removed]",
      "text/plain": [
       "<Figure size 432x288 with 1 Axes>"
      ]
     },
     "metadata": {
      "needs_background": "light"
     },
     "output_type": "display_data"
    }
   ],
   "source": [
    "# Plotting No of months in current company with Performance Tag\n",
    "ax = sns.countplot(data = df, x = 'current_company_bin', hue = 'Performance Tag')\n",
    "ax.set_xticklabels(ax.get_xticklabels(), rotation = 90)\n",
    "plt.show()"
   ]
  },
  {
   "cell_type": "code",
   "execution_count": 38,
   "metadata": {},
   "outputs": [],
   "source": [
    "# Here we see a trend - decrease in number defaulter with increase in experience within the same company"
   ]
  },
  {
   "cell_type": "code",
   "execution_count": 39,
   "metadata": {},
   "outputs": [],
   "source": [
    "# Copying the df dataframe into woe_data\n",
    "woe_data = df.copy()"
   ]
  },
  {
   "cell_type": "code",
   "execution_count": 40,
   "metadata": {},
   "outputs": [],
   "source": [
    "# Dropping few columns whose bins have been created\n",
    "woe_data.drop(['Age','No of months in current company','No of months in current residence'], axis = 1, inplace = True)"
   ]
  },
  {
   "cell_type": "code",
   "execution_count": 41,
   "metadata": {},
   "outputs": [
    {
     "data": {
      "text/html": [
       "<div>\n",
       "<style scoped>\n",
       "    .dataframe tbody tr th:only-of-type {\n",
       "        vertical-align: middle;\n",
       "    }\n",
       "\n",
       "    .dataframe tbody tr th {\n",
       "        vertical-align: top;\n",
       "    }\n",
       "\n",
       "    .dataframe thead th {\n",
       "        text-align: right;\n",
       "    }\n",
       "</style>\n",
       "<table border=\"1\" class=\"dataframe\">\n",
       "  <thead>\n",
       "    <tr style=\"text-align: right;\">\n",
       "      <th></th>\n",
       "      <th>Application ID</th>\n",
       "      <th>Gender</th>\n",
       "      <th>Marital Status (at the time of application)</th>\n",
       "      <th>No of dependents</th>\n",
       "      <th>Income</th>\n",
       "      <th>Education</th>\n",
       "      <th>Profession</th>\n",
       "      <th>Type of residence</th>\n",
       "      <th>Performance Tag</th>\n",
       "      <th>Age_bin</th>\n",
       "      <th>Income_bin</th>\n",
       "      <th>current_residence_bin</th>\n",
       "      <th>current_company_bin</th>\n",
       "    </tr>\n",
       "  </thead>\n",
       "  <tbody>\n",
       "    <tr>\n",
       "      <td>0</td>\n",
       "      <td>954457215</td>\n",
       "      <td>F</td>\n",
       "      <td>Married</td>\n",
       "      <td>2.0</td>\n",
       "      <td>40.0</td>\n",
       "      <td>Bachelor</td>\n",
       "      <td>SAL</td>\n",
       "      <td>Rented</td>\n",
       "      <td>0.0</td>\n",
       "      <td>(40.0, 50.0]</td>\n",
       "      <td>(30.0, 40.0]</td>\n",
       "      <td>(110.0, 120.0]</td>\n",
       "      <td>(50.0, 60.0]</td>\n",
       "    </tr>\n",
       "    <tr>\n",
       "      <td>1</td>\n",
       "      <td>432830445</td>\n",
       "      <td>M</td>\n",
       "      <td>Married</td>\n",
       "      <td>4.0</td>\n",
       "      <td>55.0</td>\n",
       "      <td>Professional</td>\n",
       "      <td>SE_PROF</td>\n",
       "      <td>Rented</td>\n",
       "      <td>0.0</td>\n",
       "      <td>(30.0, 40.0]</td>\n",
       "      <td>(50.0, 60.0]</td>\n",
       "      <td>(110.0, 120.0]</td>\n",
       "      <td>(40.0, 50.0]</td>\n",
       "    </tr>\n",
       "    <tr>\n",
       "      <td>2</td>\n",
       "      <td>941387308</td>\n",
       "      <td>M</td>\n",
       "      <td>Single</td>\n",
       "      <td>2.0</td>\n",
       "      <td>46.0</td>\n",
       "      <td>Bachelor</td>\n",
       "      <td>SE_PROF</td>\n",
       "      <td>Rented</td>\n",
       "      <td>0.0</td>\n",
       "      <td>(30.0, 40.0]</td>\n",
       "      <td>(40.0, 50.0]</td>\n",
       "      <td>(100.0, 110.0]</td>\n",
       "      <td>(40.0, 50.0]</td>\n",
       "    </tr>\n",
       "    <tr>\n",
       "      <td>3</td>\n",
       "      <td>392161677</td>\n",
       "      <td>M</td>\n",
       "      <td>Married</td>\n",
       "      <td>1.0</td>\n",
       "      <td>53.0</td>\n",
       "      <td>Bachelor</td>\n",
       "      <td>SE</td>\n",
       "      <td>Rented</td>\n",
       "      <td>0.0</td>\n",
       "      <td>(40.0, 50.0]</td>\n",
       "      <td>(50.0, 60.0]</td>\n",
       "      <td>(90.0, 100.0]</td>\n",
       "      <td>(50.0, 60.0]</td>\n",
       "    </tr>\n",
       "    <tr>\n",
       "      <td>4</td>\n",
       "      <td>182011211</td>\n",
       "      <td>F</td>\n",
       "      <td>Married</td>\n",
       "      <td>5.0</td>\n",
       "      <td>44.0</td>\n",
       "      <td>Professional</td>\n",
       "      <td>SAL</td>\n",
       "      <td>Rented</td>\n",
       "      <td>0.0</td>\n",
       "      <td>(30.0, 40.0]</td>\n",
       "      <td>(40.0, 50.0]</td>\n",
       "      <td>(110.0, 120.0]</td>\n",
       "      <td>(40.0, 50.0]</td>\n",
       "    </tr>\n",
       "  </tbody>\n",
       "</table>\n",
       "</div>"
      ],
      "text/plain": [
       "   Application ID Gender Marital Status (at the time of application)  \\\n",
       "0       954457215      F                                     Married   \n",
       "1       432830445      M                                     Married   \n",
       "2       941387308      M                                      Single   \n",
       "3       392161677      M                                     Married   \n",
       "4       182011211      F                                     Married   \n",
       "\n",
       "   No of dependents  Income     Education Profession  Type of residence  \\\n",
       "0               2.0    40.0      Bachelor         SAL            Rented   \n",
       "1               4.0    55.0  Professional     SE_PROF            Rented   \n",
       "2               2.0    46.0      Bachelor     SE_PROF            Rented   \n",
       "3               1.0    53.0      Bachelor          SE            Rented   \n",
       "4               5.0    44.0  Professional         SAL            Rented   \n",
       "\n",
       "   Performance Tag       Age_bin    Income_bin current_residence_bin  \\\n",
       "0              0.0  (40.0, 50.0]  (30.0, 40.0]        (110.0, 120.0]   \n",
       "1              0.0  (30.0, 40.0]  (50.0, 60.0]        (110.0, 120.0]   \n",
       "2              0.0  (30.0, 40.0]  (40.0, 50.0]        (100.0, 110.0]   \n",
       "3              0.0  (40.0, 50.0]  (50.0, 60.0]         (90.0, 100.0]   \n",
       "4              0.0  (30.0, 40.0]  (40.0, 50.0]        (110.0, 120.0]   \n",
       "\n",
       "  current_company_bin  \n",
       "0        (50.0, 60.0]  \n",
       "1        (40.0, 50.0]  \n",
       "2        (40.0, 50.0]  \n",
       "3        (50.0, 60.0]  \n",
       "4        (40.0, 50.0]  "
      ]
     },
     "execution_count": 41,
     "metadata": {},
     "output_type": "execute_result"
    }
   ],
   "source": [
    "# WOE_DATA\n",
    "woe_data.head()"
   ]
  },
  {
   "cell_type": "code",
   "execution_count": 42,
   "metadata": {},
   "outputs": [],
   "source": [
    "# Function to calculate WOE & IV\n",
    "def calculate_woe_iv(dataset, feature, target):\n",
    "    lst = []\n",
    "    for i in range(dataset[feature].nunique()):\n",
    "        val = list(dataset[feature].unique())[i]\n",
    "        lst.append({\n",
    "            'Value': val,\n",
    "            'All': dataset[dataset[feature] == val].count()[feature],\n",
    "            'Good': dataset[(dataset[feature] == val) & (dataset[target] == 0)].count()[feature],\n",
    "            'Bad': dataset[(dataset[feature] == val) & (dataset[target] == 1)].count()[feature]\n",
    "        })\n",
    "        \n",
    "    dset = pd.DataFrame(lst)\n",
    "    dset['Distr_Good'] = dset['Good'] / dset['Good'].sum()\n",
    "    dset['Distr_Bad'] = dset['Bad'] / dset['Bad'].sum()\n",
    "    dset['WoE'] = np.log(dset['Distr_Good'] / dset['Distr_Bad'])\n",
    "    dset = dset.replace({'WoE': {np.inf: 0, -np.inf: 0}})\n",
    "    dset['IV'] = (dset['Distr_Good'] - dset['Distr_Bad']) * dset['WoE']\n",
    "    iv = dset['IV'].sum()\n",
    "    \n",
    "    dset = dset.sort_values(by='WoE')\n",
    "    \n",
    "    return dset, iv"
   ]
  },
  {
   "cell_type": "code",
   "execution_count": 43,
   "metadata": {
    "scrolled": false
   },
   "outputs": [
    {
     "name": "stdout",
     "output_type": "stream",
     "text": [
      "WoE and IV for column: Application ID\n",
      "           Value  All  Good  Bad  Distr_Good  Distr_Bad      WoE        IV\n",
      "5103   653287861    2     1    1    0.000015    0.00034 -3.12088  0.001015\n",
      "0      954457215    1     1    0    0.000015    0.00000  0.00000  0.000000\n",
      "46376  789481818    1     1    0    0.000015    0.00000  0.00000  0.000000\n",
      "46377  253182798    1     1    0    0.000015    0.00000  0.00000  0.000000\n",
      "46378  555626075    1     1    0    0.000015    0.00000  0.00000  0.000000\n",
      "...          ...  ...   ...  ...         ...        ...      ...       ...\n",
      "23198  925646939    1     1    0    0.000015    0.00000  0.00000  0.000000\n",
      "23199  344619950    1     1    0    0.000015    0.00000  0.00000  0.000000\n",
      "23200  869773383    1     1    0    0.000015    0.00000  0.00000  0.000000\n",
      "23186  615487774    1     1    0    0.000015    0.00000  0.00000  0.000000\n",
      "69575   37493797    1     1    0    0.000015    0.00000  0.00000  0.000000\n",
      "\n",
      "[69576 rows x 8 columns]\n",
      "IV score: 0.00\n",
      "\n",
      "\n",
      "WoE and IV for column: Gender\n",
      "  Value    All   Good   Bad  Distr_Good  Distr_Bad       WoE        IV\n",
      "0     F  16445  15728   717    0.236018   0.243878 -0.032758  0.000257\n",
      "1     M  53134  50911  2223    0.763982   0.756122  0.010341  0.000081\n",
      "IV score: 0.00\n",
      "\n",
      "\n",
      "WoE and IV for column: Marital Status (at the time of application)\n",
      "     Value    All   Good   Bad  Distr_Good  Distr_Bad       WoE        IV\n",
      "1   Single  10263   9819   444    0.147346    0.15102 -0.024630  0.000090\n",
      "0  Married  59316  56820  2496    0.852654    0.84898  0.004319  0.000016\n",
      "IV score: 0.00\n",
      "\n",
      "\n",
      "WoE and IV for column: No of dependents\n",
      "   Value    All   Good  Bad  Distr_Good  Distr_Bad       WoE            IV\n",
      "4    3.0  15572  14880  692    0.223293   0.235374 -0.052693  6.366103e-04\n",
      "2    1.0  15146  14480  666    0.217290   0.226531 -0.041646  3.848311e-04\n",
      "3    5.0  11837  11336  501    0.170111   0.170408 -0.001748  5.200674e-07\n",
      "1    4.0  11960  11467  493    0.172076   0.167687  0.025839  1.134162e-04\n",
      "0    2.0  15064  14476  588    0.217230   0.200000  0.082640  1.423900e-03\n",
      "IV score: 0.00\n",
      "\n",
      "\n",
      "WoE and IV for column: Income\n",
      "    Value   All  Good  Bad  Distr_Good  Distr_Bad       WoE        IV\n",
      "42    6.0  1311  1216   95    0.018248   0.032313 -0.571435  0.008037\n",
      "51   10.0  1332  1253   79    0.018803   0.026871 -0.357032  0.002881\n",
      "56    4.5  4906  4621  285    0.069344   0.096939 -0.335003  0.009244\n",
      "49    5.0  1208  1141   67    0.017122   0.022789 -0.285913  0.001620\n",
      "53    8.0  1300  1228   72    0.018428   0.024490 -0.284404  0.001724\n",
      "..    ...   ...   ...  ...         ...        ...       ...       ...\n",
      "9    51.0   596   580   16    0.008704   0.005442  0.469559  0.001531\n",
      "17   39.0  1364  1328   36    0.019928   0.012245  0.487030  0.003742\n",
      "60   58.0   477   466   11    0.006993   0.003741  0.625410  0.002033\n",
      "1    55.0   652   637   15    0.009559   0.005102  0.627839  0.002798\n",
      "3    53.0   618   605   13    0.009079   0.004422  0.719399  0.003350\n",
      "\n",
      "[62 rows x 8 columns]\n",
      "IV score: 0.06\n",
      "\n",
      "\n",
      "WoE and IV for column: Education\n",
      "          Value    All   Good   Bad  Distr_Good  Distr_Bad       WoE        IV\n",
      "4        Others    117    109     8    0.001636   0.002721 -0.508974  0.000552\n",
      "0      Bachelor  17265  16525   740    0.247978   0.251701 -0.014901  0.000055\n",
      "2       Masters  23431  22433   998    0.336635   0.339456 -0.008345  0.000024\n",
      "1  Professional  24312  23302  1010    0.349675   0.343537  0.017708  0.000109\n",
      "3           Phd   4454   4270   184    0.064077   0.062585  0.023553  0.000035\n",
      "IV score: 0.00\n",
      "\n",
      "\n",
      "WoE and IV for column: Profession \n",
      "     Value    All   Good   Bad  Distr_Good  Distr_Bad       WoE        IV\n",
      "2       SE  13878  13237   641    0.198637   0.218027 -0.093139  0.001806\n",
      "1  SE_PROF  16177  15504   673    0.232657   0.228912  0.016228  0.000061\n",
      "0      SAL  39524  37898  1626    0.568706   0.553061  0.027895  0.000436\n",
      "IV score: 0.00\n",
      "\n",
      "\n",
      "WoE and IV for column: Type of residence\n",
      "                 Value    All   Good   Bad  Distr_Good  Distr_Bad       WoE  \\\n",
      "4  Living with Parents   1758   1678    80    0.025180   0.027211 -0.077549   \n",
      "3     Company provided   1595   1523    72    0.022854   0.024490 -0.069109   \n",
      "1                Owned  13932  13342   590    0.200213   0.200680 -0.002331   \n",
      "0               Rented  52097  49904  2193    0.748871   0.745918  0.003950   \n",
      "2               Others    197    192     5    0.002881   0.001701  0.527177   \n",
      "\n",
      "         IV  \n",
      "4  0.000157  \n",
      "3  0.000113  \n",
      "1  0.000001  \n",
      "0  0.000012  \n",
      "2  0.000622  \n",
      "IV score: 0.00\n",
      "\n",
      "\n",
      "WoE and IV for column: Age_bin\n",
      "           Value    All   Good  Bad  Distr_Good  Distr_Bad       WoE        IV\n",
      "1   (30.0, 40.0]  18615  17787  828    0.266916   0.281633 -0.053670  0.000790\n",
      "0   (40.0, 50.0]  22797  21841  956    0.327751   0.325170  0.007906  0.000020\n",
      "5   (60.0, 70.0]   4819   4619  200    0.069314   0.068027  0.018736  0.000024\n",
      "2   (20.0, 30.0]   5778   5540  238    0.083135   0.080952  0.026599  0.000058\n",
      "3   (50.0, 60.0]  17496  16780  716    0.251804   0.243537  0.033382  0.000276\n",
      "4  (9.999, 20.0]     74     72    2    0.001080   0.000680  0.462639  0.000185\n",
      "IV score: 0.00\n",
      "\n",
      "\n",
      "WoE and IV for column: Income_bin\n",
      "            Value    All   Good  Bad  Distr_Good  Distr_Bad       WoE  \\\n",
      "5  (-0.001, 10.0]  12723  12014  709    0.180285   0.241156 -0.290908   \n",
      "4    (10.0, 20.0]  13303  12700  603    0.190579   0.205102 -0.073440   \n",
      "3    (20.0, 30.0]  13546  12946  600    0.194271   0.204082 -0.049268   \n",
      "0    (30.0, 40.0]  13592  13109  483    0.196717   0.164286  0.180157   \n",
      "2    (40.0, 50.0]  10815  10431  384    0.156530   0.130612  0.181014   \n",
      "1    (50.0, 60.0]   5600   5439  161    0.081619   0.054762  0.399066   \n",
      "\n",
      "         IV  \n",
      "5  0.017708  \n",
      "4  0.001067  \n",
      "3  0.000483  \n",
      "0  0.005843  \n",
      "2  0.004691  \n",
      "1  0.010718  \n",
      "IV score: 0.04\n",
      "\n",
      "\n",
      "WoE and IV for column: current_residence_bin\n",
      "             Value    All   Good   Bad  Distr_Good  Distr_Bad       WoE  \\\n",
      "10    (10.0, 20.0]   3767   3515   252    0.052747   0.085714 -0.485515   \n",
      "8     (20.0, 30.0]   3472   3245   227    0.048695   0.077211 -0.460960   \n",
      "9     (30.0, 40.0]   3517   3317   200    0.049776   0.068027 -0.312382   \n",
      "12  (120.0, 130.0]    918    868    50    0.013025   0.017007 -0.266712   \n",
      "7     (40.0, 50.0]   3289   3110   179    0.046669   0.060884 -0.265888   \n",
      "5     (50.0, 60.0]   3156   2988   168    0.044839   0.057143 -0.242485   \n",
      "4     (70.0, 80.0]   2805   2669   136    0.040052   0.046259 -0.144076   \n",
      "3     (80.0, 90.0]   2709   2584   125    0.038776   0.042517 -0.092100   \n",
      "6     (60.0, 70.0]   2884   2755   129    0.041342   0.043878 -0.059520   \n",
      "2    (90.0, 100.0]   2756   2637   119    0.039571   0.040476 -0.022607   \n",
      "1   (100.0, 110.0]   2855   2748   107    0.041237   0.036395  0.124919   \n",
      "0   (110.0, 120.0]   2437   2348    89    0.035235   0.030272  0.151802   \n",
      "11  (-0.001, 10.0]  35014  33855  1159    0.508036   0.394218  0.253649   \n",
      "\n",
      "          IV  \n",
      "10  0.016006  \n",
      "8   0.013145  \n",
      "9   0.005701  \n",
      "12  0.001062  \n",
      "7   0.003780  \n",
      "5   0.002984  \n",
      "4   0.000894  \n",
      "3   0.000345  \n",
      "6   0.000151  \n",
      "2   0.000020  \n",
      "1   0.000605  \n",
      "0   0.000753  \n",
      "11  0.028870  \n",
      "IV score: 0.07\n",
      "\n",
      "\n",
      "WoE and IV for column: current_company_bin\n",
      "             Value    All   Good  Bad  Distr_Good  Distr_Bad       WoE  \\\n",
      "4     (10.0, 20.0]   9788   9298  490    0.139528   0.166667 -0.177731   \n",
      "5   (-0.001, 10.0]  11535  10976  559    0.164708   0.190136 -0.143564   \n",
      "10    (70.0, 80.0]   2278   2168  110    0.032534   0.037415 -0.139800   \n",
      "7     (60.0, 70.0]   5565   5329  236    0.079968   0.080272 -0.003793   \n",
      "3   (120.0, 130.0]      4      4    0    0.000060   0.000000  0.000000   \n",
      "8   (130.0, 140.0]      1      1    0    0.000015   0.000000  0.000000   \n",
      "9     (80.0, 90.0]      1      1    0    0.000015   0.000000  0.000000   \n",
      "11   (90.0, 100.0]      2      2    0    0.000030   0.000000  0.000000   \n",
      "12  (100.0, 110.0]      1      1    0    0.000015   0.000000  0.000000   \n",
      "2     (30.0, 40.0]  10153   9724  429    0.145921   0.145918  0.000015   \n",
      "6     (20.0, 30.0]  10012   9599  413    0.144045   0.140476  0.025086   \n",
      "1     (40.0, 50.0]  10201   9816  385    0.147301   0.130952  0.117645   \n",
      "0     (50.0, 60.0]  10038   9720  318    0.145861   0.108163  0.299009   \n",
      "\n",
      "              IV  \n",
      "4   4.823405e-03  \n",
      "5   3.650491e-03  \n",
      "10  6.824308e-04  \n",
      "7   1.152878e-06  \n",
      "3   0.000000e+00  \n",
      "8   0.000000e+00  \n",
      "9   0.000000e+00  \n",
      "11  0.000000e+00  \n",
      "12  0.000000e+00  \n",
      "2   3.285865e-11  \n",
      "6   8.952232e-05  \n",
      "1   1.923353e-03  \n",
      "0   1.127183e-02  \n",
      "IV score: 0.02\n",
      "\n",
      "\n"
     ]
    }
   ],
   "source": [
    "for col in woe_data.columns:\n",
    "    if col == 'Performance Tag': continue\n",
    "    else:\n",
    "        print('WoE and IV for column: {}'.format(col))\n",
    "        df1, iv = calculate_woe_iv(woe_data, col, 'Performance Tag')\n",
    "        print(df1)\n",
    "        print('IV score: {:.2f}'.format(iv))\n",
    "        print('\\n')"
   ]
  },
  {
   "cell_type": "markdown",
   "metadata": {},
   "source": [
    "#### The important features based on Information Value are - \n",
    "- current_residence_bin\n",
    "- Income_bin\n",
    "- current_company_bin"
   ]
  },
  {
   "cell_type": "code",
   "execution_count": 44,
   "metadata": {},
   "outputs": [],
   "source": [
    "# Copying the earlier dataframe\n",
    "df2 = df.copy()"
   ]
  },
  {
   "cell_type": "markdown",
   "metadata": {},
   "source": [
    "### Data Preparation"
   ]
  },
  {
   "cell_type": "code",
   "execution_count": 45,
   "metadata": {},
   "outputs": [
    {
     "data": {
      "text/html": [
       "<div>\n",
       "<style scoped>\n",
       "    .dataframe tbody tr th:only-of-type {\n",
       "        vertical-align: middle;\n",
       "    }\n",
       "\n",
       "    .dataframe tbody tr th {\n",
       "        vertical-align: top;\n",
       "    }\n",
       "\n",
       "    .dataframe thead th {\n",
       "        text-align: right;\n",
       "    }\n",
       "</style>\n",
       "<table border=\"1\" class=\"dataframe\">\n",
       "  <thead>\n",
       "    <tr style=\"text-align: right;\">\n",
       "      <th></th>\n",
       "      <th>Application ID</th>\n",
       "      <th>Age</th>\n",
       "      <th>Gender</th>\n",
       "      <th>Marital Status (at the time of application)</th>\n",
       "      <th>No of dependents</th>\n",
       "      <th>Income</th>\n",
       "      <th>Education</th>\n",
       "      <th>Profession</th>\n",
       "      <th>Type of residence</th>\n",
       "      <th>No of months in current residence</th>\n",
       "      <th>No of months in current company</th>\n",
       "      <th>Performance Tag</th>\n",
       "    </tr>\n",
       "  </thead>\n",
       "  <tbody>\n",
       "    <tr>\n",
       "      <td>0</td>\n",
       "      <td>954457215</td>\n",
       "      <td>48</td>\n",
       "      <td>F</td>\n",
       "      <td>Married</td>\n",
       "      <td>2.0</td>\n",
       "      <td>40.0</td>\n",
       "      <td>Bachelor</td>\n",
       "      <td>SAL</td>\n",
       "      <td>Rented</td>\n",
       "      <td>113</td>\n",
       "      <td>56</td>\n",
       "      <td>0.0</td>\n",
       "    </tr>\n",
       "    <tr>\n",
       "      <td>1</td>\n",
       "      <td>432830445</td>\n",
       "      <td>31</td>\n",
       "      <td>M</td>\n",
       "      <td>Married</td>\n",
       "      <td>4.0</td>\n",
       "      <td>55.0</td>\n",
       "      <td>Professional</td>\n",
       "      <td>SE_PROF</td>\n",
       "      <td>Rented</td>\n",
       "      <td>112</td>\n",
       "      <td>46</td>\n",
       "      <td>0.0</td>\n",
       "    </tr>\n",
       "    <tr>\n",
       "      <td>2</td>\n",
       "      <td>941387308</td>\n",
       "      <td>32</td>\n",
       "      <td>M</td>\n",
       "      <td>Single</td>\n",
       "      <td>2.0</td>\n",
       "      <td>46.0</td>\n",
       "      <td>Bachelor</td>\n",
       "      <td>SE_PROF</td>\n",
       "      <td>Rented</td>\n",
       "      <td>104</td>\n",
       "      <td>49</td>\n",
       "      <td>0.0</td>\n",
       "    </tr>\n",
       "    <tr>\n",
       "      <td>3</td>\n",
       "      <td>392161677</td>\n",
       "      <td>43</td>\n",
       "      <td>M</td>\n",
       "      <td>Married</td>\n",
       "      <td>1.0</td>\n",
       "      <td>53.0</td>\n",
       "      <td>Bachelor</td>\n",
       "      <td>SE</td>\n",
       "      <td>Rented</td>\n",
       "      <td>94</td>\n",
       "      <td>53</td>\n",
       "      <td>0.0</td>\n",
       "    </tr>\n",
       "    <tr>\n",
       "      <td>4</td>\n",
       "      <td>182011211</td>\n",
       "      <td>35</td>\n",
       "      <td>F</td>\n",
       "      <td>Married</td>\n",
       "      <td>5.0</td>\n",
       "      <td>44.0</td>\n",
       "      <td>Professional</td>\n",
       "      <td>SAL</td>\n",
       "      <td>Rented</td>\n",
       "      <td>112</td>\n",
       "      <td>43</td>\n",
       "      <td>0.0</td>\n",
       "    </tr>\n",
       "  </tbody>\n",
       "</table>\n",
       "</div>"
      ],
      "text/plain": [
       "   Application ID  Age Gender Marital Status (at the time of application)  \\\n",
       "0       954457215   48      F                                     Married   \n",
       "1       432830445   31      M                                     Married   \n",
       "2       941387308   32      M                                      Single   \n",
       "3       392161677   43      M                                     Married   \n",
       "4       182011211   35      F                                     Married   \n",
       "\n",
       "   No of dependents  Income     Education Profession  Type of residence  \\\n",
       "0               2.0    40.0      Bachelor         SAL            Rented   \n",
       "1               4.0    55.0  Professional     SE_PROF            Rented   \n",
       "2               2.0    46.0      Bachelor     SE_PROF            Rented   \n",
       "3               1.0    53.0      Bachelor          SE            Rented   \n",
       "4               5.0    44.0  Professional         SAL            Rented   \n",
       "\n",
       "   No of months in current residence  No of months in current company  \\\n",
       "0                                113                               56   \n",
       "1                                112                               46   \n",
       "2                                104                               49   \n",
       "3                                 94                               53   \n",
       "4                                112                               43   \n",
       "\n",
       "   Performance Tag  \n",
       "0              0.0  \n",
       "1              0.0  \n",
       "2              0.0  \n",
       "3              0.0  \n",
       "4              0.0  "
      ]
     },
     "execution_count": 45,
     "metadata": {},
     "output_type": "execute_result"
    }
   ],
   "source": [
    "# Removing features as per IV\n",
    "df2.drop(['Age_bin','Income_bin','current_residence_bin','current_company_bin'], axis=1, inplace=True)\n",
    "df2.head()"
   ]
  },
  {
   "cell_type": "code",
   "execution_count": 46,
   "metadata": {},
   "outputs": [
    {
     "data": {
      "text/html": [
       "<div>\n",
       "<style scoped>\n",
       "    .dataframe tbody tr th:only-of-type {\n",
       "        vertical-align: middle;\n",
       "    }\n",
       "\n",
       "    .dataframe tbody tr th {\n",
       "        vertical-align: top;\n",
       "    }\n",
       "\n",
       "    .dataframe thead th {\n",
       "        text-align: right;\n",
       "    }\n",
       "</style>\n",
       "<table border=\"1\" class=\"dataframe\">\n",
       "  <thead>\n",
       "    <tr style=\"text-align: right;\">\n",
       "      <th></th>\n",
       "      <th>Application ID</th>\n",
       "      <th>Income</th>\n",
       "      <th>No of months in current residence</th>\n",
       "      <th>No of months in current company</th>\n",
       "      <th>Performance Tag</th>\n",
       "    </tr>\n",
       "  </thead>\n",
       "  <tbody>\n",
       "    <tr>\n",
       "      <td>0</td>\n",
       "      <td>954457215</td>\n",
       "      <td>40.0</td>\n",
       "      <td>113</td>\n",
       "      <td>56</td>\n",
       "      <td>0.0</td>\n",
       "    </tr>\n",
       "    <tr>\n",
       "      <td>1</td>\n",
       "      <td>432830445</td>\n",
       "      <td>55.0</td>\n",
       "      <td>112</td>\n",
       "      <td>46</td>\n",
       "      <td>0.0</td>\n",
       "    </tr>\n",
       "    <tr>\n",
       "      <td>2</td>\n",
       "      <td>941387308</td>\n",
       "      <td>46.0</td>\n",
       "      <td>104</td>\n",
       "      <td>49</td>\n",
       "      <td>0.0</td>\n",
       "    </tr>\n",
       "    <tr>\n",
       "      <td>3</td>\n",
       "      <td>392161677</td>\n",
       "      <td>53.0</td>\n",
       "      <td>94</td>\n",
       "      <td>53</td>\n",
       "      <td>0.0</td>\n",
       "    </tr>\n",
       "    <tr>\n",
       "      <td>4</td>\n",
       "      <td>182011211</td>\n",
       "      <td>44.0</td>\n",
       "      <td>112</td>\n",
       "      <td>43</td>\n",
       "      <td>0.0</td>\n",
       "    </tr>\n",
       "  </tbody>\n",
       "</table>\n",
       "</div>"
      ],
      "text/plain": [
       "   Application ID  Income  No of months in current residence  \\\n",
       "0       954457215    40.0                                113   \n",
       "1       432830445    55.0                                112   \n",
       "2       941387308    46.0                                104   \n",
       "3       392161677    53.0                                 94   \n",
       "4       182011211    44.0                                112   \n",
       "\n",
       "   No of months in current company  Performance Tag  \n",
       "0                               56              0.0  \n",
       "1                               46              0.0  \n",
       "2                               49              0.0  \n",
       "3                               53              0.0  \n",
       "4                               43              0.0  "
      ]
     },
     "execution_count": 46,
     "metadata": {},
     "output_type": "execute_result"
    }
   ],
   "source": [
    "# Removing features as per IV\n",
    "df2.drop(['Age','Gender','Marital Status (at the time of application)','No of dependents','Education','Profession ',\n",
    "         'Type of residence'], axis=1, inplace=True)\n",
    "df2.head()"
   ]
  },
  {
   "cell_type": "code",
   "execution_count": 47,
   "metadata": {},
   "outputs": [],
   "source": [
    "df2 = df2.set_index('Application ID')"
   ]
  },
  {
   "cell_type": "code",
   "execution_count": 48,
   "metadata": {},
   "outputs": [],
   "source": [
    "# Importing library to split the data set into train and test\n",
    "from sklearn.model_selection import train_test_split"
   ]
  },
  {
   "cell_type": "code",
   "execution_count": 49,
   "metadata": {},
   "outputs": [],
   "source": [
    "# Every other feature except Performance Tag in X\n",
    "X = df2.drop(['Performance Tag'], axis=1)\n",
    "\n",
    "# Storing performance tag in y\n",
    "y = df2['Performance Tag']"
   ]
  },
  {
   "cell_type": "code",
   "execution_count": 50,
   "metadata": {},
   "outputs": [],
   "source": [
    "X_train, X_test, y_train, y_test = train_test_split(X, y, train_size = 0.7, test_size = 0.3, random_state=100)"
   ]
  },
  {
   "cell_type": "markdown",
   "metadata": {},
   "source": [
    "#### Scaling"
   ]
  },
  {
   "cell_type": "code",
   "execution_count": 51,
   "metadata": {},
   "outputs": [],
   "source": [
    "# Importing library for scaling\n",
    "from sklearn.preprocessing import StandardScaler\n",
    "scaler = StandardScaler()\n",
    "\n",
    "# Scaling the train data\n",
    "df2_train = scaler.fit_transform(X_train)"
   ]
  },
  {
   "cell_type": "code",
   "execution_count": 52,
   "metadata": {},
   "outputs": [],
   "source": [
    "# Scaling the test data\n",
    "df2_test = scaler.transform(X_test)"
   ]
  },
  {
   "cell_type": "markdown",
   "metadata": {},
   "source": [
    "### Modelling"
   ]
  },
  {
   "cell_type": "code",
   "execution_count": 53,
   "metadata": {},
   "outputs": [],
   "source": [
    "# Importing statsmodels for statistical summary\n",
    "import statsmodels.api as sm"
   ]
  },
  {
   "cell_type": "code",
   "execution_count": 54,
   "metadata": {},
   "outputs": [],
   "source": [
    "# Importing Logistic Regression and metrics\n",
    "from sklearn.linear_model import LogisticRegression\n",
    "from sklearn import metrics"
   ]
  },
  {
   "cell_type": "code",
   "execution_count": 55,
   "metadata": {},
   "outputs": [
    {
     "data": {
      "text/html": [
       "<table class=\"simpletable\">\n",
       "<caption>Generalized Linear Model Regression Results</caption>\n",
       "<tr>\n",
       "  <th>Dep. Variable:</th>    <td>Performance Tag</td> <th>  No. Observations:  </th>  <td> 48705</td> \n",
       "</tr>\n",
       "<tr>\n",
       "  <th>Model:</th>                  <td>GLM</td>       <th>  Df Residuals:      </th>  <td> 48701</td> \n",
       "</tr>\n",
       "<tr>\n",
       "  <th>Model Family:</th>        <td>Binomial</td>     <th>  Df Model:          </th>  <td>     3</td> \n",
       "</tr>\n",
       "<tr>\n",
       "  <th>Link Function:</th>         <td>logit</td>      <th>  Scale:             </th> <td>  1.0000</td>\n",
       "</tr>\n",
       "<tr>\n",
       "  <th>Method:</th>                <td>IRLS</td>       <th>  Log-Likelihood:    </th> <td> -8384.2</td>\n",
       "</tr>\n",
       "<tr>\n",
       "  <th>Date:</th>            <td>Sun, 01 Mar 2020</td> <th>  Deviance:          </th> <td>  16768.</td>\n",
       "</tr>\n",
       "<tr>\n",
       "  <th>Time:</th>                <td>22:29:10</td>     <th>  Pearson chi2:      </th> <td>4.88e+04</td>\n",
       "</tr>\n",
       "<tr>\n",
       "  <th>No. Iterations:</th>          <td>6</td>        <th>                     </th>     <td> </td>   \n",
       "</tr>\n",
       "<tr>\n",
       "  <th>Covariance Type:</th>     <td>nonrobust</td>    <th>                     </th>     <td> </td>   \n",
       "</tr>\n",
       "</table>\n",
       "<table class=\"simpletable\">\n",
       "<tr>\n",
       "    <td></td>       <th>coef</th>     <th>std err</th>      <th>z</th>      <th>P>|z|</th>  <th>[0.025</th>    <th>0.975]</th>  \n",
       "</tr>\n",
       "<tr>\n",
       "  <th>const</th> <td>   -3.1598</td> <td>    0.023</td> <td> -136.183</td> <td> 0.000</td> <td>   -3.205</td> <td>   -3.114</td>\n",
       "</tr>\n",
       "<tr>\n",
       "  <th>x1</th>    <td>   -0.1996</td> <td>    0.023</td> <td>   -8.506</td> <td> 0.000</td> <td>   -0.246</td> <td>   -0.154</td>\n",
       "</tr>\n",
       "<tr>\n",
       "  <th>x2</th>    <td>    0.0536</td> <td>    0.022</td> <td>    2.408</td> <td> 0.016</td> <td>    0.010</td> <td>    0.097</td>\n",
       "</tr>\n",
       "<tr>\n",
       "  <th>x3</th>    <td>   -0.1067</td> <td>    0.023</td> <td>   -4.629</td> <td> 0.000</td> <td>   -0.152</td> <td>   -0.061</td>\n",
       "</tr>\n",
       "</table>"
      ],
      "text/plain": [
       "<class 'statsmodels.iolib.summary.Summary'>\n",
       "\"\"\"\n",
       "                 Generalized Linear Model Regression Results                  \n",
       "==============================================================================\n",
       "Dep. Variable:        Performance Tag   No. Observations:                48705\n",
       "Model:                            GLM   Df Residuals:                    48701\n",
       "Model Family:                Binomial   Df Model:                            3\n",
       "Link Function:                  logit   Scale:                          1.0000\n",
       "Method:                          IRLS   Log-Likelihood:                -8384.2\n",
       "Date:                Sun, 01 Mar 2020   Deviance:                       16768.\n",
       "Time:                        22:29:10   Pearson chi2:                 4.88e+04\n",
       "No. Iterations:                     6                                         \n",
       "Covariance Type:            nonrobust                                         \n",
       "==============================================================================\n",
       "                 coef    std err          z      P>|z|      [0.025      0.975]\n",
       "------------------------------------------------------------------------------\n",
       "const         -3.1598      0.023   -136.183      0.000      -3.205      -3.114\n",
       "x1            -0.1996      0.023     -8.506      0.000      -0.246      -0.154\n",
       "x2             0.0536      0.022      2.408      0.016       0.010       0.097\n",
       "x3            -0.1067      0.023     -4.629      0.000      -0.152      -0.061\n",
       "==============================================================================\n",
       "\"\"\""
      ]
     },
     "execution_count": 55,
     "metadata": {},
     "output_type": "execute_result"
    }
   ],
   "source": [
    "# Fitting the model - Model 1\n",
    "logm1 = sm.GLM(y_train,(sm.add_constant(df2_train)), family = sm.families.Binomial())\n",
    "logm1.fit().summary()"
   ]
  },
  {
   "cell_type": "code",
   "execution_count": 56,
   "metadata": {},
   "outputs": [
    {
     "data": {
      "text/plain": [
       "LogisticRegression(C=1.0, class_weight='balanced', dual=False,\n",
       "                   fit_intercept=True, intercept_scaling=1, l1_ratio=None,\n",
       "                   max_iter=100, multi_class='auto', n_jobs=None, penalty='l2',\n",
       "                   random_state=None, solver='lbfgs', tol=0.0001, verbose=0,\n",
       "                   warm_start=False)"
      ]
     },
     "execution_count": 56,
     "metadata": {},
     "output_type": "execute_result"
    }
   ],
   "source": [
    "# Fitting the model - Model 2\n",
    "logistic = LogisticRegression(class_weight = 'balanced')\n",
    "\n",
    "logistic.fit(df2_train, y_train)"
   ]
  },
  {
   "cell_type": "code",
   "execution_count": 57,
   "metadata": {},
   "outputs": [
    {
     "name": "stderr",
     "output_type": "stream",
     "text": [
      "Using TensorFlow backend.\n"
     ]
    }
   ],
   "source": [
    "# Importing library\n",
    "from sklearn.metrics import confusion_matrix\n",
    "from imblearn.metrics import sensitivity_specificity_support\n",
    "from sklearn.metrics import roc_auc_score"
   ]
  },
  {
   "cell_type": "code",
   "execution_count": 58,
   "metadata": {},
   "outputs": [
    {
     "name": "stdout",
     "output_type": "stream",
     "text": [
      "[[10780  9183]\n",
      " [  408   503]]\n",
      "Sensiticity: \t0.55\n",
      "Specificity: \t0.54\n",
      "AUC: \t 0.57\n"
     ]
    }
   ],
   "source": [
    "# Predict default for test data\n",
    "y_pred = logistic.predict(df2_test)\n",
    "\n",
    "# creating confusion matrix\n",
    "cm = confusion_matrix(y_test, y_pred)\n",
    "print(cm)\n",
    "\n",
    "# check sensitivity and specificity\n",
    "sensitivity, specificity, _ = sensitivity_specificity_support(y_test, y_pred, average = 'binary')\n",
    "print(\"Sensiticity: \\t\", round(sensitivity,2),'\\n','Specificity: \\t',round(specificity,2), sep = '')\n",
    "\n",
    "# check area under curve\n",
    "y_pred_prob = logistic.predict_proba(df2_test)[:,1]\n",
    "print('AUC: \\t',round(roc_auc_score(y_test, y_pred_prob),2))"
   ]
  },
  {
   "cell_type": "code",
   "execution_count": 59,
   "metadata": {},
   "outputs": [
    {
     "name": "stdout",
     "output_type": "stream",
     "text": [
      "              precision    recall  f1-score   support\n",
      "\n",
      "         0.0       0.96      0.54      0.69     19963\n",
      "         1.0       0.05      0.55      0.09       911\n",
      "\n",
      "    accuracy                           0.54     20874\n",
      "   macro avg       0.51      0.55      0.39     20874\n",
      "weighted avg       0.92      0.54      0.67     20874\n",
      "\n"
     ]
    }
   ],
   "source": [
    "from sklearn.metrics import classification_report\n",
    "print(classification_report(y_test, y_pred))"
   ]
  },
  {
   "cell_type": "markdown",
   "metadata": {},
   "source": [
    "## Credit Bureau"
   ]
  },
  {
   "cell_type": "code",
   "execution_count": 60,
   "metadata": {},
   "outputs": [
    {
     "data": {
      "text/html": [
       "<div>\n",
       "<style scoped>\n",
       "    .dataframe tbody tr th:only-of-type {\n",
       "        vertical-align: middle;\n",
       "    }\n",
       "\n",
       "    .dataframe tbody tr th {\n",
       "        vertical-align: top;\n",
       "    }\n",
       "\n",
       "    .dataframe thead th {\n",
       "        text-align: right;\n",
       "    }\n",
       "</style>\n",
       "<table border=\"1\" class=\"dataframe\">\n",
       "  <thead>\n",
       "    <tr style=\"text-align: right;\">\n",
       "      <th></th>\n",
       "      <th>Application ID</th>\n",
       "      <th>No of times 90 DPD or worse in last 6 months</th>\n",
       "      <th>No of times 60 DPD or worse in last 6 months</th>\n",
       "      <th>No of times 30 DPD or worse in last 6 months</th>\n",
       "      <th>No of times 90 DPD or worse in last 12 months</th>\n",
       "      <th>No of times 60 DPD or worse in last 12 months</th>\n",
       "      <th>No of times 30 DPD or worse in last 12 months</th>\n",
       "      <th>Avgas CC Utilization in last 12 months</th>\n",
       "      <th>No of trades opened in last 6 months</th>\n",
       "      <th>No of trades opened in last 12 months</th>\n",
       "      <th>No of PL trades opened in last 6 months</th>\n",
       "      <th>No of PL trades opened in last 12 months</th>\n",
       "      <th>No of Inquiries in last 6 months (excluding home &amp; auto loans)</th>\n",
       "      <th>No of Inquiries in last 12 months (excluding home &amp; auto loans)</th>\n",
       "      <th>Presence of open home loan</th>\n",
       "      <th>Outstanding Balance</th>\n",
       "      <th>Total No of Trades</th>\n",
       "      <th>Presence of open auto loan</th>\n",
       "      <th>Performance Tag</th>\n",
       "    </tr>\n",
       "  </thead>\n",
       "  <tbody>\n",
       "    <tr>\n",
       "      <td>0</td>\n",
       "      <td>954457215</td>\n",
       "      <td>0</td>\n",
       "      <td>0</td>\n",
       "      <td>0</td>\n",
       "      <td>0</td>\n",
       "      <td>0</td>\n",
       "      <td>0</td>\n",
       "      <td>4.0</td>\n",
       "      <td>1.0</td>\n",
       "      <td>2</td>\n",
       "      <td>0</td>\n",
       "      <td>0</td>\n",
       "      <td>0</td>\n",
       "      <td>0</td>\n",
       "      <td>1.0</td>\n",
       "      <td>2999395.0</td>\n",
       "      <td>4</td>\n",
       "      <td>0</td>\n",
       "      <td>0.0</td>\n",
       "    </tr>\n",
       "    <tr>\n",
       "      <td>1</td>\n",
       "      <td>432830445</td>\n",
       "      <td>0</td>\n",
       "      <td>0</td>\n",
       "      <td>0</td>\n",
       "      <td>0</td>\n",
       "      <td>0</td>\n",
       "      <td>0</td>\n",
       "      <td>3.0</td>\n",
       "      <td>1.0</td>\n",
       "      <td>2</td>\n",
       "      <td>0</td>\n",
       "      <td>0</td>\n",
       "      <td>0</td>\n",
       "      <td>0</td>\n",
       "      <td>0.0</td>\n",
       "      <td>3078.0</td>\n",
       "      <td>5</td>\n",
       "      <td>0</td>\n",
       "      <td>0.0</td>\n",
       "    </tr>\n",
       "    <tr>\n",
       "      <td>2</td>\n",
       "      <td>941387308</td>\n",
       "      <td>0</td>\n",
       "      <td>0</td>\n",
       "      <td>0</td>\n",
       "      <td>0</td>\n",
       "      <td>0</td>\n",
       "      <td>0</td>\n",
       "      <td>7.0</td>\n",
       "      <td>0.0</td>\n",
       "      <td>0</td>\n",
       "      <td>0</td>\n",
       "      <td>0</td>\n",
       "      <td>0</td>\n",
       "      <td>0</td>\n",
       "      <td>1.0</td>\n",
       "      <td>3004972.0</td>\n",
       "      <td>2</td>\n",
       "      <td>0</td>\n",
       "      <td>0.0</td>\n",
       "    </tr>\n",
       "    <tr>\n",
       "      <td>3</td>\n",
       "      <td>392161677</td>\n",
       "      <td>0</td>\n",
       "      <td>0</td>\n",
       "      <td>0</td>\n",
       "      <td>0</td>\n",
       "      <td>0</td>\n",
       "      <td>0</td>\n",
       "      <td>11.0</td>\n",
       "      <td>1.0</td>\n",
       "      <td>1</td>\n",
       "      <td>0</td>\n",
       "      <td>0</td>\n",
       "      <td>0</td>\n",
       "      <td>0</td>\n",
       "      <td>1.0</td>\n",
       "      <td>3355373.0</td>\n",
       "      <td>4</td>\n",
       "      <td>1</td>\n",
       "      <td>0.0</td>\n",
       "    </tr>\n",
       "    <tr>\n",
       "      <td>4</td>\n",
       "      <td>182011211</td>\n",
       "      <td>0</td>\n",
       "      <td>0</td>\n",
       "      <td>0</td>\n",
       "      <td>0</td>\n",
       "      <td>0</td>\n",
       "      <td>0</td>\n",
       "      <td>12.0</td>\n",
       "      <td>0.0</td>\n",
       "      <td>1</td>\n",
       "      <td>0</td>\n",
       "      <td>0</td>\n",
       "      <td>0</td>\n",
       "      <td>0</td>\n",
       "      <td>1.0</td>\n",
       "      <td>3014283.0</td>\n",
       "      <td>4</td>\n",
       "      <td>0</td>\n",
       "      <td>0.0</td>\n",
       "    </tr>\n",
       "  </tbody>\n",
       "</table>\n",
       "</div>"
      ],
      "text/plain": [
       "   Application ID  No of times 90 DPD or worse in last 6 months  \\\n",
       "0       954457215                                             0   \n",
       "1       432830445                                             0   \n",
       "2       941387308                                             0   \n",
       "3       392161677                                             0   \n",
       "4       182011211                                             0   \n",
       "\n",
       "   No of times 60 DPD or worse in last 6 months  \\\n",
       "0                                             0   \n",
       "1                                             0   \n",
       "2                                             0   \n",
       "3                                             0   \n",
       "4                                             0   \n",
       "\n",
       "   No of times 30 DPD or worse in last 6 months  \\\n",
       "0                                             0   \n",
       "1                                             0   \n",
       "2                                             0   \n",
       "3                                             0   \n",
       "4                                             0   \n",
       "\n",
       "   No of times 90 DPD or worse in last 12 months  \\\n",
       "0                                              0   \n",
       "1                                              0   \n",
       "2                                              0   \n",
       "3                                              0   \n",
       "4                                              0   \n",
       "\n",
       "   No of times 60 DPD or worse in last 12 months  \\\n",
       "0                                              0   \n",
       "1                                              0   \n",
       "2                                              0   \n",
       "3                                              0   \n",
       "4                                              0   \n",
       "\n",
       "   No of times 30 DPD or worse in last 12 months  \\\n",
       "0                                              0   \n",
       "1                                              0   \n",
       "2                                              0   \n",
       "3                                              0   \n",
       "4                                              0   \n",
       "\n",
       "   Avgas CC Utilization in last 12 months  \\\n",
       "0                                     4.0   \n",
       "1                                     3.0   \n",
       "2                                     7.0   \n",
       "3                                    11.0   \n",
       "4                                    12.0   \n",
       "\n",
       "   No of trades opened in last 6 months  \\\n",
       "0                                   1.0   \n",
       "1                                   1.0   \n",
       "2                                   0.0   \n",
       "3                                   1.0   \n",
       "4                                   0.0   \n",
       "\n",
       "   No of trades opened in last 12 months  \\\n",
       "0                                      2   \n",
       "1                                      2   \n",
       "2                                      0   \n",
       "3                                      1   \n",
       "4                                      1   \n",
       "\n",
       "   No of PL trades opened in last 6 months  \\\n",
       "0                                        0   \n",
       "1                                        0   \n",
       "2                                        0   \n",
       "3                                        0   \n",
       "4                                        0   \n",
       "\n",
       "   No of PL trades opened in last 12 months  \\\n",
       "0                                         0   \n",
       "1                                         0   \n",
       "2                                         0   \n",
       "3                                         0   \n",
       "4                                         0   \n",
       "\n",
       "   No of Inquiries in last 6 months (excluding home & auto loans)  \\\n",
       "0                                                  0                \n",
       "1                                                  0                \n",
       "2                                                  0                \n",
       "3                                                  0                \n",
       "4                                                  0                \n",
       "\n",
       "   No of Inquiries in last 12 months (excluding home & auto loans)  \\\n",
       "0                                                  0                 \n",
       "1                                                  0                 \n",
       "2                                                  0                 \n",
       "3                                                  0                 \n",
       "4                                                  0                 \n",
       "\n",
       "   Presence of open home loan  Outstanding Balance  Total No of Trades  \\\n",
       "0                         1.0            2999395.0                   4   \n",
       "1                         0.0               3078.0                   5   \n",
       "2                         1.0            3004972.0                   2   \n",
       "3                         1.0            3355373.0                   4   \n",
       "4                         1.0            3014283.0                   4   \n",
       "\n",
       "   Presence of open auto loan  Performance Tag  \n",
       "0                           0              0.0  \n",
       "1                           0              0.0  \n",
       "2                           0              0.0  \n",
       "3                           1              0.0  \n",
       "4                           0              0.0  "
      ]
     },
     "execution_count": 60,
     "metadata": {},
     "output_type": "execute_result"
    }
   ],
   "source": [
    "# Loading the second data set\n",
    "cb = pd.read_csv('Credit Bureau data.csv')\n",
    "cb.head()"
   ]
  },
  {
   "cell_type": "code",
   "execution_count": 61,
   "metadata": {},
   "outputs": [
    {
     "data": {
      "text/plain": [
       "(71295, 19)"
      ]
     },
     "execution_count": 61,
     "metadata": {},
     "output_type": "execute_result"
    }
   ],
   "source": [
    "# Total rows and columns\n",
    "cb.shape"
   ]
  },
  {
   "cell_type": "code",
   "execution_count": 62,
   "metadata": {},
   "outputs": [
    {
     "name": "stdout",
     "output_type": "stream",
     "text": [
      "<class 'pandas.core.frame.DataFrame'>\n",
      "RangeIndex: 71295 entries, 0 to 71294\n",
      "Data columns (total 19 columns):\n",
      "Application ID                                                     71295 non-null int64\n",
      "No of times 90 DPD or worse in last 6 months                       71295 non-null int64\n",
      "No of times 60 DPD or worse in last 6 months                       71295 non-null int64\n",
      "No of times 30 DPD or worse in last 6 months                       71295 non-null int64\n",
      "No of times 90 DPD or worse in last 12 months                      71295 non-null int64\n",
      "No of times 60 DPD or worse in last 12 months                      71295 non-null int64\n",
      "No of times 30 DPD or worse in last 12 months                      71295 non-null int64\n",
      "Avgas CC Utilization in last 12 months                             70237 non-null float64\n",
      "No of trades opened in last 6 months                               71294 non-null float64\n",
      "No of trades opened in last 12 months                              71295 non-null int64\n",
      "No of PL trades opened in last 6 months                            71295 non-null int64\n",
      "No of PL trades opened in last 12 months                           71295 non-null int64\n",
      "No of Inquiries in last 6 months (excluding home & auto loans)     71295 non-null int64\n",
      "No of Inquiries in last 12 months (excluding home & auto loans)    71295 non-null int64\n",
      "Presence of open home loan                                         71023 non-null float64\n",
      "Outstanding Balance                                                71023 non-null float64\n",
      "Total No of Trades                                                 71295 non-null int64\n",
      "Presence of open auto loan                                         71295 non-null int64\n",
      "Performance Tag                                                    69870 non-null float64\n",
      "dtypes: float64(5), int64(14)\n",
      "memory usage: 10.3 MB\n"
     ]
    }
   ],
   "source": [
    "# data types of columns\n",
    "cb.info()"
   ]
  },
  {
   "cell_type": "code",
   "execution_count": 63,
   "metadata": {},
   "outputs": [
    {
     "data": {
      "text/plain": [
       "Application ID                                                        0\n",
       "No of times 90 DPD or worse in last 6 months                          0\n",
       "No of times 60 DPD or worse in last 6 months                          0\n",
       "No of times 30 DPD or worse in last 6 months                          0\n",
       "No of times 90 DPD or worse in last 12 months                         0\n",
       "No of times 60 DPD or worse in last 12 months                         0\n",
       "No of times 30 DPD or worse in last 12 months                         0\n",
       "Avgas CC Utilization in last 12 months                             1058\n",
       "No of trades opened in last 6 months                                  1\n",
       "No of trades opened in last 12 months                                 0\n",
       "No of PL trades opened in last 6 months                               0\n",
       "No of PL trades opened in last 12 months                              0\n",
       "No of Inquiries in last 6 months (excluding home & auto loans)        0\n",
       "No of Inquiries in last 12 months (excluding home & auto loans)       0\n",
       "Presence of open home loan                                          272\n",
       "Outstanding Balance                                                 272\n",
       "Total No of Trades                                                    0\n",
       "Presence of open auto loan                                            0\n",
       "Performance Tag                                                    1425\n",
       "dtype: int64"
      ]
     },
     "execution_count": 63,
     "metadata": {},
     "output_type": "execute_result"
    }
   ],
   "source": [
    "# count of null values across columns\n",
    "cb.isnull().sum()"
   ]
  },
  {
   "cell_type": "code",
   "execution_count": 64,
   "metadata": {},
   "outputs": [
    {
     "data": {
      "text/plain": [
       "Application ID                                                     0.00\n",
       "No of times 90 DPD or worse in last 6 months                       0.00\n",
       "No of times 60 DPD or worse in last 6 months                       0.00\n",
       "No of times 30 DPD or worse in last 6 months                       0.00\n",
       "No of times 90 DPD or worse in last 12 months                      0.00\n",
       "No of times 60 DPD or worse in last 12 months                      0.00\n",
       "No of times 30 DPD or worse in last 12 months                      0.00\n",
       "Avgas CC Utilization in last 12 months                             1.48\n",
       "No of trades opened in last 6 months                               0.00\n",
       "No of trades opened in last 12 months                              0.00\n",
       "No of PL trades opened in last 6 months                            0.00\n",
       "No of PL trades opened in last 12 months                           0.00\n",
       "No of Inquiries in last 6 months (excluding home & auto loans)     0.00\n",
       "No of Inquiries in last 12 months (excluding home & auto loans)    0.00\n",
       "Presence of open home loan                                         0.38\n",
       "Outstanding Balance                                                0.38\n",
       "Total No of Trades                                                 0.00\n",
       "Presence of open auto loan                                         0.00\n",
       "Performance Tag                                                    2.00\n",
       "dtype: float64"
      ]
     },
     "execution_count": 64,
     "metadata": {},
     "output_type": "execute_result"
    }
   ],
   "source": [
    "# percentage of null values in columns\n",
    "round(100*(cb.isnull().sum())/len(cb),2)"
   ]
  },
  {
   "cell_type": "code",
   "execution_count": 65,
   "metadata": {},
   "outputs": [
    {
     "data": {
      "text/plain": [
       "(68847, 19)"
      ]
     },
     "execution_count": 65,
     "metadata": {},
     "output_type": "execute_result"
    }
   ],
   "source": [
    "# Dropping records with null value\n",
    "cb.dropna(inplace=True)\n",
    "cb.shape"
   ]
  },
  {
   "cell_type": "code",
   "execution_count": 66,
   "metadata": {},
   "outputs": [],
   "source": [
    "df = df.set_index('Application ID')\n",
    "cb = cb.set_index('Application ID')"
   ]
  },
  {
   "cell_type": "code",
   "execution_count": 67,
   "metadata": {},
   "outputs": [
    {
     "data": {
      "text/html": [
       "<div>\n",
       "<style scoped>\n",
       "    .dataframe tbody tr th:only-of-type {\n",
       "        vertical-align: middle;\n",
       "    }\n",
       "\n",
       "    .dataframe tbody tr th {\n",
       "        vertical-align: top;\n",
       "    }\n",
       "\n",
       "    .dataframe thead th {\n",
       "        text-align: right;\n",
       "    }\n",
       "</style>\n",
       "<table border=\"1\" class=\"dataframe\">\n",
       "  <thead>\n",
       "    <tr style=\"text-align: right;\">\n",
       "      <th></th>\n",
       "      <th>Age</th>\n",
       "      <th>Gender</th>\n",
       "      <th>Marital Status (at the time of application)</th>\n",
       "      <th>No of dependents</th>\n",
       "      <th>Income</th>\n",
       "      <th>Education</th>\n",
       "      <th>Profession</th>\n",
       "      <th>Type of residence</th>\n",
       "      <th>No of months in current residence</th>\n",
       "      <th>No of months in current company</th>\n",
       "      <th>...</th>\n",
       "      <th>No of trades opened in last 12 months</th>\n",
       "      <th>No of PL trades opened in last 6 months</th>\n",
       "      <th>No of PL trades opened in last 12 months</th>\n",
       "      <th>No of Inquiries in last 6 months (excluding home &amp; auto loans)</th>\n",
       "      <th>No of Inquiries in last 12 months (excluding home &amp; auto loans)</th>\n",
       "      <th>Presence of open home loan</th>\n",
       "      <th>Outstanding Balance</th>\n",
       "      <th>Total No of Trades</th>\n",
       "      <th>Presence of open auto loan</th>\n",
       "      <th>Performance Tag_y</th>\n",
       "    </tr>\n",
       "    <tr>\n",
       "      <th>Application ID</th>\n",
       "      <th></th>\n",
       "      <th></th>\n",
       "      <th></th>\n",
       "      <th></th>\n",
       "      <th></th>\n",
       "      <th></th>\n",
       "      <th></th>\n",
       "      <th></th>\n",
       "      <th></th>\n",
       "      <th></th>\n",
       "      <th></th>\n",
       "      <th></th>\n",
       "      <th></th>\n",
       "      <th></th>\n",
       "      <th></th>\n",
       "      <th></th>\n",
       "      <th></th>\n",
       "      <th></th>\n",
       "      <th></th>\n",
       "      <th></th>\n",
       "      <th></th>\n",
       "    </tr>\n",
       "  </thead>\n",
       "  <tbody>\n",
       "    <tr>\n",
       "      <td>100450</td>\n",
       "      <td>52</td>\n",
       "      <td>M</td>\n",
       "      <td>Married</td>\n",
       "      <td>4.0</td>\n",
       "      <td>32.0</td>\n",
       "      <td>Professional</td>\n",
       "      <td>SE_PROF</td>\n",
       "      <td>Rented</td>\n",
       "      <td>79</td>\n",
       "      <td>3</td>\n",
       "      <td>...</td>\n",
       "      <td>8</td>\n",
       "      <td>2</td>\n",
       "      <td>5</td>\n",
       "      <td>1</td>\n",
       "      <td>3</td>\n",
       "      <td>1.0</td>\n",
       "      <td>3903438.0</td>\n",
       "      <td>9</td>\n",
       "      <td>0</td>\n",
       "      <td>0.0</td>\n",
       "    </tr>\n",
       "    <tr>\n",
       "      <td>128993</td>\n",
       "      <td>36</td>\n",
       "      <td>M</td>\n",
       "      <td>Married</td>\n",
       "      <td>4.0</td>\n",
       "      <td>13.0</td>\n",
       "      <td>Professional</td>\n",
       "      <td>SAL</td>\n",
       "      <td>Rented</td>\n",
       "      <td>6</td>\n",
       "      <td>21</td>\n",
       "      <td>...</td>\n",
       "      <td>6</td>\n",
       "      <td>1</td>\n",
       "      <td>4</td>\n",
       "      <td>4</td>\n",
       "      <td>7</td>\n",
       "      <td>0.0</td>\n",
       "      <td>741058.0</td>\n",
       "      <td>8</td>\n",
       "      <td>0</td>\n",
       "      <td>1.0</td>\n",
       "    </tr>\n",
       "    <tr>\n",
       "      <td>142768</td>\n",
       "      <td>55</td>\n",
       "      <td>M</td>\n",
       "      <td>Married</td>\n",
       "      <td>1.0</td>\n",
       "      <td>29.0</td>\n",
       "      <td>Phd</td>\n",
       "      <td>SAL</td>\n",
       "      <td>Rented</td>\n",
       "      <td>46</td>\n",
       "      <td>3</td>\n",
       "      <td>...</td>\n",
       "      <td>7</td>\n",
       "      <td>2</td>\n",
       "      <td>4</td>\n",
       "      <td>1</td>\n",
       "      <td>2</td>\n",
       "      <td>0.0</td>\n",
       "      <td>815325.0</td>\n",
       "      <td>9</td>\n",
       "      <td>0</td>\n",
       "      <td>0.0</td>\n",
       "    </tr>\n",
       "    <tr>\n",
       "      <td>176721</td>\n",
       "      <td>55</td>\n",
       "      <td>M</td>\n",
       "      <td>Married</td>\n",
       "      <td>3.0</td>\n",
       "      <td>53.0</td>\n",
       "      <td>Professional</td>\n",
       "      <td>SE_PROF</td>\n",
       "      <td>Rented</td>\n",
       "      <td>6</td>\n",
       "      <td>27</td>\n",
       "      <td>...</td>\n",
       "      <td>1</td>\n",
       "      <td>0</td>\n",
       "      <td>1</td>\n",
       "      <td>2</td>\n",
       "      <td>3</td>\n",
       "      <td>0.0</td>\n",
       "      <td>209593.0</td>\n",
       "      <td>3</td>\n",
       "      <td>0</td>\n",
       "      <td>0.0</td>\n",
       "    </tr>\n",
       "    <tr>\n",
       "      <td>197956</td>\n",
       "      <td>28</td>\n",
       "      <td>F</td>\n",
       "      <td>Married</td>\n",
       "      <td>3.0</td>\n",
       "      <td>35.0</td>\n",
       "      <td>Masters</td>\n",
       "      <td>SAL</td>\n",
       "      <td>Rented</td>\n",
       "      <td>6</td>\n",
       "      <td>43</td>\n",
       "      <td>...</td>\n",
       "      <td>13</td>\n",
       "      <td>5</td>\n",
       "      <td>5</td>\n",
       "      <td>6</td>\n",
       "      <td>11</td>\n",
       "      <td>0.0</td>\n",
       "      <td>992024.0</td>\n",
       "      <td>25</td>\n",
       "      <td>0</td>\n",
       "      <td>0.0</td>\n",
       "    </tr>\n",
       "  </tbody>\n",
       "</table>\n",
       "<p>5 rows × 33 columns</p>\n",
       "</div>"
      ],
      "text/plain": [
       "                Age Gender Marital Status (at the time of application)  \\\n",
       "Application ID                                                           \n",
       "100450           52      M                                     Married   \n",
       "128993           36      M                                     Married   \n",
       "142768           55      M                                     Married   \n",
       "176721           55      M                                     Married   \n",
       "197956           28      F                                     Married   \n",
       "\n",
       "                No of dependents  Income     Education Profession   \\\n",
       "Application ID                                                       \n",
       "100450                       4.0    32.0  Professional     SE_PROF   \n",
       "128993                       4.0    13.0  Professional         SAL   \n",
       "142768                       1.0    29.0           Phd         SAL   \n",
       "176721                       3.0    53.0  Professional     SE_PROF   \n",
       "197956                       3.0    35.0       Masters         SAL   \n",
       "\n",
       "               Type of residence  No of months in current residence  \\\n",
       "Application ID                                                        \n",
       "100450                    Rented                                 79   \n",
       "128993                    Rented                                  6   \n",
       "142768                    Rented                                 46   \n",
       "176721                    Rented                                  6   \n",
       "197956                    Rented                                  6   \n",
       "\n",
       "                No of months in current company  ...  \\\n",
       "Application ID                                   ...   \n",
       "100450                                        3  ...   \n",
       "128993                                       21  ...   \n",
       "142768                                        3  ...   \n",
       "176721                                       27  ...   \n",
       "197956                                       43  ...   \n",
       "\n",
       "                No of trades opened in last 12 months  \\\n",
       "Application ID                                          \n",
       "100450                                              8   \n",
       "128993                                              6   \n",
       "142768                                              7   \n",
       "176721                                              1   \n",
       "197956                                             13   \n",
       "\n",
       "               No of PL trades opened in last 6 months  \\\n",
       "Application ID                                           \n",
       "100450                                               2   \n",
       "128993                                               1   \n",
       "142768                                               2   \n",
       "176721                                               0   \n",
       "197956                                               5   \n",
       "\n",
       "               No of PL trades opened in last 12 months  \\\n",
       "Application ID                                            \n",
       "100450                                                5   \n",
       "128993                                                4   \n",
       "142768                                                4   \n",
       "176721                                                1   \n",
       "197956                                                5   \n",
       "\n",
       "               No of Inquiries in last 6 months (excluding home & auto loans)  \\\n",
       "Application ID                                                                  \n",
       "100450                                                          1               \n",
       "128993                                                          4               \n",
       "142768                                                          1               \n",
       "176721                                                          2               \n",
       "197956                                                          6               \n",
       "\n",
       "               No of Inquiries in last 12 months (excluding home & auto loans)  \\\n",
       "Application ID                                                                   \n",
       "100450                                                          3                \n",
       "128993                                                          7                \n",
       "142768                                                          2                \n",
       "176721                                                          3                \n",
       "197956                                                         11                \n",
       "\n",
       "                Presence of open home loan  Outstanding Balance  \\\n",
       "Application ID                                                    \n",
       "100450                                 1.0            3903438.0   \n",
       "128993                                 0.0             741058.0   \n",
       "142768                                 0.0             815325.0   \n",
       "176721                                 0.0             209593.0   \n",
       "197956                                 0.0             992024.0   \n",
       "\n",
       "                Total No of Trades  Presence of open auto loan  \\\n",
       "Application ID                                                   \n",
       "100450                           9                           0   \n",
       "128993                           8                           0   \n",
       "142768                           9                           0   \n",
       "176721                           3                           0   \n",
       "197956                          25                           0   \n",
       "\n",
       "                Performance Tag_y  \n",
       "Application ID                     \n",
       "100450                        0.0  \n",
       "128993                        1.0  \n",
       "142768                        0.0  \n",
       "176721                        0.0  \n",
       "197956                        0.0  \n",
       "\n",
       "[5 rows x 33 columns]"
      ]
     },
     "execution_count": 67,
     "metadata": {},
     "output_type": "execute_result"
    }
   ],
   "source": [
    "# merging the demographic and credit bureau data\n",
    "merged = df.merge(cb, left_index = True, right_index = True)\n",
    "merged.head()"
   ]
  },
  {
   "cell_type": "code",
   "execution_count": 68,
   "metadata": {},
   "outputs": [
    {
     "data": {
      "text/plain": [
       "(68570, 33)"
      ]
     },
     "execution_count": 68,
     "metadata": {},
     "output_type": "execute_result"
    }
   ],
   "source": [
    "merged.shape"
   ]
  },
  {
   "cell_type": "code",
   "execution_count": 69,
   "metadata": {},
   "outputs": [
    {
     "data": {
      "text/plain": [
       "Age                                                                0\n",
       "Gender                                                             0\n",
       "Marital Status (at the time of application)                        0\n",
       "No of dependents                                                   0\n",
       "Income                                                             0\n",
       "Education                                                          0\n",
       "Profession                                                         0\n",
       "Type of residence                                                  0\n",
       "No of months in current residence                                  0\n",
       "No of months in current company                                    0\n",
       "Performance Tag_x                                                  0\n",
       "Age_bin                                                            0\n",
       "Income_bin                                                         0\n",
       "current_residence_bin                                              0\n",
       "current_company_bin                                                0\n",
       "No of times 90 DPD or worse in last 6 months                       0\n",
       "No of times 60 DPD or worse in last 6 months                       0\n",
       "No of times 30 DPD or worse in last 6 months                       0\n",
       "No of times 90 DPD or worse in last 12 months                      0\n",
       "No of times 60 DPD or worse in last 12 months                      0\n",
       "No of times 30 DPD or worse in last 12 months                      0\n",
       "Avgas CC Utilization in last 12 months                             0\n",
       "No of trades opened in last 6 months                               0\n",
       "No of trades opened in last 12 months                              0\n",
       "No of PL trades opened in last 6 months                            0\n",
       "No of PL trades opened in last 12 months                           0\n",
       "No of Inquiries in last 6 months (excluding home & auto loans)     0\n",
       "No of Inquiries in last 12 months (excluding home & auto loans)    0\n",
       "Presence of open home loan                                         0\n",
       "Outstanding Balance                                                0\n",
       "Total No of Trades                                                 0\n",
       "Presence of open auto loan                                         0\n",
       "Performance Tag_y                                                  0\n",
       "dtype: int64"
      ]
     },
     "execution_count": 69,
     "metadata": {},
     "output_type": "execute_result"
    }
   ],
   "source": [
    "merged.isnull().sum()"
   ]
  },
  {
   "cell_type": "markdown",
   "metadata": {},
   "source": [
    "### EDA"
   ]
  },
  {
   "cell_type": "code",
   "execution_count": 70,
   "metadata": {},
   "outputs": [],
   "source": [
    "# Bining few feaures\n",
    "merged['Avgas CC Utilization in last 12 months_Bins']  = pd.cut(merged['Avgas CC Utilization in last 12 months'] , 10, include_lowest=True)\n",
    "merged['No of trades opened in last 6 months_Bins']  = pd.cut(merged['No of trades opened in last 6 months'] , 10, include_lowest=True)\n",
    "merged['No of trades opened in last 12 months_Bins']  = pd.cut(merged['No of trades opened in last 12 months'] , 10, include_lowest=True)\n",
    "merged['No of PL trades opened in last 6 months_Bins']  = pd.cut(merged['No of PL trades opened in last 6 months'] , 10, include_lowest=True)\n",
    "merged['No of PL trades opened in last 12 months_Bins']  = pd.cut(merged['No of PL trades opened in last 6 months'] , 10, include_lowest=True)\n",
    "merged['No of Inquiries in last 6 months (excluding home & auto loans)_Bins']  = pd.cut(merged['No of Inquiries in last 6 months (excluding home & auto loans)'] , 10, include_lowest=True)\n",
    "merged['No of Inquiries in last 12 months (excluding home & auto loans)_Bins']  = pd.cut(merged['No of Inquiries in last 12 months (excluding home & auto loans)'] , 10, include_lowest=True)\n",
    "merged['Total No of Trades_Bins']  = pd.cut(merged['Total No of Trades'] , 10, include_lowest=True)"
   ]
  },
  {
   "cell_type": "code",
   "execution_count": 71,
   "metadata": {},
   "outputs": [
    {
     "data": {
      "image/png": "[encoded data removed]",
      "text/plain": [
       "<Figure size 432x288 with 1 Axes>"
      ]
     },
     "metadata": {
      "needs_background": "light"
     },
     "output_type": "display_data"
    }
   ],
   "source": [
    "# Outstanding Balance\n",
    "sns.boxplot(x='Outstanding Balance', data=merged)\n",
    "plt.show()"
   ]
  },
  {
   "cell_type": "code",
   "execution_count": 72,
   "metadata": {},
   "outputs": [],
   "source": [
    "woe_df = merged.drop(['Age', 'No of months in current residence', 'No of months in current company','Income','Performance Tag_y',\n",
    "                      'Avgas CC Utilization in last 12 months','No of trades opened in last 6 months','No of trades opened in last 12 months',\n",
    "                     'No of PL trades opened in last 6 months','No of PL trades opened in last 12 months',\n",
    "                     'No of Inquiries in last 6 months (excluding home & auto loans)','No of Inquiries in last 12 months (excluding home & auto loans)',\n",
    "                     'Total No of Trades'], axis=1)"
   ]
  },
  {
   "cell_type": "code",
   "execution_count": 73,
   "metadata": {
    "scrolled": false
   },
   "outputs": [
    {
     "name": "stdout",
     "output_type": "stream",
     "text": [
      "WoE and IV for column: Gender\n",
      "  Value    All   Good   Bad  Distr_Good  Distr_Bad       WoE        IV\n",
      "1     F  16201  15498   703    0.235973      0.243 -0.029345  0.000206\n",
      "0     M  52369  50179  2190    0.764027      0.757  0.009240  0.000065\n",
      "IV score: 0.00\n",
      "\n",
      "\n",
      "WoE and IV for column: Marital Status (at the time of application)\n",
      "     Value    All   Good   Bad  Distr_Good  Distr_Bad       WoE        IV\n",
      "1   Single  10134   9697   437    0.147647   0.151054 -0.022816  0.000078\n",
      "0  Married  58436  55980  2456    0.852353   0.848946  0.004006  0.000014\n",
      "IV score: 0.00\n",
      "\n",
      "\n",
      "WoE and IV for column: No of dependents\n",
      "   Value    All   Good  Bad  Distr_Good  Distr_Bad       WoE        IV\n",
      "2    3.0  15342  14662  680    0.223244   0.235050 -0.051533  0.000608\n",
      "1    1.0  14929  14269  660    0.217260   0.228137 -0.048850  0.000531\n",
      "4    5.0  11649  11156  493    0.169862   0.170411 -0.003231  0.000002\n",
      "0    4.0  11793  11309  484    0.172191   0.167300  0.028814  0.000141\n",
      "3    2.0  14857  14281  576    0.217443   0.199101  0.088123  0.001616\n",
      "IV score: 0.00\n",
      "\n",
      "\n",
      "WoE and IV for column: Education\n",
      "          Value    All   Good  Bad  Distr_Good  Distr_Bad       WoE  \\\n",
      "4        Others    113    105    8    0.001599   0.002765 -0.547936   \n",
      "3      Bachelor  17007  16277  730    0.247834   0.252333 -0.017991   \n",
      "2       Masters  23086  22112  974    0.336678   0.336675  0.000010   \n",
      "1           Phd   4393   4209  184    0.064086   0.063602  0.007590   \n",
      "0  Professional  23971  22974  997    0.349803   0.344625  0.014913   \n",
      "\n",
      "             IV  \n",
      "4  6.392015e-04  \n",
      "3  8.094345e-05  \n",
      "2  3.142251e-11  \n",
      "1  3.677772e-06  \n",
      "0  7.721694e-05  \n",
      "IV score: 0.00\n",
      "\n",
      "\n",
      "WoE and IV for column: Profession \n",
      "     Value    All   Good   Bad  Distr_Good  Distr_Bad       WoE        IV\n",
      "2       SE  13679  13050   629    0.198700   0.217421 -0.090043  0.001686\n",
      "0  SE_PROF  15936  15274   662    0.232562   0.228828  0.016187  0.000060\n",
      "1      SAL  38955  37353  1602    0.568738   0.553750  0.026706  0.000400\n",
      "IV score: 0.00\n",
      "\n",
      "\n",
      "WoE and IV for column: Type of residence\n",
      "                 Value    All   Good   Bad  Distr_Good  Distr_Bad       WoE  \\\n",
      "3  Living with Parents   1733   1654    79    0.025184   0.027307 -0.080951   \n",
      "2     Company provided   1577   1506    71    0.022930   0.024542 -0.067922   \n",
      "0               Rented  51324  49163  2161    0.748557   0.746975  0.002115   \n",
      "1                Owned  13741  13164   577    0.200435   0.199447  0.004944   \n",
      "4               Others    195    190     5    0.002893   0.001728  0.515131   \n",
      "\n",
      "         IV  \n",
      "3  0.000172  \n",
      "2  0.000109  \n",
      "0  0.000003  \n",
      "1  0.000005  \n",
      "4  0.000600  \n",
      "IV score: 0.00\n",
      "\n",
      "\n",
      "WoE and IV for column: Age_bin\n",
      "           Value    All   Good  Bad  Distr_Good  Distr_Bad       WoE        IV\n",
      "1   (30.0, 40.0]  18347  17527  820    0.266867   0.283443 -0.060261  0.000999\n",
      "3   (40.0, 50.0]  22465  21529  936    0.327801   0.323540  0.013086  0.000056\n",
      "4   (60.0, 70.0]   4765   4569  196    0.069568   0.067750  0.026480  0.000048\n",
      "2   (20.0, 30.0]   5675   5442  233    0.082860   0.080539  0.028409  0.000066\n",
      "0   (50.0, 60.0]  17244  16538  706    0.251808   0.244037  0.031346  0.000244\n",
      "5  (9.999, 20.0]     74     72    2    0.001096   0.000691  0.461064  0.000187\n",
      "IV score: 0.00\n",
      "\n",
      "\n",
      "WoE and IV for column: Income_bin\n",
      "            Value    All   Good  Bad  Distr_Good  Distr_Bad       WoE  \\\n",
      "5  (-0.001, 10.0]  12548  11852  696    0.180459   0.240581 -0.287553   \n",
      "1    (10.0, 20.0]  13135  12536  599    0.190874   0.207052 -0.081357   \n",
      "2    (20.0, 30.0]  13362  12778  584    0.194558   0.201867 -0.036876   \n",
      "0    (30.0, 40.0]  13389  12909  480    0.196553   0.165918  0.169439   \n",
      "4    (40.0, 50.0]  10640  10263  377    0.156265   0.130315  0.181601   \n",
      "3    (50.0, 60.0]   5496   5339  157    0.081292   0.054269  0.404093   \n",
      "\n",
      "         IV  \n",
      "5  0.017288  \n",
      "1  0.001316  \n",
      "2  0.000269  \n",
      "0  0.005191  \n",
      "4  0.004713  \n",
      "3  0.010920  \n",
      "IV score: 0.04\n",
      "\n",
      "\n",
      "WoE and IV for column: current_residence_bin\n",
      "             Value    All   Good   Bad  Distr_Good  Distr_Bad       WoE  \\\n",
      "10    (10.0, 20.0]   3703   3453   250    0.052575   0.086415 -0.496917   \n",
      "9     (20.0, 30.0]   3440   3215   225    0.048952   0.077774 -0.462973   \n",
      "8     (30.0, 40.0]   3481   3282   199    0.049972   0.068787 -0.319551   \n",
      "11  (120.0, 130.0]    910    860    50    0.013094   0.017283 -0.277545   \n",
      "2     (40.0, 50.0]   3256   3081   175    0.046911   0.060491 -0.254231   \n",
      "4     (50.0, 60.0]   3126   2959   167    0.045054   0.057726 -0.247842   \n",
      "0     (70.0, 80.0]   2773   2640   133    0.040197   0.045973 -0.134270   \n",
      "3     (80.0, 90.0]   2678   2554   124    0.038887   0.042862 -0.097320   \n",
      "5     (60.0, 70.0]   2850   2722   128    0.041445   0.044245 -0.065363   \n",
      "12   (90.0, 100.0]   2713   2597   116    0.039542   0.040097 -0.013933   \n",
      "6   (100.0, 110.0]   2798   2694   104    0.041019   0.035949  0.131937   \n",
      "7   (110.0, 120.0]   2405   2318    87    0.035294   0.030073  0.160097   \n",
      "1   (-0.001, 10.0]  34437  33302  1135    0.507057   0.392326  0.256530   \n",
      "\n",
      "          IV  \n",
      "10  0.016816  \n",
      "9   0.013344  \n",
      "8   0.006012  \n",
      "11  0.001163  \n",
      "2   0.003452  \n",
      "4   0.003141  \n",
      "0   0.000776  \n",
      "3   0.000387  \n",
      "5   0.000183  \n",
      "12  0.000008  \n",
      "6   0.000669  \n",
      "7   0.000836  \n",
      "1   0.029432  \n",
      "IV score: 0.08\n",
      "\n",
      "\n",
      "WoE and IV for column: current_company_bin\n",
      "             Value    All   Good  Bad  Distr_Good  Distr_Bad       WoE  \\\n",
      "5     (10.0, 20.0]   9643   9162  481    0.139501   0.166263 -0.175502   \n",
      "0   (-0.001, 10.0]  11303  10753  550    0.163726   0.190114 -0.149433   \n",
      "7     (70.0, 80.0]   2274   2165  109    0.032964   0.037677 -0.133627   \n",
      "6     (60.0, 70.0]   5518   5283  235    0.080439   0.081231 -0.009791   \n",
      "8     (80.0, 90.0]      1      1    0    0.000015   0.000000  0.000000   \n",
      "9    (90.0, 100.0]      2      2    0    0.000030   0.000000  0.000000   \n",
      "10  (120.0, 130.0]      4      4    0    0.000061   0.000000  0.000000   \n",
      "11  (130.0, 140.0]      1      1    0    0.000015   0.000000  0.000000   \n",
      "12  (100.0, 110.0]      1      1    0    0.000015   0.000000  0.000000   \n",
      "4     (30.0, 40.0]  10035   9612  423    0.146353   0.146215  0.000941   \n",
      "1     (20.0, 30.0]   9881   9475  406    0.144267   0.140339  0.027604   \n",
      "2     (40.0, 50.0]  10050   9670  380    0.147236   0.131352  0.114158   \n",
      "3     (50.0, 60.0]   9857   9548  309    0.145378   0.106810  0.308291   \n",
      "\n",
      "              IV  \n",
      "5   4.696880e-03  \n",
      "0   3.943322e-03  \n",
      "7   6.297568e-04  \n",
      "6   7.748872e-06  \n",
      "8   0.000000e+00  \n",
      "9   0.000000e+00  \n",
      "10  0.000000e+00  \n",
      "11  0.000000e+00  \n",
      "12  0.000000e+00  \n",
      "4   1.294368e-07  \n",
      "1   1.084259e-04  \n",
      "2   1.813299e-03  \n",
      "3   1.189035e-02  \n",
      "IV score: 0.02\n",
      "\n",
      "\n",
      "WoE and IV for column: No of times 90 DPD or worse in last 6 months\n",
      "   Value    All   Good   Bad  Distr_Good  Distr_Bad       WoE        IV\n",
      "3      3    205    183    22    0.002786   0.007605 -1.004011  0.004838\n",
      "2      2   1761   1603   158    0.024407   0.054615 -0.805418  0.024329\n",
      "1      1  13168  12199   969    0.185742   0.334946 -0.589610  0.087972\n",
      "0      0  53436  51692  1744    0.787064   0.602834  0.266667  0.049128\n",
      "IV score: 0.17\n",
      "\n",
      "\n",
      "WoE and IV for column: No of times 60 DPD or worse in last 6 months\n",
      "   Value    All   Good   Bad  Distr_Good  Distr_Bad       WoE        IV\n",
      "3      3   1458   1313   145    0.019992   0.050121 -0.919119  0.027692\n",
      "4      4    401    362    39    0.005512   0.013481 -0.894372  0.007127\n",
      "5      5     70     64     6    0.000974   0.002074 -0.755331  0.000830\n",
      "2      2   4890   4503   387    0.068563   0.133771 -0.668380  0.043584\n",
      "1      1  11096  10314   782    0.157041   0.270308 -0.543052  0.061510\n",
      "0      0  50655  49121  1534    0.747918   0.530245  0.343953  0.074869\n",
      "IV score: 0.22\n",
      "\n",
      "\n",
      "WoE and IV for column: No of times 30 DPD or worse in last 6 months\n",
      "   Value    All   Good   Bad  Distr_Good  Distr_Bad       WoE        IV\n",
      "6      5    375    332    43    0.005055   0.014863 -1.078520  0.010579\n",
      "4      4   1033    929   104    0.014145   0.035949 -0.932737  0.020337\n",
      "3      3   2817   2573   244    0.039177   0.084342 -0.766795  0.034632\n",
      "5      6     95     87     8    0.001325   0.002765 -0.735988  0.001060\n",
      "1      2   5878   5415   463    0.082449   0.160041 -0.663254  0.051464\n",
      "7      7     15     14     1    0.000213   0.000346 -0.483397  0.000064\n",
      "2      1   9471   8848   623    0.134720   0.215347 -0.469055  0.037819\n",
      "0      0  48886  47479  1407    0.722917   0.486346  0.396373  0.093770\n",
      "IV score: 0.25\n",
      "\n",
      "\n",
      "WoE and IV for column: No of times 90 DPD or worse in last 12 months\n"
     ]
    },
    {
     "name": "stdout",
     "output_type": "stream",
     "text": [
      "   Value    All   Good   Bad  Distr_Good  Distr_Bad       WoE        IV\n",
      "5      5     35     30     5    0.000457   0.001728 -1.330695  0.001692\n",
      "4      4    262    235    27    0.003578   0.009333 -0.958706  0.005517\n",
      "3      3   1234   1116   118    0.016992   0.040788 -0.875633  0.020836\n",
      "2      2   6136   5649   487    0.086012   0.168337 -0.671485  0.055280\n",
      "1      1  11624  10830   794    0.164898   0.274456 -0.509463  0.055816\n",
      "0      0  49279  47817  1462    0.728063   0.505358  0.365121  0.081314\n",
      "IV score: 0.22\n",
      "\n",
      "\n",
      "WoE and IV for column: No of times 60 DPD or worse in last 12 months\n",
      "   Value    All   Good   Bad  Distr_Good  Distr_Bad       WoE        IV\n",
      "4      6    110     97    13    0.001477   0.004494 -1.112693  0.003357\n",
      "6      4   1036    936   100    0.014252   0.034566 -0.886009  0.017999\n",
      "5      5    389    354    35    0.005390   0.012098 -0.808506  0.005424\n",
      "3      3   3181   2910   271    0.044308   0.093674 -0.748665  0.036959\n",
      "2      2   6405   5923   482    0.090184   0.166609 -0.613801  0.046910\n",
      "1      1  12683  12026   657    0.183108   0.227100 -0.215313  0.009472\n",
      "7      7      7      7     0    0.000107   0.000000  0.000000  0.000000\n",
      "0      0  44759  43424  1335    0.661175   0.461459  0.359626  0.071823\n",
      "IV score: 0.19\n",
      "\n",
      "\n",
      "WoE and IV for column: No of times 30 DPD or worse in last 12 months\n",
      "   Value    All   Good   Bad  Distr_Good  Distr_Bad       WoE        IV\n",
      "7      6    366    328    38    0.004994   0.013135 -0.967027  0.007873\n",
      "8      7    106     95    11    0.001446   0.003802 -0.966473  0.002277\n",
      "5      5    842    756    86    0.011511   0.029727 -0.948761  0.017283\n",
      "4      4   1912   1740   172    0.026493   0.059454 -0.808309  0.026642\n",
      "6      8     23     21     2    0.000320   0.000691 -0.771080  0.000287\n",
      "3      3   4125   3778   347    0.057524   0.119945 -0.734829  0.045869\n",
      "1      2   6096   5645   451    0.085951   0.155894 -0.595397  0.041644\n",
      "2      1  11347  10833   514    0.164944   0.177670 -0.074326  0.000946\n",
      "9      9      1      1     0    0.000015   0.000000  0.000000  0.000000\n",
      "0      0  43752  42480  1272    0.646802   0.439682  0.385988  0.079946\n",
      "IV score: 0.22\n",
      "\n",
      "\n",
      "WoE and IV for column: Presence of open home loan\n",
      "   Value    All   Good   Bad  Distr_Good  Distr_Bad       WoE        IV\n",
      "1    0.0  50609  48320  2289    0.735722    0.79122 -0.072724  0.004036\n",
      "0    1.0  17961  17357   604    0.264278    0.20878  0.235722  0.013082\n",
      "IV score: 0.02\n",
      "\n",
      "\n",
      "WoE and IV for column: Outstanding Balance\n",
      "           Value  All  Good  Bad  Distr_Good  Distr_Bad       WoE        IV\n",
      "3036     18665.0    2     1    1    0.000015   0.000346 -3.122455  0.001032\n",
      "8726    402026.0    2     1    1    0.000015   0.000346 -3.122455  0.001032\n",
      "4726    220988.0    2     1    1    0.000015   0.000346 -3.122455  0.001032\n",
      "32612    14993.0    2     1    1    0.000015   0.000346 -3.122455  0.001032\n",
      "49948    16074.0    2     1    1    0.000015   0.000346 -3.122455  0.001032\n",
      "...          ...  ...   ...  ...         ...        ...       ...       ...\n",
      "21299   565278.0    1     1    0    0.000015   0.000000  0.000000  0.000000\n",
      "21300   775297.0    1     1    0    0.000015   0.000000  0.000000  0.000000\n",
      "21301  4616544.0    1     1    0    0.000015   0.000000  0.000000  0.000000\n",
      "63676  2934243.0    1     1    0    0.000015   0.000000  0.000000  0.000000\n",
      "108          0.0   93    91    2    0.001386   0.000691  0.695258  0.000483\n",
      "\n",
      "[63677 rows x 8 columns]\n",
      "IV score: 0.21\n",
      "\n",
      "\n",
      "WoE and IV for column: Presence of open auto loan\n",
      "   Value    All   Good   Bad  Distr_Good  Distr_Bad       WoE        IV\n",
      "0      0  62668  59994  2674     0.91347     0.9243 -0.011786  0.000128\n",
      "1      1   5902   5683   219     0.08653     0.0757  0.133708  0.001448\n",
      "IV score: 0.00\n",
      "\n",
      "\n",
      "WoE and IV for column: Avgas CC Utilization in last 12 months_Bins\n",
      "            Value    All   Good  Bad  Distr_Good  Distr_Bad       WoE  \\\n",
      "7    (67.8, 79.1]   2688   2467  221    0.037563   0.076391 -0.709859   \n",
      "4    (45.2, 56.5]   4990   4624  366    0.070405   0.126512 -0.586073   \n",
      "2    (33.9, 45.2]   5504   5112  392    0.077835   0.135499 -0.554371   \n",
      "8    (79.1, 90.4]   1270   1181   89    0.017982   0.030764 -0.536974   \n",
      "5    (56.5, 67.8]   3825   3563  262    0.054250   0.090563 -0.512441   \n",
      "6    (22.6, 33.9]   4853   4527  326    0.068928   0.112686 -0.491537   \n",
      "9   (90.4, 101.7]    573    540   33    0.008222   0.011407 -0.327393   \n",
      "0  (101.7, 113.0]   3573   3397  176    0.051723   0.060837 -0.162291   \n",
      "3    (11.3, 22.6]  13983  13510  473    0.205704   0.163498  0.229635   \n",
      "1  (-0.114, 11.3]  27311  26756  555    0.407388   0.191842  0.753091   \n",
      "\n",
      "         IV  \n",
      "7  0.027563  \n",
      "4  0.032883  \n",
      "2  0.031967  \n",
      "8  0.006864  \n",
      "5  0.018608  \n",
      "6  0.021508  \n",
      "9  0.001043  \n",
      "0  0.001479  \n",
      "3  0.009692  \n",
      "1  0.162325  \n",
      "IV score: 0.31\n",
      "\n",
      "\n",
      "WoE and IV for column: No of trades opened in last 6 months_Bins\n",
      "                          Value    All   Good  Bad  Distr_Good  Distr_Bad  \\\n",
      "4                    (3.6, 4.8]   6273   5840  433    0.088920   0.149672   \n",
      "5                    (2.4, 3.6]   9378   8782  596    0.133715   0.206015   \n",
      "3                    (4.8, 6.0]   5977   5659  318    0.086164   0.109920   \n",
      "0                    (1.2, 2.4]  12079  11441  638    0.174201   0.220532   \n",
      "7                    (7.2, 8.4]   1153   1101   52    0.016764   0.017974   \n",
      "2                    (6.0, 7.2]   1648   1583   65    0.024103   0.022468   \n",
      "6                    (8.4, 9.6]    616    595   21    0.009059   0.007259   \n",
      "8                   (9.6, 10.8]    238    231    7    0.003517   0.002420   \n",
      "9                  (10.8, 12.0]     76     74    2    0.001127   0.000691   \n",
      "1  (-0.013000000000000001, 1.2]  31132  30371  761    0.462430   0.263049   \n",
      "\n",
      "        WoE        IV  \n",
      "4 -0.520706  0.031634  \n",
      "5 -0.432236  0.031250  \n",
      "3 -0.243504  0.005785  \n",
      "0 -0.235834  0.010927  \n",
      "7 -0.069724  0.000084  \n",
      "2  0.070235  0.000115  \n",
      "6  0.221584  0.000399  \n",
      "8  0.374053  0.000411  \n",
      "9  0.488463  0.000213  \n",
      "1  0.564155  0.112482  \n",
      "IV score: 0.19\n",
      "\n",
      "\n",
      "WoE and IV for column: No of trades opened in last 12 months_Bins\n",
      "           Value    All   Good  Bad  Distr_Good  Distr_Bad       WoE        IV\n",
      "0     (5.6, 8.4]  12055  11217  838    0.170790   0.289665 -0.528287  0.062800\n",
      "5    (8.4, 11.2]   8335   7791  544    0.118626   0.188040 -0.460680  0.031978\n",
      "2   (11.2, 14.0]   4173   3936  237    0.059930   0.081922 -0.312595  0.006875\n",
      "8   (22.4, 25.2]    226    215   11    0.003274   0.003802 -0.149712  0.000079\n",
      "3     (2.8, 5.6]  14033  13395  638    0.203953   0.220532 -0.078156  0.001296\n",
      "9   (25.2, 28.0]     23     23    0    0.000350   0.000000  0.000000  0.000000\n",
      "6   (14.0, 16.8]   2057   1971   86    0.030011   0.029727  0.009494  0.000003\n",
      "7   (19.6, 22.4]    959    922   37    0.014038   0.012789  0.093173  0.000116\n",
      "4   (16.8, 19.6]   2207   2128   79    0.032401   0.027307  0.171035  0.000871\n",
      "1  (-0.029, 2.8]  24502  24079  423    0.366628   0.146215  0.919268  0.202618\n",
      "IV score: 0.31\n",
      "\n",
      "\n",
      "WoE and IV for column: No of PL trades opened in last 6 months_Bins\n",
      "           Value    All   Good  Bad  Distr_Good  Distr_Bad       WoE        IV\n",
      "0     (1.8, 2.4]  12521  11720  801    0.178449   0.276875 -0.439264  0.043235\n",
      "4     (2.4, 3.0]   7919   7422  497    0.113008   0.171794 -0.418841  0.024622\n",
      "5     (3.6, 4.2]   3331   3136  195    0.047749   0.067404 -0.344751  0.006776\n",
      "1     (0.6, 1.2]  13507  12817  690    0.195152   0.238507 -0.200619  0.008698\n",
      "3     (4.8, 5.4]   1087   1039   48    0.015820   0.016592 -0.047642  0.000037\n",
      "6     (5.4, 6.0]    295    287    8    0.004370   0.002765  0.457586  0.000734\n",
      "2  (-0.007, 0.6]  29910  29256  654    0.445453   0.226063  0.678278  0.148807\n",
      "IV score: 0.23\n",
      "\n",
      "\n",
      "WoE and IV for column: No of PL trades opened in last 12 months_Bins\n",
      "           Value    All   Good  Bad  Distr_Good  Distr_Bad       WoE        IV\n",
      "0     (1.8, 2.4]  12521  11720  801    0.178449   0.276875 -0.439264  0.043235\n",
      "4     (2.4, 3.0]   7919   7422  497    0.113008   0.171794 -0.418841  0.024622\n",
      "5     (3.6, 4.2]   3331   3136  195    0.047749   0.067404 -0.344751  0.006776\n",
      "1     (0.6, 1.2]  13507  12817  690    0.195152   0.238507 -0.200619  0.008698\n",
      "3     (4.8, 5.4]   1087   1039   48    0.015820   0.016592 -0.047642  0.000037\n",
      "6     (5.4, 6.0]    295    287    8    0.004370   0.002765  0.457586  0.000734\n",
      "2  (-0.007, 0.6]  29910  29256  654    0.445453   0.226063  0.678278  0.148807\n",
      "IV score: 0.23\n",
      "\n",
      "\n",
      "WoE and IV for column: No of Inquiries in last 6 months (excluding home & auto loans)_Bins\n"
     ]
    },
    {
     "name": "stdout",
     "output_type": "stream",
     "text": [
      "           Value    All   Good   Bad  Distr_Good  Distr_Bad       WoE  \\\n",
      "4     (2.0, 3.0]   7226   6714   512    0.102228   0.176979 -0.548829   \n",
      "1     (3.0, 4.0]   4233   3964   269    0.060356   0.092983 -0.432157   \n",
      "2     (1.0, 2.0]  12782  12121   661    0.184555   0.228483 -0.213514   \n",
      "7     (4.0, 5.0]   3015   2865   150    0.043623   0.051849 -0.172766   \n",
      "3     (5.0, 6.0]   1745   1673    72    0.025473   0.024888  0.023253   \n",
      "5     (7.0, 8.0]    834    801    33    0.012196   0.011407  0.066899   \n",
      "6     (6.0, 7.0]   1145   1105    40    0.016825   0.013826  0.196266   \n",
      "0  (-0.011, 1.0]  37057  35916  1141    0.546858   0.394400  0.326823   \n",
      "8     (8.0, 9.0]    425    412    13    0.006273   0.004494  0.333619   \n",
      "9    (9.0, 10.0]    108    106     2    0.001614   0.000691  0.847837   \n",
      "\n",
      "         IV  \n",
      "4  0.041026  \n",
      "1  0.014100  \n",
      "2  0.009379  \n",
      "7  0.001421  \n",
      "3  0.000014  \n",
      "5  0.000053  \n",
      "6  0.000588  \n",
      "0  0.049827  \n",
      "8  0.000594  \n",
      "9  0.000782  \n",
      "IV score: 0.12\n",
      "\n",
      "\n",
      "WoE and IV for column: No of Inquiries in last 12 months (excluding home & auto loans)_Bins\n",
      "           Value    All   Good  Bad  Distr_Good  Distr_Bad       WoE        IV\n",
      "4     (4.0, 6.0]   8504   7902  602    0.120316   0.208088 -0.547841  0.048085\n",
      "1     (6.0, 8.0]   5320   4970  350    0.075673   0.120982 -0.469213  0.021259\n",
      "0     (2.0, 4.0]  16014  15193  821    0.231329   0.283788 -0.204388  0.010722\n",
      "5    (8.0, 10.0]   3284   3130  154    0.047657   0.053232 -0.110619  0.000617\n",
      "8   (16.0, 18.0]    137    131    6    0.001995   0.002074 -0.039017  0.000003\n",
      "3   (10.0, 12.0]   2161   2068   93    0.031487   0.032147 -0.020717  0.000014\n",
      "9   (18.0, 20.0]      8      8    0    0.000122   0.000000  0.000000  0.000000\n",
      "7   (12.0, 14.0]   1338   1289   49    0.019626   0.016937  0.147347  0.000396\n",
      "6   (14.0, 16.0]    572    554   18    0.008435   0.006222  0.304338  0.000674\n",
      "2  (-0.021, 2.0]  31232  30432  800    0.463359   0.276530  0.516183  0.096438\n",
      "IV score: 0.18\n",
      "\n",
      "\n",
      "WoE and IV for column: Total No of Trades_Bins\n",
      "          Value    All   Good   Bad  Distr_Good  Distr_Bad       WoE        IV\n",
      "5   (9.6, 13.9]   8675   8064   611    0.122783   0.211199 -0.542387  0.047956\n",
      "0    (5.3, 9.6]  18173  17092  1081    0.260243   0.373661 -0.361731  0.041027\n",
      "4  (13.9, 18.2]   2451   2326   125    0.035416   0.043208 -0.198863  0.001550\n",
      "7  (31.1, 35.4]    520    497    23    0.007567   0.007950 -0.049359  0.000019\n",
      "8  (39.7, 44.0]     12     12     0    0.000183   0.000000  0.000000  0.000000\n",
      "2  (22.5, 26.8]   2733   2619   114    0.039877   0.039405  0.011895  0.000006\n",
      "3  (26.8, 31.1]   2087   2003    84    0.030498   0.029036  0.049130  0.000072\n",
      "6  (18.2, 22.5]   2511   2424    87    0.036908   0.030073  0.204811  0.001400\n",
      "1  (0.956, 5.3]  31312  30546   766    0.465094   0.264777  0.563352  0.112849\n",
      "9  (35.4, 39.7]     96     94     2    0.001431   0.000691  0.727693  0.000538\n",
      "IV score: 0.21\n",
      "\n",
      "\n"
     ]
    }
   ],
   "source": [
    "for col in woe_df.columns:\n",
    "    if col == 'Performance Tag_x': continue\n",
    "    else:\n",
    "        print('WoE and IV for column: {}'.format(col))\n",
    "        woe_final, iv = calculate_woe_iv(woe_df, col, 'Performance Tag_x')\n",
    "        print(woe_final)\n",
    "        print('IV score: {:.2f}'.format(iv))\n",
    "        print('\\n')"
   ]
  },
  {
   "cell_type": "markdown",
   "metadata": {},
   "source": [
    "#### The best features after analysing the IV score are - \n",
    "    - Income_bin - 0.04\n",
    "    - current_residence_bin - 0.08\n",
    "    - current_company_bin - 0.02\n",
    "    - No of times 90 DPD or worse in last 6 months - 0.17\n",
    "    - No of times 60 DPD or worse in last 6 months - 0.22\n",
    "    - No of times 30 DPD or worse in last 6 months - 0.25\n",
    "    - No of times 90 DPD or worse in last 12 months - 0.22\n",
    "    - No of times 60 DPD or worse in last 12 months - 0.19\n",
    "    - No of times 30 DPD or worse in last 12 months - 0.22\n",
    "    - Presence of open home loan - 0.02\n",
    "    - Outstanding balance - 0.21\n",
    "    - Avgas CC Utilization in last 12 months_Bins - 0.31\n",
    "    - No of trades opened in last 6 months_Bins - 0.19\n",
    "    - No of trades opened in last 12 months_Bins - 0.31\n",
    "    - No of PL trades opened in last 6 months_Bins - 0.23\n",
    "    - No of PL trades opened in last 12 months_Bins - 0.23\n",
    "    - No of Inquiries in last 6 months (excluding home & auto loans)_Bins - 0.12\n",
    "    - No of Inquiries in last 12 months (excluding home & auto loans)_Bins - 0.18\n",
    "    - Total no of Trades_Bins - 0.21"
   ]
  },
  {
   "cell_type": "code",
   "execution_count": 74,
   "metadata": {},
   "outputs": [
    {
     "data": {
      "image/png": "[encoded data removed]",
      "text/plain": [
       "<Figure size 432x288 with 1 Axes>"
      ]
     },
     "metadata": {
      "needs_background": "light"
     },
     "output_type": "display_data"
    }
   ],
   "source": [
    "# Plotting No of times 90 DPD or worse in last 6 months with Performance Tag\n",
    "sns.countplot(data = woe_df, x = 'No of times 90 DPD or worse in last 6 months', hue = 'Performance Tag_x')\n",
    "plt.show()"
   ]
  },
  {
   "cell_type": "code",
   "execution_count": 75,
   "metadata": {},
   "outputs": [
    {
     "data": {
      "image/png": "[encoded data removed]",
      "text/plain": [
       "<Figure size 432x288 with 1 Axes>"
      ]
     },
     "metadata": {
      "needs_background": "light"
     },
     "output_type": "display_data"
    }
   ],
   "source": [
    "# Prospects have been given credit even after 90 DPD\n",
    "\n",
    "# Plotting No of times 60 DPD or worse in last 6 months with Performance Tag\n",
    "sns.countplot(data = woe_df, x = 'No of times 60 DPD or worse in last 6 months', hue = 'Performance Tag_x')\n",
    "plt.show()"
   ]
  },
  {
   "cell_type": "code",
   "execution_count": 76,
   "metadata": {},
   "outputs": [
    {
     "data": {
      "image/png": "[encoded data removed]",
      "text/plain": [
       "<Figure size 432x288 with 1 Axes>"
      ]
     },
     "metadata": {
      "needs_background": "light"
     },
     "output_type": "display_data"
    }
   ],
   "source": [
    "# Prospects have been given credit even after 60 DPD\n",
    "\n",
    "# Plotting No of times 30 DPD or worse in last 6 months with Performance Tag\n",
    "sns.countplot(data = woe_df, x = 'No of times 30 DPD or worse in last 6 months', hue = 'Performance Tag_x')\n",
    "plt.show()"
   ]
  },
  {
   "cell_type": "code",
   "execution_count": 77,
   "metadata": {},
   "outputs": [
    {
     "data": {
      "image/png": "[encoded data removed]",
      "text/plain": [
       "<Figure size 432x288 with 1 Axes>"
      ]
     },
     "metadata": {
      "needs_background": "light"
     },
     "output_type": "display_data"
    }
   ],
   "source": [
    "#Prospects have been given credit after 30 DPD\n",
    "\n",
    "# Plotting No of times 90 DPD or worse in last 12 months with Performance Tag\n",
    "sns.countplot(data = woe_df, x = 'No of times 90 DPD or worse in last 12 months', hue = 'Performance Tag_x')\n",
    "plt.show()"
   ]
  },
  {
   "cell_type": "code",
   "execution_count": 78,
   "metadata": {},
   "outputs": [
    {
     "data": {
      "image/png": "[encoded data removed]",
      "text/plain": [
       "<Figure size 432x288 with 1 Axes>"
      ]
     },
     "metadata": {
      "needs_background": "light"
     },
     "output_type": "display_data"
    }
   ],
   "source": [
    "# Prospects have been given credit even after 90 DPD\n",
    "\n",
    "# Plotting No of times 60 DPD or worse in last 12 months with Performance Tag\n",
    "sns.countplot(data = woe_df, x = 'No of times 60 DPD or worse in last 12 months', hue = 'Performance Tag_x')\n",
    "plt.show()"
   ]
  },
  {
   "cell_type": "code",
   "execution_count": 79,
   "metadata": {},
   "outputs": [
    {
     "data": {
      "image/png": "[encoded data removed]",
      "text/plain": [
       "<Figure size 432x288 with 1 Axes>"
      ]
     },
     "metadata": {
      "needs_background": "light"
     },
     "output_type": "display_data"
    }
   ],
   "source": [
    "# Prospects have been given credit even after 60 DPD\n",
    "\n",
    "# Plotting No of times 30 DPD or worse in last 12 months with Performance Tag\n",
    "sns.countplot(data = woe_df, x = 'No of times 30 DPD or worse in last 12 months', hue = 'Performance Tag_x')\n",
    "plt.show()"
   ]
  },
  {
   "cell_type": "code",
   "execution_count": 80,
   "metadata": {},
   "outputs": [
    {
     "data": {
      "image/png": "[encoded data removed]",
      "text/plain": [
       "<Figure size 432x288 with 1 Axes>"
      ]
     },
     "metadata": {
      "needs_background": "light"
     },
     "output_type": "display_data"
    }
   ],
   "source": [
    "# Prospects have been given credit after 30 DPD\n",
    "\n",
    "# Plotting Presence of open home loan with Performance Tag\n",
    "sns.countplot(data = woe_df, x = 'Presence of open home loan', hue = 'Performance Tag_x')\n",
    "plt.show()"
   ]
  },
  {
   "cell_type": "code",
   "execution_count": 81,
   "metadata": {},
   "outputs": [
    {
     "data": {
      "image/png": "[encoded data removed]",
      "text/plain": [
       "<Figure size 432x288 with 1 Axes>"
      ]
     },
     "metadata": {
      "needs_background": "light"
     },
     "output_type": "display_data"
    }
   ],
   "source": [
    "# Default is lower in prospects with open home loan\n",
    "\n",
    "# Plotting Avgas CC Utilization in last 12 months_Bins with Performance Tag_x\n",
    "ax = sns.countplot(data = woe_df, x='Avgas CC Utilization in last 12 months_Bins', hue = 'Performance Tag_x')\n",
    "ax.set_xticklabels(ax.get_xticklabels(), rotation = 90)\n",
    "plt.show()"
   ]
  },
  {
   "cell_type": "code",
   "execution_count": 82,
   "metadata": {},
   "outputs": [
    {
     "data": {
      "image/png": "[encoded data removed]",
      "text/plain": [
       "<Figure size 432x288 with 1 Axes>"
      ]
     },
     "metadata": {
      "needs_background": "light"
     },
     "output_type": "display_data"
    }
   ],
   "source": [
    "# Default decreases with decrease in CC utilization\n",
    "\n",
    "# Plotting No of trades opened in last 6 months_Bins with Performance Tag_x\n",
    "ax = sns.countplot(data = woe_df, x='No of trades opened in last 6 months_Bins', hue = 'Performance Tag_x')\n",
    "ax.set_xticklabels(ax.get_xticklabels(), rotation = 90)\n",
    "plt.show()"
   ]
  },
  {
   "cell_type": "code",
   "execution_count": 83,
   "metadata": {},
   "outputs": [
    {
     "data": {
      "image/png": "[encoded data removed]",
      "text/plain": [
       "<Figure size 432x288 with 1 Axes>"
      ]
     },
     "metadata": {
      "needs_background": "light"
     },
     "output_type": "display_data"
    }
   ],
   "source": [
    "# Default decreases with decrease in trades opened\n",
    "\n",
    "# Plotting No of trades opened in last 12 months_Bins with Performance Tag_x\n",
    "ax = sns.countplot(data = woe_df, x='No of trades opened in last 12 months_Bins', hue = 'Performance Tag_x')\n",
    "ax.set_xticklabels(ax.get_xticklabels(), rotation = 90)\n",
    "plt.show()"
   ]
  },
  {
   "cell_type": "code",
   "execution_count": 84,
   "metadata": {},
   "outputs": [
    {
     "data": {
      "image/png": "[encoded data removed]",
      "text/plain": [
       "<Figure size 432x288 with 1 Axes>"
      ]
     },
     "metadata": {
      "needs_background": "light"
     },
     "output_type": "display_data"
    }
   ],
   "source": [
    "# Default decreases with decrease in trades opened\n",
    "\n",
    "# Plotting No of PL trades opened in last 6 months_Bins with Performance Tag_x\n",
    "ax = sns.countplot(data = woe_df, x='No of PL trades opened in last 6 months_Bins', hue = 'Performance Tag_x')\n",
    "ax.set_xticklabels(ax.get_xticklabels(), rotation = 90)\n",
    "plt.show()"
   ]
  },
  {
   "cell_type": "code",
   "execution_count": 85,
   "metadata": {},
   "outputs": [
    {
     "data": {
      "image/png": "[encoded data removed]",
      "text/plain": [
       "<Figure size 432x288 with 1 Axes>"
      ]
     },
     "metadata": {
      "needs_background": "light"
     },
     "output_type": "display_data"
    }
   ],
   "source": [
    "# Default decreases with decrease in PL trades opened\n",
    "\n",
    "# Plotting No of PL trades opened in last 12 months_Bins with Performance Tag_x\n",
    "ax = sns.countplot(data = woe_df, x='No of PL trades opened in last 12 months_Bins', hue = 'Performance Tag_x')\n",
    "ax.set_xticklabels(ax.get_xticklabels(), rotation = 90)\n",
    "plt.show()"
   ]
  },
  {
   "cell_type": "code",
   "execution_count": 86,
   "metadata": {},
   "outputs": [
    {
     "data": {
      "image/png": "[encoded data removed]",
      "text/plain": [
       "<Figure size 432x288 with 1 Axes>"
      ]
     },
     "metadata": {
      "needs_background": "light"
     },
     "output_type": "display_data"
    }
   ],
   "source": [
    "# Default decreases with decrease in PL trades opened\n",
    "\n",
    "# Plotting No of Inquiries in last 6 months (excluding home & auto loans)_Bins with Performance Tag_x\n",
    "ax = sns.countplot(data = woe_df, x='No of Inquiries in last 6 months (excluding home & auto loans)_Bins', hue = 'Performance Tag_x')\n",
    "ax.set_xticklabels(ax.get_xticklabels(), rotation = 90)\n",
    "plt.show()"
   ]
  },
  {
   "cell_type": "code",
   "execution_count": 87,
   "metadata": {},
   "outputs": [
    {
     "data": {
      "image/png": "[encoded data removed]",
      "text/plain": [
       "<Figure size 432x288 with 1 Axes>"
      ]
     },
     "metadata": {
      "needs_background": "light"
     },
     "output_type": "display_data"
    }
   ],
   "source": [
    "# Default decreases with decrease in inquiries\n",
    "\n",
    "# Plotting No of Inquiries in last 12 months (excluding home & auto loans)_Bins with Performance Tag_x\n",
    "ax = sns.countplot(data = woe_df, x='No of Inquiries in last 12 months (excluding home & auto loans)_Bins', hue = 'Performance Tag_x')\n",
    "ax.set_xticklabels(ax.get_xticklabels(), rotation = 90)\n",
    "plt.show()"
   ]
  },
  {
   "cell_type": "code",
   "execution_count": 88,
   "metadata": {},
   "outputs": [
    {
     "data": {
      "image/png": "[encoded data removed]",
      "text/plain": [
       "<Figure size 432x288 with 1 Axes>"
      ]
     },
     "metadata": {
      "needs_background": "light"
     },
     "output_type": "display_data"
    }
   ],
   "source": [
    "# Default decreases with decrease in inquiries\n",
    "\n",
    "# Plotting Total no of Trades_Bins with Performance Tag_x\n",
    "ax = sns.countplot(data = woe_df, x='Total No of Trades_Bins', hue = 'Performance Tag_x')\n",
    "ax.set_xticklabels(ax.get_xticklabels(), rotation = 90)\n",
    "plt.show()"
   ]
  },
  {
   "cell_type": "code",
   "execution_count": 89,
   "metadata": {},
   "outputs": [
    {
     "data": {
      "text/html": [
       "<div>\n",
       "<style scoped>\n",
       "    .dataframe tbody tr th:only-of-type {\n",
       "        vertical-align: middle;\n",
       "    }\n",
       "\n",
       "    .dataframe tbody tr th {\n",
       "        vertical-align: top;\n",
       "    }\n",
       "\n",
       "    .dataframe thead th {\n",
       "        text-align: right;\n",
       "    }\n",
       "</style>\n",
       "<table border=\"1\" class=\"dataframe\">\n",
       "  <thead>\n",
       "    <tr style=\"text-align: right;\">\n",
       "      <th></th>\n",
       "      <th>Age</th>\n",
       "      <th>Gender</th>\n",
       "      <th>Marital Status (at the time of application)</th>\n",
       "      <th>No of dependents</th>\n",
       "      <th>Income</th>\n",
       "      <th>Education</th>\n",
       "      <th>Profession</th>\n",
       "      <th>Type of residence</th>\n",
       "      <th>No of months in current residence</th>\n",
       "      <th>No of months in current company</th>\n",
       "      <th>...</th>\n",
       "      <th>Presence of open auto loan</th>\n",
       "      <th>Performance Tag_y</th>\n",
       "      <th>Avgas CC Utilization in last 12 months_Bins</th>\n",
       "      <th>No of trades opened in last 6 months_Bins</th>\n",
       "      <th>No of trades opened in last 12 months_Bins</th>\n",
       "      <th>No of PL trades opened in last 6 months_Bins</th>\n",
       "      <th>No of PL trades opened in last 12 months_Bins</th>\n",
       "      <th>No of Inquiries in last 6 months (excluding home &amp; auto loans)_Bins</th>\n",
       "      <th>No of Inquiries in last 12 months (excluding home &amp; auto loans)_Bins</th>\n",
       "      <th>Total No of Trades_Bins</th>\n",
       "    </tr>\n",
       "    <tr>\n",
       "      <th>Application ID</th>\n",
       "      <th></th>\n",
       "      <th></th>\n",
       "      <th></th>\n",
       "      <th></th>\n",
       "      <th></th>\n",
       "      <th></th>\n",
       "      <th></th>\n",
       "      <th></th>\n",
       "      <th></th>\n",
       "      <th></th>\n",
       "      <th></th>\n",
       "      <th></th>\n",
       "      <th></th>\n",
       "      <th></th>\n",
       "      <th></th>\n",
       "      <th></th>\n",
       "      <th></th>\n",
       "      <th></th>\n",
       "      <th></th>\n",
       "      <th></th>\n",
       "      <th></th>\n",
       "    </tr>\n",
       "  </thead>\n",
       "  <tbody>\n",
       "    <tr>\n",
       "      <td>100450</td>\n",
       "      <td>52</td>\n",
       "      <td>M</td>\n",
       "      <td>Married</td>\n",
       "      <td>4.0</td>\n",
       "      <td>32.0</td>\n",
       "      <td>Professional</td>\n",
       "      <td>SE_PROF</td>\n",
       "      <td>Rented</td>\n",
       "      <td>79</td>\n",
       "      <td>3</td>\n",
       "      <td>...</td>\n",
       "      <td>0</td>\n",
       "      <td>0.0</td>\n",
       "      <td>(101.7, 113.0]</td>\n",
       "      <td>(1.2, 2.4]</td>\n",
       "      <td>(5.6, 8.4]</td>\n",
       "      <td>(1.8, 2.4]</td>\n",
       "      <td>(1.8, 2.4]</td>\n",
       "      <td>(-0.011, 1.0]</td>\n",
       "      <td>(2.0, 4.0]</td>\n",
       "      <td>(5.3, 9.6]</td>\n",
       "    </tr>\n",
       "    <tr>\n",
       "      <td>128993</td>\n",
       "      <td>36</td>\n",
       "      <td>M</td>\n",
       "      <td>Married</td>\n",
       "      <td>4.0</td>\n",
       "      <td>13.0</td>\n",
       "      <td>Professional</td>\n",
       "      <td>SAL</td>\n",
       "      <td>Rented</td>\n",
       "      <td>6</td>\n",
       "      <td>21</td>\n",
       "      <td>...</td>\n",
       "      <td>0</td>\n",
       "      <td>1.0</td>\n",
       "      <td>(-0.114, 11.3]</td>\n",
       "      <td>(-0.013000000000000001, 1.2]</td>\n",
       "      <td>(5.6, 8.4]</td>\n",
       "      <td>(0.6, 1.2]</td>\n",
       "      <td>(0.6, 1.2]</td>\n",
       "      <td>(3.0, 4.0]</td>\n",
       "      <td>(6.0, 8.0]</td>\n",
       "      <td>(5.3, 9.6]</td>\n",
       "    </tr>\n",
       "    <tr>\n",
       "      <td>142768</td>\n",
       "      <td>55</td>\n",
       "      <td>M</td>\n",
       "      <td>Married</td>\n",
       "      <td>1.0</td>\n",
       "      <td>29.0</td>\n",
       "      <td>Phd</td>\n",
       "      <td>SAL</td>\n",
       "      <td>Rented</td>\n",
       "      <td>46</td>\n",
       "      <td>3</td>\n",
       "      <td>...</td>\n",
       "      <td>0</td>\n",
       "      <td>0.0</td>\n",
       "      <td>(33.9, 45.2]</td>\n",
       "      <td>(1.2, 2.4]</td>\n",
       "      <td>(5.6, 8.4]</td>\n",
       "      <td>(1.8, 2.4]</td>\n",
       "      <td>(1.8, 2.4]</td>\n",
       "      <td>(-0.011, 1.0]</td>\n",
       "      <td>(-0.021, 2.0]</td>\n",
       "      <td>(5.3, 9.6]</td>\n",
       "    </tr>\n",
       "    <tr>\n",
       "      <td>176721</td>\n",
       "      <td>55</td>\n",
       "      <td>M</td>\n",
       "      <td>Married</td>\n",
       "      <td>3.0</td>\n",
       "      <td>53.0</td>\n",
       "      <td>Professional</td>\n",
       "      <td>SE_PROF</td>\n",
       "      <td>Rented</td>\n",
       "      <td>6</td>\n",
       "      <td>27</td>\n",
       "      <td>...</td>\n",
       "      <td>0</td>\n",
       "      <td>0.0</td>\n",
       "      <td>(11.3, 22.6]</td>\n",
       "      <td>(-0.013000000000000001, 1.2]</td>\n",
       "      <td>(-0.029, 2.8]</td>\n",
       "      <td>(-0.007, 0.6]</td>\n",
       "      <td>(-0.007, 0.6]</td>\n",
       "      <td>(1.0, 2.0]</td>\n",
       "      <td>(2.0, 4.0]</td>\n",
       "      <td>(0.956, 5.3]</td>\n",
       "    </tr>\n",
       "    <tr>\n",
       "      <td>197956</td>\n",
       "      <td>28</td>\n",
       "      <td>F</td>\n",
       "      <td>Married</td>\n",
       "      <td>3.0</td>\n",
       "      <td>35.0</td>\n",
       "      <td>Masters</td>\n",
       "      <td>SAL</td>\n",
       "      <td>Rented</td>\n",
       "      <td>6</td>\n",
       "      <td>43</td>\n",
       "      <td>...</td>\n",
       "      <td>0</td>\n",
       "      <td>0.0</td>\n",
       "      <td>(-0.114, 11.3]</td>\n",
       "      <td>(6.0, 7.2]</td>\n",
       "      <td>(11.2, 14.0]</td>\n",
       "      <td>(4.8, 5.4]</td>\n",
       "      <td>(4.8, 5.4]</td>\n",
       "      <td>(5.0, 6.0]</td>\n",
       "      <td>(10.0, 12.0]</td>\n",
       "      <td>(22.5, 26.8]</td>\n",
       "    </tr>\n",
       "  </tbody>\n",
       "</table>\n",
       "<p>5 rows × 41 columns</p>\n",
       "</div>"
      ],
      "text/plain": [
       "                Age Gender Marital Status (at the time of application)  \\\n",
       "Application ID                                                           \n",
       "100450           52      M                                     Married   \n",
       "128993           36      M                                     Married   \n",
       "142768           55      M                                     Married   \n",
       "176721           55      M                                     Married   \n",
       "197956           28      F                                     Married   \n",
       "\n",
       "                No of dependents  Income     Education Profession   \\\n",
       "Application ID                                                       \n",
       "100450                       4.0    32.0  Professional     SE_PROF   \n",
       "128993                       4.0    13.0  Professional         SAL   \n",
       "142768                       1.0    29.0           Phd         SAL   \n",
       "176721                       3.0    53.0  Professional     SE_PROF   \n",
       "197956                       3.0    35.0       Masters         SAL   \n",
       "\n",
       "               Type of residence  No of months in current residence  \\\n",
       "Application ID                                                        \n",
       "100450                    Rented                                 79   \n",
       "128993                    Rented                                  6   \n",
       "142768                    Rented                                 46   \n",
       "176721                    Rented                                  6   \n",
       "197956                    Rented                                  6   \n",
       "\n",
       "                No of months in current company  ...  \\\n",
       "Application ID                                   ...   \n",
       "100450                                        3  ...   \n",
       "128993                                       21  ...   \n",
       "142768                                        3  ...   \n",
       "176721                                       27  ...   \n",
       "197956                                       43  ...   \n",
       "\n",
       "                Presence of open auto loan Performance Tag_y  \\\n",
       "Application ID                                                 \n",
       "100450                                   0               0.0   \n",
       "128993                                   0               1.0   \n",
       "142768                                   0               0.0   \n",
       "176721                                   0               0.0   \n",
       "197956                                   0               0.0   \n",
       "\n",
       "               Avgas CC Utilization in last 12 months_Bins  \\\n",
       "Application ID                                               \n",
       "100450                                      (101.7, 113.0]   \n",
       "128993                                      (-0.114, 11.3]   \n",
       "142768                                        (33.9, 45.2]   \n",
       "176721                                        (11.3, 22.6]   \n",
       "197956                                      (-0.114, 11.3]   \n",
       "\n",
       "               No of trades opened in last 6 months_Bins  \\\n",
       "Application ID                                             \n",
       "100450                                        (1.2, 2.4]   \n",
       "128993                      (-0.013000000000000001, 1.2]   \n",
       "142768                                        (1.2, 2.4]   \n",
       "176721                      (-0.013000000000000001, 1.2]   \n",
       "197956                                        (6.0, 7.2]   \n",
       "\n",
       "               No of trades opened in last 12 months_Bins  \\\n",
       "Application ID                                              \n",
       "100450                                         (5.6, 8.4]   \n",
       "128993                                         (5.6, 8.4]   \n",
       "142768                                         (5.6, 8.4]   \n",
       "176721                                      (-0.029, 2.8]   \n",
       "197956                                       (11.2, 14.0]   \n",
       "\n",
       "                No of PL trades opened in last 6 months_Bins  \\\n",
       "Application ID                                                 \n",
       "100450                                            (1.8, 2.4]   \n",
       "128993                                            (0.6, 1.2]   \n",
       "142768                                            (1.8, 2.4]   \n",
       "176721                                         (-0.007, 0.6]   \n",
       "197956                                            (4.8, 5.4]   \n",
       "\n",
       "                No of PL trades opened in last 12 months_Bins  \\\n",
       "Application ID                                                  \n",
       "100450                                             (1.8, 2.4]   \n",
       "128993                                             (0.6, 1.2]   \n",
       "142768                                             (1.8, 2.4]   \n",
       "176721                                          (-0.007, 0.6]   \n",
       "197956                                             (4.8, 5.4]   \n",
       "\n",
       "                No of Inquiries in last 6 months (excluding home & auto loans)_Bins  \\\n",
       "Application ID                                                                        \n",
       "100450                                              (-0.011, 1.0]                     \n",
       "128993                                                 (3.0, 4.0]                     \n",
       "142768                                              (-0.011, 1.0]                     \n",
       "176721                                                 (1.0, 2.0]                     \n",
       "197956                                                 (5.0, 6.0]                     \n",
       "\n",
       "                No of Inquiries in last 12 months (excluding home & auto loans)_Bins  \\\n",
       "Application ID                                                                         \n",
       "100450                                                 (2.0, 4.0]                      \n",
       "128993                                                 (6.0, 8.0]                      \n",
       "142768                                              (-0.021, 2.0]                      \n",
       "176721                                                 (2.0, 4.0]                      \n",
       "197956                                               (10.0, 12.0]                      \n",
       "\n",
       "                Total No of Trades_Bins  \n",
       "Application ID                           \n",
       "100450                       (5.3, 9.6]  \n",
       "128993                       (5.3, 9.6]  \n",
       "142768                       (5.3, 9.6]  \n",
       "176721                     (0.956, 5.3]  \n",
       "197956                     (22.5, 26.8]  \n",
       "\n",
       "[5 rows x 41 columns]"
      ]
     },
     "execution_count": 89,
     "metadata": {},
     "output_type": "execute_result"
    }
   ],
   "source": [
    "# Default decreases with higher no of trades\n",
    "\n",
    "final = merged.copy()\n",
    "final.head()"
   ]
  },
  {
   "cell_type": "code",
   "execution_count": 90,
   "metadata": {},
   "outputs": [],
   "source": [
    "# Dropping all irrelavant columns\n",
    "final.drop(['Age','Gender','Marital Status (at the time of application)','No of dependents','Education','Profession ',\n",
    "           'Type of residence','Presence of open auto loan','Performance Tag_y'], axis=1, inplace=True)"
   ]
  },
  {
   "cell_type": "code",
   "execution_count": 91,
   "metadata": {},
   "outputs": [],
   "source": [
    "final.drop(['Age_bin','Income_bin','current_residence_bin','current_company_bin','Avgas CC Utilization in last 12 months_Bins',\n",
    "           'No of trades opened in last 6 months_Bins','No of trades opened in last 12 months_Bins','No of PL trades opened in last 6 months_Bins',\n",
    "           'No of PL trades opened in last 12 months_Bins','No of Inquiries in last 6 months (excluding home & auto loans)_Bins',\n",
    "           'No of Inquiries in last 12 months (excluding home & auto loans)_Bins','Total No of Trades_Bins'], axis=1, inplace=True)"
   ]
  },
  {
   "cell_type": "code",
   "execution_count": 92,
   "metadata": {},
   "outputs": [
    {
     "data": {
      "text/html": [
       "<div>\n",
       "<style scoped>\n",
       "    .dataframe tbody tr th:only-of-type {\n",
       "        vertical-align: middle;\n",
       "    }\n",
       "\n",
       "    .dataframe tbody tr th {\n",
       "        vertical-align: top;\n",
       "    }\n",
       "\n",
       "    .dataframe thead th {\n",
       "        text-align: right;\n",
       "    }\n",
       "</style>\n",
       "<table border=\"1\" class=\"dataframe\">\n",
       "  <thead>\n",
       "    <tr style=\"text-align: right;\">\n",
       "      <th></th>\n",
       "      <th>Income</th>\n",
       "      <th>No of months in current residence</th>\n",
       "      <th>No of months in current company</th>\n",
       "      <th>Performance Tag_x</th>\n",
       "      <th>No of times 90 DPD or worse in last 6 months</th>\n",
       "      <th>No of times 60 DPD or worse in last 6 months</th>\n",
       "      <th>No of times 30 DPD or worse in last 6 months</th>\n",
       "      <th>No of times 90 DPD or worse in last 12 months</th>\n",
       "      <th>No of times 60 DPD or worse in last 12 months</th>\n",
       "      <th>No of times 30 DPD or worse in last 12 months</th>\n",
       "      <th>Avgas CC Utilization in last 12 months</th>\n",
       "      <th>No of trades opened in last 6 months</th>\n",
       "      <th>No of trades opened in last 12 months</th>\n",
       "      <th>No of PL trades opened in last 6 months</th>\n",
       "      <th>No of PL trades opened in last 12 months</th>\n",
       "      <th>No of Inquiries in last 6 months (excluding home &amp; auto loans)</th>\n",
       "      <th>No of Inquiries in last 12 months (excluding home &amp; auto loans)</th>\n",
       "      <th>Presence of open home loan</th>\n",
       "      <th>Outstanding Balance</th>\n",
       "      <th>Total No of Trades</th>\n",
       "    </tr>\n",
       "    <tr>\n",
       "      <th>Application ID</th>\n",
       "      <th></th>\n",
       "      <th></th>\n",
       "      <th></th>\n",
       "      <th></th>\n",
       "      <th></th>\n",
       "      <th></th>\n",
       "      <th></th>\n",
       "      <th></th>\n",
       "      <th></th>\n",
       "      <th></th>\n",
       "      <th></th>\n",
       "      <th></th>\n",
       "      <th></th>\n",
       "      <th></th>\n",
       "      <th></th>\n",
       "      <th></th>\n",
       "      <th></th>\n",
       "      <th></th>\n",
       "      <th></th>\n",
       "      <th></th>\n",
       "    </tr>\n",
       "  </thead>\n",
       "  <tbody>\n",
       "    <tr>\n",
       "      <td>100450</td>\n",
       "      <td>32.0</td>\n",
       "      <td>79</td>\n",
       "      <td>3</td>\n",
       "      <td>0.0</td>\n",
       "      <td>0</td>\n",
       "      <td>0</td>\n",
       "      <td>0</td>\n",
       "      <td>0</td>\n",
       "      <td>0</td>\n",
       "      <td>0</td>\n",
       "      <td>113.0</td>\n",
       "      <td>2.0</td>\n",
       "      <td>8</td>\n",
       "      <td>2</td>\n",
       "      <td>5</td>\n",
       "      <td>1</td>\n",
       "      <td>3</td>\n",
       "      <td>1.0</td>\n",
       "      <td>3903438.0</td>\n",
       "      <td>9</td>\n",
       "    </tr>\n",
       "    <tr>\n",
       "      <td>128993</td>\n",
       "      <td>13.0</td>\n",
       "      <td>6</td>\n",
       "      <td>21</td>\n",
       "      <td>1.0</td>\n",
       "      <td>1</td>\n",
       "      <td>1</td>\n",
       "      <td>2</td>\n",
       "      <td>1</td>\n",
       "      <td>1</td>\n",
       "      <td>2</td>\n",
       "      <td>9.0</td>\n",
       "      <td>1.0</td>\n",
       "      <td>6</td>\n",
       "      <td>1</td>\n",
       "      <td>4</td>\n",
       "      <td>4</td>\n",
       "      <td>7</td>\n",
       "      <td>0.0</td>\n",
       "      <td>741058.0</td>\n",
       "      <td>8</td>\n",
       "    </tr>\n",
       "    <tr>\n",
       "      <td>142768</td>\n",
       "      <td>29.0</td>\n",
       "      <td>46</td>\n",
       "      <td>3</td>\n",
       "      <td>0.0</td>\n",
       "      <td>0</td>\n",
       "      <td>1</td>\n",
       "      <td>1</td>\n",
       "      <td>1</td>\n",
       "      <td>1</td>\n",
       "      <td>1</td>\n",
       "      <td>34.0</td>\n",
       "      <td>2.0</td>\n",
       "      <td>7</td>\n",
       "      <td>2</td>\n",
       "      <td>4</td>\n",
       "      <td>1</td>\n",
       "      <td>2</td>\n",
       "      <td>0.0</td>\n",
       "      <td>815325.0</td>\n",
       "      <td>9</td>\n",
       "    </tr>\n",
       "    <tr>\n",
       "      <td>176721</td>\n",
       "      <td>53.0</td>\n",
       "      <td>6</td>\n",
       "      <td>27</td>\n",
       "      <td>0.0</td>\n",
       "      <td>0</td>\n",
       "      <td>0</td>\n",
       "      <td>0</td>\n",
       "      <td>0</td>\n",
       "      <td>0</td>\n",
       "      <td>0</td>\n",
       "      <td>18.0</td>\n",
       "      <td>0.0</td>\n",
       "      <td>1</td>\n",
       "      <td>0</td>\n",
       "      <td>1</td>\n",
       "      <td>2</td>\n",
       "      <td>3</td>\n",
       "      <td>0.0</td>\n",
       "      <td>209593.0</td>\n",
       "      <td>3</td>\n",
       "    </tr>\n",
       "    <tr>\n",
       "      <td>197956</td>\n",
       "      <td>35.0</td>\n",
       "      <td>6</td>\n",
       "      <td>43</td>\n",
       "      <td>0.0</td>\n",
       "      <td>0</td>\n",
       "      <td>0</td>\n",
       "      <td>0</td>\n",
       "      <td>0</td>\n",
       "      <td>0</td>\n",
       "      <td>0</td>\n",
       "      <td>3.0</td>\n",
       "      <td>7.0</td>\n",
       "      <td>13</td>\n",
       "      <td>5</td>\n",
       "      <td>5</td>\n",
       "      <td>6</td>\n",
       "      <td>11</td>\n",
       "      <td>0.0</td>\n",
       "      <td>992024.0</td>\n",
       "      <td>25</td>\n",
       "    </tr>\n",
       "  </tbody>\n",
       "</table>\n",
       "</div>"
      ],
      "text/plain": [
       "                Income  No of months in current residence  \\\n",
       "Application ID                                              \n",
       "100450            32.0                                 79   \n",
       "128993            13.0                                  6   \n",
       "142768            29.0                                 46   \n",
       "176721            53.0                                  6   \n",
       "197956            35.0                                  6   \n",
       "\n",
       "                No of months in current company  Performance Tag_x  \\\n",
       "Application ID                                                       \n",
       "100450                                        3                0.0   \n",
       "128993                                       21                1.0   \n",
       "142768                                        3                0.0   \n",
       "176721                                       27                0.0   \n",
       "197956                                       43                0.0   \n",
       "\n",
       "                No of times 90 DPD or worse in last 6 months  \\\n",
       "Application ID                                                 \n",
       "100450                                                     0   \n",
       "128993                                                     1   \n",
       "142768                                                     0   \n",
       "176721                                                     0   \n",
       "197956                                                     0   \n",
       "\n",
       "                No of times 60 DPD or worse in last 6 months  \\\n",
       "Application ID                                                 \n",
       "100450                                                     0   \n",
       "128993                                                     1   \n",
       "142768                                                     1   \n",
       "176721                                                     0   \n",
       "197956                                                     0   \n",
       "\n",
       "                No of times 30 DPD or worse in last 6 months  \\\n",
       "Application ID                                                 \n",
       "100450                                                     0   \n",
       "128993                                                     2   \n",
       "142768                                                     1   \n",
       "176721                                                     0   \n",
       "197956                                                     0   \n",
       "\n",
       "                No of times 90 DPD or worse in last 12 months  \\\n",
       "Application ID                                                  \n",
       "100450                                                      0   \n",
       "128993                                                      1   \n",
       "142768                                                      1   \n",
       "176721                                                      0   \n",
       "197956                                                      0   \n",
       "\n",
       "                No of times 60 DPD or worse in last 12 months  \\\n",
       "Application ID                                                  \n",
       "100450                                                      0   \n",
       "128993                                                      1   \n",
       "142768                                                      1   \n",
       "176721                                                      0   \n",
       "197956                                                      0   \n",
       "\n",
       "                No of times 30 DPD or worse in last 12 months  \\\n",
       "Application ID                                                  \n",
       "100450                                                      0   \n",
       "128993                                                      2   \n",
       "142768                                                      1   \n",
       "176721                                                      0   \n",
       "197956                                                      0   \n",
       "\n",
       "                Avgas CC Utilization in last 12 months  \\\n",
       "Application ID                                           \n",
       "100450                                           113.0   \n",
       "128993                                             9.0   \n",
       "142768                                            34.0   \n",
       "176721                                            18.0   \n",
       "197956                                             3.0   \n",
       "\n",
       "                No of trades opened in last 6 months  \\\n",
       "Application ID                                         \n",
       "100450                                           2.0   \n",
       "128993                                           1.0   \n",
       "142768                                           2.0   \n",
       "176721                                           0.0   \n",
       "197956                                           7.0   \n",
       "\n",
       "                No of trades opened in last 12 months  \\\n",
       "Application ID                                          \n",
       "100450                                              8   \n",
       "128993                                              6   \n",
       "142768                                              7   \n",
       "176721                                              1   \n",
       "197956                                             13   \n",
       "\n",
       "                No of PL trades opened in last 6 months  \\\n",
       "Application ID                                            \n",
       "100450                                                2   \n",
       "128993                                                1   \n",
       "142768                                                2   \n",
       "176721                                                0   \n",
       "197956                                                5   \n",
       "\n",
       "                No of PL trades opened in last 12 months  \\\n",
       "Application ID                                             \n",
       "100450                                                 5   \n",
       "128993                                                 4   \n",
       "142768                                                 4   \n",
       "176721                                                 1   \n",
       "197956                                                 5   \n",
       "\n",
       "                No of Inquiries in last 6 months (excluding home & auto loans)  \\\n",
       "Application ID                                                                   \n",
       "100450                                                          1                \n",
       "128993                                                          4                \n",
       "142768                                                          1                \n",
       "176721                                                          2                \n",
       "197956                                                          6                \n",
       "\n",
       "                No of Inquiries in last 12 months (excluding home & auto loans)  \\\n",
       "Application ID                                                                    \n",
       "100450                                                          3                 \n",
       "128993                                                          7                 \n",
       "142768                                                          2                 \n",
       "176721                                                          3                 \n",
       "197956                                                         11                 \n",
       "\n",
       "                Presence of open home loan  Outstanding Balance  \\\n",
       "Application ID                                                    \n",
       "100450                                 1.0            3903438.0   \n",
       "128993                                 0.0             741058.0   \n",
       "142768                                 0.0             815325.0   \n",
       "176721                                 0.0             209593.0   \n",
       "197956                                 0.0             992024.0   \n",
       "\n",
       "                Total No of Trades  \n",
       "Application ID                      \n",
       "100450                           9  \n",
       "128993                           8  \n",
       "142768                           9  \n",
       "176721                           3  \n",
       "197956                          25  "
      ]
     },
     "execution_count": 92,
     "metadata": {},
     "output_type": "execute_result"
    }
   ],
   "source": [
    "final.head()"
   ]
  },
  {
   "cell_type": "code",
   "execution_count": 93,
   "metadata": {},
   "outputs": [
    {
     "data": {
      "text/plain": [
       "Index(['Income', 'No of months in current residence',\n",
       "       'No of months in current company', 'Performance Tag_x',\n",
       "       'No of times 90 DPD or worse in last 6 months',\n",
       "       'No of times 60 DPD or worse in last 6 months',\n",
       "       'No of times 30 DPD or worse in last 6 months',\n",
       "       'No of times 90 DPD or worse in last 12 months',\n",
       "       'No of times 60 DPD or worse in last 12 months',\n",
       "       'No of times 30 DPD or worse in last 12 months',\n",
       "       'Avgas CC Utilization in last 12 months',\n",
       "       'No of trades opened in last 6 months',\n",
       "       'No of trades opened in last 12 months',\n",
       "       'No of PL trades opened in last 6 months',\n",
       "       'No of PL trades opened in last 12 months',\n",
       "       'No of Inquiries in last 6 months (excluding home & auto loans)',\n",
       "       'No of Inquiries in last 12 months (excluding home & auto loans)',\n",
       "       'Presence of open home loan', 'Outstanding Balance',\n",
       "       'Total No of Trades'],\n",
       "      dtype='object')"
      ]
     },
     "execution_count": 93,
     "metadata": {},
     "output_type": "execute_result"
    }
   ],
   "source": [
    "final.columns"
   ]
  },
  {
   "cell_type": "code",
   "execution_count": 94,
   "metadata": {},
   "outputs": [],
   "source": [
    "# Separating X and y data\n",
    "X1 = final.drop(['Performance Tag_x'], axis=1)\n",
    "\n",
    "y1 = final['Performance Tag_x']"
   ]
  },
  {
   "cell_type": "code",
   "execution_count": 95,
   "metadata": {},
   "outputs": [],
   "source": [
    "# Splitting the data into train and test set\n",
    "X_train1, X_test1, y_train1, y_test1 = train_test_split(X1, y1, train_size = 0.7, test_size = 0.3, random_state=100)"
   ]
  },
  {
   "cell_type": "code",
   "execution_count": 96,
   "metadata": {},
   "outputs": [
    {
     "data": {
      "text/html": [
       "<div>\n",
       "<style scoped>\n",
       "    .dataframe tbody tr th:only-of-type {\n",
       "        vertical-align: middle;\n",
       "    }\n",
       "\n",
       "    .dataframe tbody tr th {\n",
       "        vertical-align: top;\n",
       "    }\n",
       "\n",
       "    .dataframe thead th {\n",
       "        text-align: right;\n",
       "    }\n",
       "</style>\n",
       "<table border=\"1\" class=\"dataframe\">\n",
       "  <thead>\n",
       "    <tr style=\"text-align: right;\">\n",
       "      <th></th>\n",
       "      <th>Income</th>\n",
       "      <th>No of months in current residence</th>\n",
       "      <th>No of months in current company</th>\n",
       "      <th>No of times 90 DPD or worse in last 6 months</th>\n",
       "      <th>No of times 60 DPD or worse in last 6 months</th>\n",
       "      <th>No of times 30 DPD or worse in last 6 months</th>\n",
       "      <th>No of times 90 DPD or worse in last 12 months</th>\n",
       "      <th>No of times 60 DPD or worse in last 12 months</th>\n",
       "      <th>No of times 30 DPD or worse in last 12 months</th>\n",
       "      <th>Avgas CC Utilization in last 12 months</th>\n",
       "      <th>No of trades opened in last 6 months</th>\n",
       "      <th>No of trades opened in last 12 months</th>\n",
       "      <th>No of PL trades opened in last 6 months</th>\n",
       "      <th>No of PL trades opened in last 12 months</th>\n",
       "      <th>No of Inquiries in last 6 months (excluding home &amp; auto loans)</th>\n",
       "      <th>No of Inquiries in last 12 months (excluding home &amp; auto loans)</th>\n",
       "      <th>Presence of open home loan</th>\n",
       "      <th>Outstanding Balance</th>\n",
       "      <th>Total No of Trades</th>\n",
       "    </tr>\n",
       "    <tr>\n",
       "      <th>Application ID</th>\n",
       "      <th></th>\n",
       "      <th></th>\n",
       "      <th></th>\n",
       "      <th></th>\n",
       "      <th></th>\n",
       "      <th></th>\n",
       "      <th></th>\n",
       "      <th></th>\n",
       "      <th></th>\n",
       "      <th></th>\n",
       "      <th></th>\n",
       "      <th></th>\n",
       "      <th></th>\n",
       "      <th></th>\n",
       "      <th></th>\n",
       "      <th></th>\n",
       "      <th></th>\n",
       "      <th></th>\n",
       "      <th></th>\n",
       "    </tr>\n",
       "  </thead>\n",
       "  <tbody>\n",
       "    <tr>\n",
       "      <td>829503039</td>\n",
       "      <td>4.5</td>\n",
       "      <td>6</td>\n",
       "      <td>28</td>\n",
       "      <td>0</td>\n",
       "      <td>0</td>\n",
       "      <td>0</td>\n",
       "      <td>0</td>\n",
       "      <td>0</td>\n",
       "      <td>0</td>\n",
       "      <td>8.0</td>\n",
       "      <td>6.0</td>\n",
       "      <td>11</td>\n",
       "      <td>2</td>\n",
       "      <td>4</td>\n",
       "      <td>7</td>\n",
       "      <td>8</td>\n",
       "      <td>0.0</td>\n",
       "      <td>795986.0</td>\n",
       "      <td>22</td>\n",
       "    </tr>\n",
       "    <tr>\n",
       "      <td>774668780</td>\n",
       "      <td>4.5</td>\n",
       "      <td>27</td>\n",
       "      <td>44</td>\n",
       "      <td>1</td>\n",
       "      <td>1</td>\n",
       "      <td>2</td>\n",
       "      <td>1</td>\n",
       "      <td>2</td>\n",
       "      <td>2</td>\n",
       "      <td>29.0</td>\n",
       "      <td>1.0</td>\n",
       "      <td>6</td>\n",
       "      <td>1</td>\n",
       "      <td>3</td>\n",
       "      <td>4</td>\n",
       "      <td>7</td>\n",
       "      <td>0.0</td>\n",
       "      <td>597049.0</td>\n",
       "      <td>6</td>\n",
       "    </tr>\n",
       "    <tr>\n",
       "      <td>958581394</td>\n",
       "      <td>37.0</td>\n",
       "      <td>6</td>\n",
       "      <td>7</td>\n",
       "      <td>0</td>\n",
       "      <td>0</td>\n",
       "      <td>0</td>\n",
       "      <td>0</td>\n",
       "      <td>0</td>\n",
       "      <td>0</td>\n",
       "      <td>7.0</td>\n",
       "      <td>1.0</td>\n",
       "      <td>4</td>\n",
       "      <td>1</td>\n",
       "      <td>1</td>\n",
       "      <td>1</td>\n",
       "      <td>1</td>\n",
       "      <td>0.0</td>\n",
       "      <td>223606.0</td>\n",
       "      <td>6</td>\n",
       "    </tr>\n",
       "    <tr>\n",
       "      <td>632073311</td>\n",
       "      <td>20.0</td>\n",
       "      <td>93</td>\n",
       "      <td>55</td>\n",
       "      <td>0</td>\n",
       "      <td>0</td>\n",
       "      <td>0</td>\n",
       "      <td>0</td>\n",
       "      <td>0</td>\n",
       "      <td>0</td>\n",
       "      <td>3.0</td>\n",
       "      <td>0.0</td>\n",
       "      <td>1</td>\n",
       "      <td>0</td>\n",
       "      <td>0</td>\n",
       "      <td>0</td>\n",
       "      <td>0</td>\n",
       "      <td>1.0</td>\n",
       "      <td>2984784.0</td>\n",
       "      <td>4</td>\n",
       "    </tr>\n",
       "    <tr>\n",
       "      <td>219276773</td>\n",
       "      <td>18.0</td>\n",
       "      <td>75</td>\n",
       "      <td>62</td>\n",
       "      <td>0</td>\n",
       "      <td>0</td>\n",
       "      <td>0</td>\n",
       "      <td>0</td>\n",
       "      <td>1</td>\n",
       "      <td>1</td>\n",
       "      <td>10.0</td>\n",
       "      <td>0.0</td>\n",
       "      <td>1</td>\n",
       "      <td>0</td>\n",
       "      <td>0</td>\n",
       "      <td>0</td>\n",
       "      <td>0</td>\n",
       "      <td>0.0</td>\n",
       "      <td>871.0</td>\n",
       "      <td>2</td>\n",
       "    </tr>\n",
       "  </tbody>\n",
       "</table>\n",
       "</div>"
      ],
      "text/plain": [
       "                Income  No of months in current residence  \\\n",
       "Application ID                                              \n",
       "829503039          4.5                                  6   \n",
       "774668780          4.5                                 27   \n",
       "958581394         37.0                                  6   \n",
       "632073311         20.0                                 93   \n",
       "219276773         18.0                                 75   \n",
       "\n",
       "                No of months in current company  \\\n",
       "Application ID                                    \n",
       "829503039                                    28   \n",
       "774668780                                    44   \n",
       "958581394                                     7   \n",
       "632073311                                    55   \n",
       "219276773                                    62   \n",
       "\n",
       "                No of times 90 DPD or worse in last 6 months  \\\n",
       "Application ID                                                 \n",
       "829503039                                                  0   \n",
       "774668780                                                  1   \n",
       "958581394                                                  0   \n",
       "632073311                                                  0   \n",
       "219276773                                                  0   \n",
       "\n",
       "                No of times 60 DPD or worse in last 6 months  \\\n",
       "Application ID                                                 \n",
       "829503039                                                  0   \n",
       "774668780                                                  1   \n",
       "958581394                                                  0   \n",
       "632073311                                                  0   \n",
       "219276773                                                  0   \n",
       "\n",
       "                No of times 30 DPD or worse in last 6 months  \\\n",
       "Application ID                                                 \n",
       "829503039                                                  0   \n",
       "774668780                                                  2   \n",
       "958581394                                                  0   \n",
       "632073311                                                  0   \n",
       "219276773                                                  0   \n",
       "\n",
       "                No of times 90 DPD or worse in last 12 months  \\\n",
       "Application ID                                                  \n",
       "829503039                                                   0   \n",
       "774668780                                                   1   \n",
       "958581394                                                   0   \n",
       "632073311                                                   0   \n",
       "219276773                                                   0   \n",
       "\n",
       "                No of times 60 DPD or worse in last 12 months  \\\n",
       "Application ID                                                  \n",
       "829503039                                                   0   \n",
       "774668780                                                   2   \n",
       "958581394                                                   0   \n",
       "632073311                                                   0   \n",
       "219276773                                                   1   \n",
       "\n",
       "                No of times 30 DPD or worse in last 12 months  \\\n",
       "Application ID                                                  \n",
       "829503039                                                   0   \n",
       "774668780                                                   2   \n",
       "958581394                                                   0   \n",
       "632073311                                                   0   \n",
       "219276773                                                   1   \n",
       "\n",
       "                Avgas CC Utilization in last 12 months  \\\n",
       "Application ID                                           \n",
       "829503039                                          8.0   \n",
       "774668780                                         29.0   \n",
       "958581394                                          7.0   \n",
       "632073311                                          3.0   \n",
       "219276773                                         10.0   \n",
       "\n",
       "                No of trades opened in last 6 months  \\\n",
       "Application ID                                         \n",
       "829503039                                        6.0   \n",
       "774668780                                        1.0   \n",
       "958581394                                        1.0   \n",
       "632073311                                        0.0   \n",
       "219276773                                        0.0   \n",
       "\n",
       "                No of trades opened in last 12 months  \\\n",
       "Application ID                                          \n",
       "829503039                                          11   \n",
       "774668780                                           6   \n",
       "958581394                                           4   \n",
       "632073311                                           1   \n",
       "219276773                                           1   \n",
       "\n",
       "                No of PL trades opened in last 6 months  \\\n",
       "Application ID                                            \n",
       "829503039                                             2   \n",
       "774668780                                             1   \n",
       "958581394                                             1   \n",
       "632073311                                             0   \n",
       "219276773                                             0   \n",
       "\n",
       "                No of PL trades opened in last 12 months  \\\n",
       "Application ID                                             \n",
       "829503039                                              4   \n",
       "774668780                                              3   \n",
       "958581394                                              1   \n",
       "632073311                                              0   \n",
       "219276773                                              0   \n",
       "\n",
       "                No of Inquiries in last 6 months (excluding home & auto loans)  \\\n",
       "Application ID                                                                   \n",
       "829503039                                                       7                \n",
       "774668780                                                       4                \n",
       "958581394                                                       1                \n",
       "632073311                                                       0                \n",
       "219276773                                                       0                \n",
       "\n",
       "                No of Inquiries in last 12 months (excluding home & auto loans)  \\\n",
       "Application ID                                                                    \n",
       "829503039                                                       8                 \n",
       "774668780                                                       7                 \n",
       "958581394                                                       1                 \n",
       "632073311                                                       0                 \n",
       "219276773                                                       0                 \n",
       "\n",
       "                Presence of open home loan  Outstanding Balance  \\\n",
       "Application ID                                                    \n",
       "829503039                              0.0             795986.0   \n",
       "774668780                              0.0             597049.0   \n",
       "958581394                              0.0             223606.0   \n",
       "632073311                              1.0            2984784.0   \n",
       "219276773                              0.0                871.0   \n",
       "\n",
       "                Total No of Trades  \n",
       "Application ID                      \n",
       "829503039                       22  \n",
       "774668780                        6  \n",
       "958581394                        6  \n",
       "632073311                        4  \n",
       "219276773                        2  "
      ]
     },
     "execution_count": 96,
     "metadata": {},
     "output_type": "execute_result"
    }
   ],
   "source": [
    "X_train1.head()"
   ]
  },
  {
   "cell_type": "markdown",
   "metadata": {},
   "source": [
    "#### Scaling"
   ]
  },
  {
   "cell_type": "code",
   "execution_count": 97,
   "metadata": {},
   "outputs": [],
   "source": [
    "# Scaling the train data\n",
    "X_train1 = scaler.fit_transform(X_train1)"
   ]
  },
  {
   "cell_type": "code",
   "execution_count": 98,
   "metadata": {},
   "outputs": [],
   "source": [
    "X_test1 = scaler.transform(X_test1)"
   ]
  },
  {
   "cell_type": "markdown",
   "metadata": {},
   "source": [
    "### Modelling"
   ]
  },
  {
   "cell_type": "code",
   "execution_count": 99,
   "metadata": {},
   "outputs": [
    {
     "data": {
      "text/plain": [
       "LogisticRegression(C=1.0, class_weight=None, dual=False, fit_intercept=True,\n",
       "                   intercept_scaling=1, l1_ratio=None, max_iter=100,\n",
       "                   multi_class='auto', n_jobs=None, penalty='l2',\n",
       "                   random_state=None, solver='lbfgs', tol=0.0001, verbose=0,\n",
       "                   warm_start=False)"
      ]
     },
     "execution_count": 99,
     "metadata": {},
     "output_type": "execute_result"
    }
   ],
   "source": [
    "# Fitting the model\n",
    "logreg = LogisticRegression()\n",
    "logreg.fit(X_train1,y_train1)"
   ]
  },
  {
   "cell_type": "code",
   "execution_count": 100,
   "metadata": {},
   "outputs": [
    {
     "data": {
      "text/html": [
       "<table class=\"simpletable\">\n",
       "<caption>Generalized Linear Model Regression Results</caption>\n",
       "<tr>\n",
       "  <th>Dep. Variable:</th>   <td>Performance Tag_x</td> <th>  No. Observations:  </th>  <td> 47999</td> \n",
       "</tr>\n",
       "<tr>\n",
       "  <th>Model:</th>                  <td>GLM</td>        <th>  Df Residuals:      </th>  <td> 47979</td> \n",
       "</tr>\n",
       "<tr>\n",
       "  <th>Model Family:</th>        <td>Binomial</td>      <th>  Df Model:          </th>  <td>    19</td> \n",
       "</tr>\n",
       "<tr>\n",
       "  <th>Link Function:</th>         <td>logit</td>       <th>  Scale:             </th> <td>  1.0000</td>\n",
       "</tr>\n",
       "<tr>\n",
       "  <th>Method:</th>                <td>IRLS</td>        <th>  Log-Likelihood:    </th> <td> -8033.0</td>\n",
       "</tr>\n",
       "<tr>\n",
       "  <th>Date:</th>            <td>Sun, 01 Mar 2020</td>  <th>  Deviance:          </th> <td>  16066.</td>\n",
       "</tr>\n",
       "<tr>\n",
       "  <th>Time:</th>                <td>22:55:33</td>      <th>  Pearson chi2:      </th> <td>4.68e+04</td>\n",
       "</tr>\n",
       "<tr>\n",
       "  <th>No. Iterations:</th>          <td>7</td>         <th>                     </th>     <td> </td>   \n",
       "</tr>\n",
       "<tr>\n",
       "  <th>Covariance Type:</th>     <td>nonrobust</td>     <th>                     </th>     <td> </td>   \n",
       "</tr>\n",
       "</table>\n",
       "<table class=\"simpletable\">\n",
       "<tr>\n",
       "    <td></td>       <th>coef</th>     <th>std err</th>      <th>z</th>      <th>P>|z|</th>  <th>[0.025</th>    <th>0.975]</th>  \n",
       "</tr>\n",
       "<tr>\n",
       "  <th>const</th> <td>   -3.2840</td> <td>    0.026</td> <td> -125.847</td> <td> 0.000</td> <td>   -3.335</td> <td>   -3.233</td>\n",
       "</tr>\n",
       "<tr>\n",
       "  <th>x1</th>    <td>   -0.0528</td> <td>    0.024</td> <td>   -2.157</td> <td> 0.031</td> <td>   -0.101</td> <td>   -0.005</td>\n",
       "</tr>\n",
       "<tr>\n",
       "  <th>x2</th>    <td>   -0.0388</td> <td>    0.025</td> <td>   -1.544</td> <td> 0.123</td> <td>   -0.088</td> <td>    0.010</td>\n",
       "</tr>\n",
       "<tr>\n",
       "  <th>x3</th>    <td>   -0.0578</td> <td>    0.023</td> <td>   -2.473</td> <td> 0.013</td> <td>   -0.104</td> <td>   -0.012</td>\n",
       "</tr>\n",
       "<tr>\n",
       "  <th>x4</th>    <td>   -0.0420</td> <td>    0.048</td> <td>   -0.876</td> <td> 0.381</td> <td>   -0.136</td> <td>    0.052</td>\n",
       "</tr>\n",
       "<tr>\n",
       "  <th>x5</th>    <td>   -0.1313</td> <td>    0.079</td> <td>   -1.667</td> <td> 0.096</td> <td>   -0.286</td> <td>    0.023</td>\n",
       "</tr>\n",
       "<tr>\n",
       "  <th>x6</th>    <td>    0.1585</td> <td>    0.086</td> <td>    1.851</td> <td> 0.064</td> <td>   -0.009</td> <td>    0.326</td>\n",
       "</tr>\n",
       "<tr>\n",
       "  <th>x7</th>    <td>    0.1363</td> <td>    0.043</td> <td>    3.151</td> <td> 0.002</td> <td>    0.052</td> <td>    0.221</td>\n",
       "</tr>\n",
       "<tr>\n",
       "  <th>x8</th>    <td>   -0.0074</td> <td>    0.056</td> <td>   -0.131</td> <td> 0.896</td> <td>   -0.118</td> <td>    0.103</td>\n",
       "</tr>\n",
       "<tr>\n",
       "  <th>x9</th>    <td>    0.0970</td> <td>    0.068</td> <td>    1.427</td> <td> 0.153</td> <td>   -0.036</td> <td>    0.230</td>\n",
       "</tr>\n",
       "<tr>\n",
       "  <th>x10</th>   <td>    0.2167</td> <td>    0.025</td> <td>    8.635</td> <td> 0.000</td> <td>    0.168</td> <td>    0.266</td>\n",
       "</tr>\n",
       "<tr>\n",
       "  <th>x11</th>   <td>   -0.0368</td> <td>    0.078</td> <td>   -0.473</td> <td> 0.636</td> <td>   -0.189</td> <td>    0.116</td>\n",
       "</tr>\n",
       "<tr>\n",
       "  <th>x12</th>   <td>    0.0392</td> <td>    0.144</td> <td>    0.273</td> <td> 0.785</td> <td>   -0.243</td> <td>    0.321</td>\n",
       "</tr>\n",
       "<tr>\n",
       "  <th>x13</th>   <td>    0.1586</td> <td>    0.059</td> <td>    2.707</td> <td> 0.007</td> <td>    0.044</td> <td>    0.273</td>\n",
       "</tr>\n",
       "<tr>\n",
       "  <th>x14</th>   <td>    0.3401</td> <td>    0.147</td> <td>    2.309</td> <td> 0.021</td> <td>    0.051</td> <td>    0.629</td>\n",
       "</tr>\n",
       "<tr>\n",
       "  <th>x15</th>   <td>   -0.0859</td> <td>    0.050</td> <td>   -1.702</td> <td> 0.089</td> <td>   -0.185</td> <td>    0.013</td>\n",
       "</tr>\n",
       "<tr>\n",
       "  <th>x16</th>   <td>    0.2407</td> <td>    0.058</td> <td>    4.156</td> <td> 0.000</td> <td>    0.127</td> <td>    0.354</td>\n",
       "</tr>\n",
       "<tr>\n",
       "  <th>x17</th>   <td>    0.5403</td> <td>    0.343</td> <td>    1.576</td> <td> 0.115</td> <td>   -0.132</td> <td>    1.212</td>\n",
       "</tr>\n",
       "<tr>\n",
       "  <th>x18</th>   <td>   -0.5704</td> <td>    0.350</td> <td>   -1.628</td> <td> 0.103</td> <td>   -1.257</td> <td>    0.116</td>\n",
       "</tr>\n",
       "<tr>\n",
       "  <th>x19</th>   <td>   -0.1547</td> <td>    0.083</td> <td>   -1.874</td> <td> 0.061</td> <td>   -0.316</td> <td>    0.007</td>\n",
       "</tr>\n",
       "</table>"
      ],
      "text/plain": [
       "<class 'statsmodels.iolib.summary.Summary'>\n",
       "\"\"\"\n",
       "                 Generalized Linear Model Regression Results                  \n",
       "==============================================================================\n",
       "Dep. Variable:      Performance Tag_x   No. Observations:                47999\n",
       "Model:                            GLM   Df Residuals:                    47979\n",
       "Model Family:                Binomial   Df Model:                           19\n",
       "Link Function:                  logit   Scale:                          1.0000\n",
       "Method:                          IRLS   Log-Likelihood:                -8033.0\n",
       "Date:                Sun, 01 Mar 2020   Deviance:                       16066.\n",
       "Time:                        22:55:33   Pearson chi2:                 4.68e+04\n",
       "No. Iterations:                     7                                         \n",
       "Covariance Type:            nonrobust                                         \n",
       "==============================================================================\n",
       "                 coef    std err          z      P>|z|      [0.025      0.975]\n",
       "------------------------------------------------------------------------------\n",
       "const         -3.2840      0.026   -125.847      0.000      -3.335      -3.233\n",
       "x1            -0.0528      0.024     -2.157      0.031      -0.101      -0.005\n",
       "x2            -0.0388      0.025     -1.544      0.123      -0.088       0.010\n",
       "x3            -0.0578      0.023     -2.473      0.013      -0.104      -0.012\n",
       "x4            -0.0420      0.048     -0.876      0.381      -0.136       0.052\n",
       "x5            -0.1313      0.079     -1.667      0.096      -0.286       0.023\n",
       "x6             0.1585      0.086      1.851      0.064      -0.009       0.326\n",
       "x7             0.1363      0.043      3.151      0.002       0.052       0.221\n",
       "x8            -0.0074      0.056     -0.131      0.896      -0.118       0.103\n",
       "x9             0.0970      0.068      1.427      0.153      -0.036       0.230\n",
       "x10            0.2167      0.025      8.635      0.000       0.168       0.266\n",
       "x11           -0.0368      0.078     -0.473      0.636      -0.189       0.116\n",
       "x12            0.0392      0.144      0.273      0.785      -0.243       0.321\n",
       "x13            0.1586      0.059      2.707      0.007       0.044       0.273\n",
       "x14            0.3401      0.147      2.309      0.021       0.051       0.629\n",
       "x15           -0.0859      0.050     -1.702      0.089      -0.185       0.013\n",
       "x16            0.2407      0.058      4.156      0.000       0.127       0.354\n",
       "x17            0.5403      0.343      1.576      0.115      -0.132       1.212\n",
       "x18           -0.5704      0.350     -1.628      0.103      -1.257       0.116\n",
       "x19           -0.1547      0.083     -1.874      0.061      -0.316       0.007\n",
       "==============================================================================\n",
       "\"\"\""
      ]
     },
     "execution_count": 100,
     "metadata": {},
     "output_type": "execute_result"
    }
   ],
   "source": [
    "# Logistic regression model\n",
    "logm2 = sm.GLM(y_train1,(sm.add_constant(X_train1)), family = sm.families.Binomial())\n",
    "logm2.fit().summary()"
   ]
  },
  {
   "cell_type": "markdown",
   "metadata": {},
   "source": [
    "### PCA"
   ]
  },
  {
   "cell_type": "code",
   "execution_count": 101,
   "metadata": {},
   "outputs": [],
   "source": [
    "from sklearn.pipeline import Pipeline\n",
    "from sklearn.decomposition import PCA\n",
    "from sklearn.model_selection import StratifiedKFold\n",
    "from sklearn.model_selection import GridSearchCV\n",
    "from sklearn.ensemble import RandomForestClassifier"
   ]
  },
  {
   "cell_type": "code",
   "execution_count": 102,
   "metadata": {},
   "outputs": [],
   "source": [
    "pca = PCA()\n",
    "pca.fit(X_train1)\n",
    "churn_pca = pca.fit_transform(X_train1)"
   ]
  },
  {
   "cell_type": "code",
   "execution_count": 103,
   "metadata": {},
   "outputs": [
    {
     "name": "stdout",
     "output_type": "stream",
     "text": [
      "0      36.81\n",
      "1      61.21\n",
      "2      71.31\n",
      "3      77.43\n",
      "4      83.06\n",
      "5      87.29\n",
      "6      90.90\n",
      "7      94.26\n",
      "8      95.91\n",
      "9      96.73\n",
      "10     97.48\n",
      "11     98.13\n",
      "12     98.70\n",
      "13     99.12\n",
      "14     99.45\n",
      "15     99.76\n",
      "16     99.89\n",
      "17     99.99\n",
      "18    100.00\n",
      "dtype: float64\n"
     ]
    }
   ],
   "source": [
    "print(pd.Series(np.round(pca.explained_variance_ratio_.cumsum(), 4)*100))"
   ]
  },
  {
   "cell_type": "code",
   "execution_count": 104,
   "metadata": {},
   "outputs": [
    {
     "data": {
      "text/plain": [
       "[<matplotlib.lines.Line2D at 0x1c415b9c10>]"
      ]
     },
     "execution_count": 104,
     "metadata": {},
     "output_type": "execute_result"
    },
    {
     "data": {
      "image/png": "[encoded data removed]",
      "text/plain": [
       "<Figure size 630x360 with 1 Axes>"
      ]
     },
     "metadata": {
      "needs_background": "light"
     },
     "output_type": "display_data"
    }
   ],
   "source": [
    "# plot feature variance\n",
    "features = range(pca.n_components_)\n",
    "cumulative_variance = np.round(np.cumsum(pca.explained_variance_ratio_)*100, decimals=4)\n",
    "plt.figure(figsize=(175/20,100/20)) # 100 elements on y-axis; 175 elements on x-axis; 20 is normalising factor\n",
    "plt.plot(cumulative_variance)"
   ]
  },
  {
   "cell_type": "code",
   "execution_count": 105,
   "metadata": {},
   "outputs": [],
   "source": [
    "# create pipeline\n",
    "PCA_VARS = 6\n",
    "steps = [(\"pca\", PCA(n_components=PCA_VARS)),\n",
    "         (\"logistic\", LogisticRegression(class_weight='balanced'))\n",
    "        ]\n",
    "pipeline = Pipeline(steps)"
   ]
  },
  {
   "cell_type": "code",
   "execution_count": 106,
   "metadata": {},
   "outputs": [
    {
     "data": {
      "text/plain": [
       "0.5967624325506782"
      ]
     },
     "execution_count": 106,
     "metadata": {},
     "output_type": "execute_result"
    }
   ],
   "source": [
    "# fit model\n",
    "pipeline.fit(X_train1, y_train1)\n",
    "\n",
    "# check score on train data\n",
    "pipeline.score(X_train1, y_train1)"
   ]
  },
  {
   "cell_type": "code",
   "execution_count": 107,
   "metadata": {},
   "outputs": [
    {
     "name": "stdout",
     "output_type": "stream",
     "text": [
      "[[11738  7959]\n",
      " [  310   564]]\n",
      "Sensitivity: \t0.65\n",
      "Specificity: \t0.6\n",
      "AUC:    \t 0.66\n"
     ]
    }
   ],
   "source": [
    "# predict churn on test data\n",
    "y_pred1 = pipeline.predict(X_test1)\n",
    "\n",
    "# create onfusion matrix\n",
    "cm = confusion_matrix(y_test1, y_pred1)\n",
    "print(cm)\n",
    "\n",
    "# check sensitivity and specificity\n",
    "sensitivity, specificity, _ = sensitivity_specificity_support(y_test1, y_pred1, average='binary')\n",
    "print(\"Sensitivity: \\t\", round(sensitivity, 2), \"\\n\", \"Specificity: \\t\", round(specificity, 2), sep='')\n",
    "\n",
    "# check area under curve\n",
    "y_pred_prob1 = pipeline.predict_proba(X_test1)[:, 1]\n",
    "print(\"AUC:    \\t\", round(roc_auc_score(y_test1, y_pred_prob1),2))"
   ]
  },
  {
   "cell_type": "code",
   "execution_count": 108,
   "metadata": {},
   "outputs": [
    {
     "data": {
      "text/plain": [
       "0.0    0.957937\n",
       "1.0    0.042063\n",
       "Name: Performance Tag_x, dtype: float64"
      ]
     },
     "execution_count": 108,
     "metadata": {},
     "output_type": "execute_result"
    }
   ],
   "source": [
    "# class imbalance\n",
    "y_train1.value_counts()/y_train1.shape"
   ]
  },
  {
   "cell_type": "code",
   "execution_count": 109,
   "metadata": {},
   "outputs": [],
   "source": [
    "# PCA\n",
    "pca = PCA()\n",
    "\n",
    "# logistic regression - the class weight is used to handle class imbalance - it adjusts the cost function\n",
    "logistic = LogisticRegression(class_weight='balanced')\n",
    "\n",
    "# create pipeline\n",
    "steps = [(\"pca\", pca),\n",
    "         (\"logistic\", logistic)\n",
    "        ]\n",
    "\n",
    "# compile pipeline\n",
    "pca_logistic = Pipeline(steps)\n",
    "\n",
    "# hyperparameter space\n",
    "params = {'pca__n_components': [5,6,7,8,9,10,11,12,13,14,15,16,17,18], 'logistic__C': [0.1, 0.5, 1, 2, 3, 4, 5, 10], 'logistic__penalty': ['l1', 'l2']}\n",
    "\n",
    "# create 5 folds\n",
    "folds = StratifiedKFold(n_splits = 5, shuffle = True, random_state = 4)\n",
    "\n",
    "# create gridsearch object\n",
    "model = GridSearchCV(estimator=pca_logistic, cv=folds, param_grid=params, scoring='roc_auc')"
   ]
  },
  {
   "cell_type": "code",
   "execution_count": 110,
   "metadata": {},
   "outputs": [
    {
     "data": {
      "text/plain": [
       "GridSearchCV(cv=StratifiedKFold(n_splits=5, random_state=4, shuffle=True),\n",
       "             error_score=nan,\n",
       "             estimator=Pipeline(memory=None,\n",
       "                                steps=[('pca',\n",
       "                                        PCA(copy=True, iterated_power='auto',\n",
       "                                            n_components=None,\n",
       "                                            random_state=None,\n",
       "                                            svd_solver='auto', tol=0.0,\n",
       "                                            whiten=False)),\n",
       "                                       ('logistic',\n",
       "                                        LogisticRegression(C=1.0,\n",
       "                                                           class_weight='balanced',\n",
       "                                                           dual=False,\n",
       "                                                           fit_intercept=True,\n",
       "                                                           intercept_sca...\n",
       "                                                           penalty='l2',\n",
       "                                                           random_state=None,\n",
       "                                                           solver='lbfgs',\n",
       "                                                           tol=0.0001,\n",
       "                                                           verbose=0,\n",
       "                                                           warm_start=False))],\n",
       "                                verbose=False),\n",
       "             iid='deprecated', n_jobs=None,\n",
       "             param_grid={'logistic__C': [0.1, 0.5, 1, 2, 3, 4, 5, 10],\n",
       "                         'logistic__penalty': ['l1', 'l2'],\n",
       "                         'pca__n_components': [5, 6, 7, 8, 9, 10, 11, 12, 13,\n",
       "                                               14, 15, 16, 17, 18]},\n",
       "             pre_dispatch='2*n_jobs', refit=True, return_train_score=False,\n",
       "             scoring='roc_auc', verbose=0)"
      ]
     },
     "execution_count": 110,
     "metadata": {},
     "output_type": "execute_result"
    }
   ],
   "source": [
    "# fit model\n",
    "model.fit(X_train1, y_train1)"
   ]
  },
  {
   "cell_type": "code",
   "execution_count": 111,
   "metadata": {},
   "outputs": [
    {
     "name": "stdout",
     "output_type": "stream",
     "text": [
      "Best AUC:  0.6677593159722017\n",
      "Best hyperparameters:  {'logistic__C': 0.1, 'logistic__penalty': 'l2', 'pca__n_components': 14}\n"
     ]
    }
   ],
   "source": [
    "# Best Paramters\n",
    "print(\"Best AUC: \", model.best_score_)\n",
    "print(\"Best hyperparameters: \", model.best_params_)"
   ]
  },
  {
   "cell_type": "code",
   "execution_count": 112,
   "metadata": {},
   "outputs": [
    {
     "name": "stdout",
     "output_type": "stream",
     "text": [
      "[[11564  8133]\n",
      " [  284   590]]\n",
      "Sensitivity: \t0.68\n",
      "Specificity: \t0.59\n",
      "AUC:    \t 0.67\n"
     ]
    }
   ],
   "source": [
    "# predict churn on test data\n",
    "y_pred1 = model.predict(X_test1)\n",
    "\n",
    "# create onfusion matrix\n",
    "cm = confusion_matrix(y_test1, y_pred1)\n",
    "print(cm)\n",
    "\n",
    "# check sensitivity and specificity\n",
    "sensitivity, specificity, _ = sensitivity_specificity_support(y_test1, y_pred1, average='binary')\n",
    "print(\"Sensitivity: \\t\", round(sensitivity, 2), \"\\n\", \"Specificity: \\t\", round(specificity, 2), sep='')\n",
    "\n",
    "# check area under curve\n",
    "y_pred_prob1 = model.predict_proba(X_test1)[:, 1]\n",
    "print(\"AUC:    \\t\", round(roc_auc_score(y_test1, y_pred_prob1),2))"
   ]
  },
  {
   "cell_type": "code",
   "execution_count": 113,
   "metadata": {},
   "outputs": [
    {
     "name": "stdout",
     "output_type": "stream",
     "text": [
      "              precision    recall  f1-score   support\n",
      "\n",
      "         0.0       0.98      0.59      0.73     19697\n",
      "         1.0       0.07      0.68      0.12       874\n",
      "\n",
      "    accuracy                           0.59     20571\n",
      "   macro avg       0.52      0.63      0.43     20571\n",
      "weighted avg       0.94      0.59      0.71     20571\n",
      "\n"
     ]
    }
   ],
   "source": [
    "from sklearn.metrics import classification_report\n",
    "print(classification_report(y_test1,y_pred1))"
   ]
  },
  {
   "cell_type": "markdown",
   "metadata": {},
   "source": [
    "#### Random Forest"
   ]
  },
  {
   "cell_type": "code",
   "execution_count": 118,
   "metadata": {},
   "outputs": [],
   "source": [
    "#class weight to handle class imbalance\n",
    "forest = RandomForestClassifier(class_weight='balanced_subsample')\n",
    "\n",
    "# hyperparameter space\n",
    "params = {'max_depth':[6,10], 'min_samples_leaf':range(50,75),\n",
    "         'min_samples_split':range(50,75),\n",
    "         'n_estimators':[150,200], 'max_features':[6,8,10]}\n",
    "\n",
    "# create gridsearch object\n",
    "rf = GridSearchCV(estimator=forest, cv=3, param_grid=params, scoring='roc_auc', n_jobs=-1, verbose=1)"
   ]
  },
  {
   "cell_type": "code",
   "execution_count": null,
   "metadata": {},
   "outputs": [
    {
     "name": "stdout",
     "output_type": "stream",
     "text": [
      "Fitting 3 folds for each of 7500 candidates, totalling 22500 fits\n"
     ]
    },
    {
     "name": "stderr",
     "output_type": "stream",
     "text": [
      "[Parallel(n_jobs=-1)]: Using backend LokyBackend with 4 concurrent workers.\n",
      "[Parallel(n_jobs=-1)]: Done  42 tasks      | elapsed:  3.3min\n",
      "[Parallel(n_jobs=-1)]: Done 192 tasks      | elapsed: 13.7min\n"
     ]
    }
   ],
   "source": [
    "# fit model\n",
    "rf.fit(X_train1, y_train1)"
   ]
  },
  {
   "cell_type": "code",
   "execution_count": null,
   "metadata": {},
   "outputs": [],
   "source": [
    "# print best hyperparameters\n",
    "print(\"Best AUC: \", rf.best_score_)\n",
    "print(\"Best hyperparameters: \", rf.best_params_)"
   ]
  },
  {
   "cell_type": "code",
   "execution_count": 117,
   "metadata": {},
   "outputs": [],
   "source": [
    "# Model with the best hyperparameters\n",
    "rfc = RandomForestClassifier(bootstrap=True,\n",
    "                             class_weight='balanced_subsample',\n",
    "                            max_depth=10,\n",
    "                            max_features=20,\n",
    "                            min_samples_leaf=50,\n",
    "                            min_samples_split=50,\n",
    "                            n_estimators=200)"
   ]
  },
  {
   "cell_type": "code",
   "execution_count": null,
   "metadata": {},
   "outputs": [],
   "source": [
    "# fit\n",
    "rfc.fit(X_train1,y_train1)"
   ]
  },
  {
   "cell_type": "code",
   "execution_count": null,
   "metadata": {},
   "outputs": [],
   "source": [
    "predictions = rfc.predict(X_test1)"
   ]
  },
  {
   "cell_type": "code",
   "execution_count": null,
   "metadata": {},
   "outputs": [],
   "source": [
    "# Evaluation metrics\n",
    "print(classification_report(y_test,predictions))"
   ]
  },
  {
   "cell_type": "code",
   "execution_count": null,
   "metadata": {},
   "outputs": [],
   "source": [
    "# create confusion matrix\n",
    "cm = confusion_matrix(y_test, y_pred)\n",
    "print(cm)\n",
    "\n",
    "# check sensitivity and specificity\n",
    "sensitivity, specificity, _ = sensitivity_specificity_support(y_test, predictions, average='binary')\n",
    "print(\"Sensitivity: \\t\", round(sensitivity, 2), \"\\n\", \"Specificity: \\t\", round(specificity, 2), sep='')\n",
    "\n",
    "# check area under curve\n",
    "y_pred_prob = rfc.predict_proba(X_test)[:, 1]\n",
    "print(\"ROC:    \\t\", round(roc_auc_score(y_test, y_pred_prob),2))"
   ]
  },
  {
   "cell_type": "code",
   "execution_count": null,
   "metadata": {},
   "outputs": [],
   "source": [
    "# predictors\n",
    "features = X_train1.columns\n",
    "\n",
    "# feature_importance\n",
    "importance = rfc.feature_importances_\n",
    "\n",
    "# create dataframe\n",
    "feature_importance = pd.DataFrame({'variables': features, 'importance_percentage': importance*100})\n",
    "feature_importance = feature_importance[['variables', 'importance_percentage']]\n",
    "\n",
    "# sort features\n",
    "feature_importance = feature_importance.sort_values('importance_percentage', ascending=False).reset_index(drop=True)\n",
    "print(\"Sum of importance=\", feature_importance.importance_percentage.sum())\n",
    "feature_importance"
   ]
  },
  {
   "cell_type": "code",
   "execution_count": null,
   "metadata": {},
   "outputs": [],
   "source": [
    "#top features\n",
    "top_features = feature_importance.variables[0:10]\n",
    "print(top_features)"
   ]
  }
 ],
 "metadata": {
  "kernelspec": {
   "display_name": "Python 3",
   "language": "python",
   "name": "python3"
  },
  "language_info": {
   "codemirror_mode": {
    "name": "ipython",
    "version": 3
   },
   "file_extension": ".py",
   "mimetype": "text/x-python",
   "name": "python",
   "nbconvert_exporter": "python",
   "pygments_lexer": "ipython3",
   "version": "3.7.4"
  }
 },
 "nbformat": 4,
 "nbformat_minor": 2
}
